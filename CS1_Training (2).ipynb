{
 "cells": [
  {
   "cell_type": "markdown",
   "metadata": {
    "id": "JvObiFoN2h1d"
   },
   "source": [
    "# Diabetes 130 US hospitals for years 1999-2008 (Diabetes - readmission)\n",
    "## Modelling\n",
    "* In this notebook, I have trained final dataset obtained after preprocessing. \n",
    "* Our main metric to for comparision will be \"f1_score\".\n",
    "* We will take two cases, one with the texts and other without texts.\n",
    "* In the case with the texts, i will use Bag of words (BoW) and TfIDF vectorizers.\n",
    "* We will train 4 models- Logistic Regression, Decision Tree, Random Forest and XGBoost."
   ]
  },
  {
   "cell_type": "code",
   "execution_count": 1,
   "metadata": {
    "id": "DVuHR47W2h1l"
   },
   "outputs": [],
   "source": [
    "import numpy as np\n",
    "import pandas as pd\n",
    "import matplotlib.pyplot as plt\n",
    "import seaborn as sns\n",
    "%matplotlib inline\n",
    "import nltk\n",
    "from sklearn.feature_extraction.text import TfidfVectorizer\n",
    "from sklearn.feature_extraction.text import CountVectorizer\n",
    "from sklearn.metrics import confusion_matrix\n",
    "from sklearn import metrics\n",
    "from sklearn.metrics import roc_curve, auc\n",
    "import re\n",
    "import pickle\n",
    "from tqdm import tqdm\n",
    "import os\n",
    "from collections import Counter"
   ]
  },
  {
   "cell_type": "code",
   "execution_count": 2,
   "metadata": {
    "colab": {
     "base_uri": "https://localhost:8080/"
    },
    "id": "dGE8kGvM3Hsf",
    "outputId": "cc3bbb78-ec59-4b9c-9ceb-a87c575a9b85"
   },
   "outputs": [
    {
     "name": "stdout",
     "output_type": "stream",
     "text": [
      "Mounted at /content/drive\n"
     ]
    }
   ],
   "source": [
    "from google.colab import drive\n",
    "drive.mount('/content/drive')"
   ]
  },
  {
   "cell_type": "code",
   "execution_count": 3,
   "metadata": {
    "colab": {
     "base_uri": "https://localhost:8080/",
     "height": 534
    },
    "id": "d8aWwJHz2h1q",
    "outputId": "883ac6eb-e79f-41b0-ee2f-505c7014ad31"
   },
   "outputs": [
    {
     "data": {
      "text/html": [
       "<div>\n",
       "<style scoped>\n",
       "    .dataframe tbody tr th:only-of-type {\n",
       "        vertical-align: middle;\n",
       "    }\n",
       "\n",
       "    .dataframe tbody tr th {\n",
       "        vertical-align: top;\n",
       "    }\n",
       "\n",
       "    .dataframe thead th {\n",
       "        text-align: right;\n",
       "    }\n",
       "</style>\n",
       "<table border=\"1\" class=\"dataframe\">\n",
       "  <thead>\n",
       "    <tr style=\"text-align: right;\">\n",
       "      <th></th>\n",
       "      <th>Unnamed: 0</th>\n",
       "      <th>Unnamed: 0.1</th>\n",
       "      <th>encounter_id</th>\n",
       "      <th>patient_nbr</th>\n",
       "      <th>race</th>\n",
       "      <th>gender</th>\n",
       "      <th>age</th>\n",
       "      <th>admission_type_id</th>\n",
       "      <th>discharge_disposition_id</th>\n",
       "      <th>admission_source_id</th>\n",
       "      <th>time_in_hospital</th>\n",
       "      <th>num_lab_procedures</th>\n",
       "      <th>num_procedures</th>\n",
       "      <th>num_medications</th>\n",
       "      <th>number_outpatient</th>\n",
       "      <th>number_emergency</th>\n",
       "      <th>number_inpatient</th>\n",
       "      <th>number_diagnoses</th>\n",
       "      <th>max_glu_serum</th>\n",
       "      <th>A1Cresult</th>\n",
       "      <th>metformin</th>\n",
       "      <th>repaglinide</th>\n",
       "      <th>nateglinide</th>\n",
       "      <th>chlorpropamide</th>\n",
       "      <th>glimepiride</th>\n",
       "      <th>acetohexamide</th>\n",
       "      <th>glipizide</th>\n",
       "      <th>glyburide</th>\n",
       "      <th>tolbutamide</th>\n",
       "      <th>pioglitazone</th>\n",
       "      <th>rosiglitazone</th>\n",
       "      <th>acarbose</th>\n",
       "      <th>miglitol</th>\n",
       "      <th>troglitazone</th>\n",
       "      <th>tolazamide</th>\n",
       "      <th>examide</th>\n",
       "      <th>citoglipton</th>\n",
       "      <th>insulin</th>\n",
       "      <th>glyburide-metformin</th>\n",
       "      <th>glipizide-metformin</th>\n",
       "      <th>glimepiride-pioglitazone</th>\n",
       "      <th>metformin-rosiglitazone</th>\n",
       "      <th>metformin-pioglitazone</th>\n",
       "      <th>change</th>\n",
       "      <th>diabetesMed</th>\n",
       "      <th>readmitted</th>\n",
       "      <th>diag_1_des</th>\n",
       "      <th>diag_2_des</th>\n",
       "      <th>diag_3_des</th>\n",
       "      <th>disch_description</th>\n",
       "      <th>admit_description</th>\n",
       "      <th>procedure_per_med</th>\n",
       "      <th>num_med_up</th>\n",
       "      <th>num_med_used</th>\n",
       "      <th>count_encounter</th>\n",
       "    </tr>\n",
       "  </thead>\n",
       "  <tbody>\n",
       "    <tr>\n",
       "      <th>0</th>\n",
       "      <td>0</td>\n",
       "      <td>0</td>\n",
       "      <td>2278392</td>\n",
       "      <td>8222157</td>\n",
       "      <td>Caucasian</td>\n",
       "      <td>Female</td>\n",
       "      <td>5.0</td>\n",
       "      <td>6</td>\n",
       "      <td>25</td>\n",
       "      <td>1</td>\n",
       "      <td>1</td>\n",
       "      <td>41</td>\n",
       "      <td>0</td>\n",
       "      <td>1</td>\n",
       "      <td>0</td>\n",
       "      <td>0</td>\n",
       "      <td>0</td>\n",
       "      <td>1</td>\n",
       "      <td>None</td>\n",
       "      <td>None</td>\n",
       "      <td>No</td>\n",
       "      <td>No</td>\n",
       "      <td>No</td>\n",
       "      <td>No</td>\n",
       "      <td>No</td>\n",
       "      <td>No</td>\n",
       "      <td>No</td>\n",
       "      <td>No</td>\n",
       "      <td>No</td>\n",
       "      <td>No</td>\n",
       "      <td>No</td>\n",
       "      <td>No</td>\n",
       "      <td>No</td>\n",
       "      <td>No</td>\n",
       "      <td>No</td>\n",
       "      <td>No</td>\n",
       "      <td>No</td>\n",
       "      <td>No</td>\n",
       "      <td>No</td>\n",
       "      <td>No</td>\n",
       "      <td>No</td>\n",
       "      <td>No</td>\n",
       "      <td>No</td>\n",
       "      <td>No</td>\n",
       "      <td>No</td>\n",
       "      <td>NO</td>\n",
       "      <td>Diabetes with other specified manifestations t...</td>\n",
       "      <td>diabetes mellitus</td>\n",
       "      <td>diabetes mellitus</td>\n",
       "      <td>Reserved National Assignment</td>\n",
       "      <td>Physician Referral</td>\n",
       "      <td>41.000000</td>\n",
       "      <td>0</td>\n",
       "      <td>0</td>\n",
       "      <td>1</td>\n",
       "    </tr>\n",
       "    <tr>\n",
       "      <th>1</th>\n",
       "      <td>1</td>\n",
       "      <td>1</td>\n",
       "      <td>149190</td>\n",
       "      <td>55629189</td>\n",
       "      <td>Caucasian</td>\n",
       "      <td>Female</td>\n",
       "      <td>15.0</td>\n",
       "      <td>1</td>\n",
       "      <td>1</td>\n",
       "      <td>7</td>\n",
       "      <td>3</td>\n",
       "      <td>59</td>\n",
       "      <td>0</td>\n",
       "      <td>18</td>\n",
       "      <td>0</td>\n",
       "      <td>0</td>\n",
       "      <td>0</td>\n",
       "      <td>9</td>\n",
       "      <td>None</td>\n",
       "      <td>None</td>\n",
       "      <td>No</td>\n",
       "      <td>No</td>\n",
       "      <td>No</td>\n",
       "      <td>No</td>\n",
       "      <td>No</td>\n",
       "      <td>No</td>\n",
       "      <td>No</td>\n",
       "      <td>No</td>\n",
       "      <td>No</td>\n",
       "      <td>No</td>\n",
       "      <td>No</td>\n",
       "      <td>No</td>\n",
       "      <td>No</td>\n",
       "      <td>No</td>\n",
       "      <td>No</td>\n",
       "      <td>No</td>\n",
       "      <td>No</td>\n",
       "      <td>Up</td>\n",
       "      <td>No</td>\n",
       "      <td>No</td>\n",
       "      <td>No</td>\n",
       "      <td>No</td>\n",
       "      <td>No</td>\n",
       "      <td>Ch</td>\n",
       "      <td>Yes</td>\n",
       "      <td>&gt;30</td>\n",
       "      <td>Disorders of fluid electrolyte and acid-base b...</td>\n",
       "      <td>Diabetes mellitus without mention of complicat...</td>\n",
       "      <td>Disorders of adrenal glands</td>\n",
       "      <td>Discharged home self care routine charge</td>\n",
       "      <td>Emergency Room</td>\n",
       "      <td>3.277778</td>\n",
       "      <td>1</td>\n",
       "      <td>1</td>\n",
       "      <td>1</td>\n",
       "    </tr>\n",
       "    <tr>\n",
       "      <th>2</th>\n",
       "      <td>2</td>\n",
       "      <td>2</td>\n",
       "      <td>64410</td>\n",
       "      <td>86047875</td>\n",
       "      <td>AfricanAmerican</td>\n",
       "      <td>Female</td>\n",
       "      <td>25.0</td>\n",
       "      <td>1</td>\n",
       "      <td>1</td>\n",
       "      <td>7</td>\n",
       "      <td>2</td>\n",
       "      <td>11</td>\n",
       "      <td>5</td>\n",
       "      <td>13</td>\n",
       "      <td>2</td>\n",
       "      <td>0</td>\n",
       "      <td>1</td>\n",
       "      <td>6</td>\n",
       "      <td>None</td>\n",
       "      <td>None</td>\n",
       "      <td>No</td>\n",
       "      <td>No</td>\n",
       "      <td>No</td>\n",
       "      <td>No</td>\n",
       "      <td>No</td>\n",
       "      <td>No</td>\n",
       "      <td>Steady</td>\n",
       "      <td>No</td>\n",
       "      <td>No</td>\n",
       "      <td>No</td>\n",
       "      <td>No</td>\n",
       "      <td>No</td>\n",
       "      <td>No</td>\n",
       "      <td>No</td>\n",
       "      <td>No</td>\n",
       "      <td>No</td>\n",
       "      <td>No</td>\n",
       "      <td>No</td>\n",
       "      <td>No</td>\n",
       "      <td>No</td>\n",
       "      <td>No</td>\n",
       "      <td>No</td>\n",
       "      <td>No</td>\n",
       "      <td>No</td>\n",
       "      <td>Yes</td>\n",
       "      <td>NO</td>\n",
       "      <td>Other current conditions in the mother classif...</td>\n",
       "      <td>diabetes mellitus</td>\n",
       "      <td>Outcome of delivery</td>\n",
       "      <td>Discharged home self care routine charge</td>\n",
       "      <td>Emergency Room</td>\n",
       "      <td>1.230769</td>\n",
       "      <td>0</td>\n",
       "      <td>1</td>\n",
       "      <td>1</td>\n",
       "    </tr>\n",
       "    <tr>\n",
       "      <th>3</th>\n",
       "      <td>3</td>\n",
       "      <td>3</td>\n",
       "      <td>500364</td>\n",
       "      <td>82442376</td>\n",
       "      <td>Caucasian</td>\n",
       "      <td>Male</td>\n",
       "      <td>35.0</td>\n",
       "      <td>1</td>\n",
       "      <td>1</td>\n",
       "      <td>7</td>\n",
       "      <td>2</td>\n",
       "      <td>44</td>\n",
       "      <td>1</td>\n",
       "      <td>16</td>\n",
       "      <td>0</td>\n",
       "      <td>0</td>\n",
       "      <td>0</td>\n",
       "      <td>7</td>\n",
       "      <td>None</td>\n",
       "      <td>None</td>\n",
       "      <td>No</td>\n",
       "      <td>No</td>\n",
       "      <td>No</td>\n",
       "      <td>No</td>\n",
       "      <td>No</td>\n",
       "      <td>No</td>\n",
       "      <td>No</td>\n",
       "      <td>No</td>\n",
       "      <td>No</td>\n",
       "      <td>No</td>\n",
       "      <td>No</td>\n",
       "      <td>No</td>\n",
       "      <td>No</td>\n",
       "      <td>No</td>\n",
       "      <td>No</td>\n",
       "      <td>No</td>\n",
       "      <td>No</td>\n",
       "      <td>Up</td>\n",
       "      <td>No</td>\n",
       "      <td>No</td>\n",
       "      <td>No</td>\n",
       "      <td>No</td>\n",
       "      <td>No</td>\n",
       "      <td>Ch</td>\n",
       "      <td>Yes</td>\n",
       "      <td>NO</td>\n",
       "      <td>Intestinal infections due to other organisms</td>\n",
       "      <td>Diabetes with renal manifestations type I [juv...</td>\n",
       "      <td>Hypertensive chronic kidney disease</td>\n",
       "      <td>Discharged home self care routine charge</td>\n",
       "      <td>Emergency Room</td>\n",
       "      <td>2.812500</td>\n",
       "      <td>1</td>\n",
       "      <td>1</td>\n",
       "      <td>1</td>\n",
       "    </tr>\n",
       "    <tr>\n",
       "      <th>4</th>\n",
       "      <td>4</td>\n",
       "      <td>4</td>\n",
       "      <td>16680</td>\n",
       "      <td>42519267</td>\n",
       "      <td>Caucasian</td>\n",
       "      <td>Male</td>\n",
       "      <td>45.0</td>\n",
       "      <td>1</td>\n",
       "      <td>1</td>\n",
       "      <td>7</td>\n",
       "      <td>1</td>\n",
       "      <td>51</td>\n",
       "      <td>0</td>\n",
       "      <td>8</td>\n",
       "      <td>0</td>\n",
       "      <td>0</td>\n",
       "      <td>0</td>\n",
       "      <td>5</td>\n",
       "      <td>None</td>\n",
       "      <td>None</td>\n",
       "      <td>No</td>\n",
       "      <td>No</td>\n",
       "      <td>No</td>\n",
       "      <td>No</td>\n",
       "      <td>No</td>\n",
       "      <td>No</td>\n",
       "      <td>Steady</td>\n",
       "      <td>No</td>\n",
       "      <td>No</td>\n",
       "      <td>No</td>\n",
       "      <td>No</td>\n",
       "      <td>No</td>\n",
       "      <td>No</td>\n",
       "      <td>No</td>\n",
       "      <td>No</td>\n",
       "      <td>No</td>\n",
       "      <td>No</td>\n",
       "      <td>Steady</td>\n",
       "      <td>No</td>\n",
       "      <td>No</td>\n",
       "      <td>No</td>\n",
       "      <td>No</td>\n",
       "      <td>No</td>\n",
       "      <td>Ch</td>\n",
       "      <td>Yes</td>\n",
       "      <td>NO</td>\n",
       "      <td>Secondary malignant neoplasm of respiratory an...</td>\n",
       "      <td>Malignant neoplasm of pancreas</td>\n",
       "      <td>diabetes mellitus</td>\n",
       "      <td>Discharged home self care routine charge</td>\n",
       "      <td>Emergency Room</td>\n",
       "      <td>6.375000</td>\n",
       "      <td>0</td>\n",
       "      <td>2</td>\n",
       "      <td>1</td>\n",
       "    </tr>\n",
       "  </tbody>\n",
       "</table>\n",
       "</div>"
      ],
      "text/plain": [
       "   Unnamed: 0  Unnamed: 0.1  ...  num_med_used  count_encounter\n",
       "0           0             0  ...             0                1\n",
       "1           1             1  ...             1                1\n",
       "2           2             2  ...             1                1\n",
       "3           3             3  ...             1                1\n",
       "4           4             4  ...             2                1\n",
       "\n",
       "[5 rows x 55 columns]"
      ]
     },
     "execution_count": 3,
     "metadata": {
      "tags": []
     },
     "output_type": "execute_result"
    }
   ],
   "source": [
    "df = pd.read_csv('drive/MyDrive/preprocessed_2.csv')\n",
    "df.head()"
   ]
  },
  {
   "cell_type": "code",
   "execution_count": 4,
   "metadata": {
    "id": "NGWfAuGc2h1q"
   },
   "outputs": [],
   "source": [
    "def label(x):\n",
    "    if x=='NO' or x=='>30':\n",
    "        return 0\n",
    "    elif x=='<30':\n",
    "        return 1\n",
    "df['readmitted'] = df['readmitted'].apply(label)"
   ]
  },
  {
   "cell_type": "code",
   "execution_count": null,
   "metadata": {
    "colab": {
     "base_uri": "https://localhost:8080/"
    },
    "id": "mE2ARTEj2h1r",
    "outputId": "579816b0-0695-4b89-efda-f881f7f3cdbf"
   },
   "outputs": [
    {
     "data": {
      "text/plain": [
       "0    90407\n",
       "1    11357\n",
       "Name: readmitted, dtype: int64"
      ]
     },
     "execution_count": 5,
     "metadata": {
      "tags": []
     },
     "output_type": "execute_result"
    }
   ],
   "source": [
    "df['readmitted'].value_counts()"
   ]
  },
  {
   "cell_type": "code",
   "execution_count": null,
   "metadata": {
    "colab": {
     "base_uri": "https://localhost:8080/"
    },
    "id": "mcsf5IDo2h1r",
    "outputId": "5cba3b04-f674-4b07-c360-4c5f6b93e8b4"
   },
   "outputs": [
    {
     "data": {
      "text/plain": [
       "Index(['Unnamed: 0', 'Unnamed: 0.1', 'encounter_id', 'patient_nbr', 'race',\n",
       "       'gender', 'age', 'admission_type_id', 'discharge_disposition_id',\n",
       "       'admission_source_id', 'time_in_hospital', 'num_lab_procedures',\n",
       "       'num_procedures', 'num_medications', 'number_outpatient',\n",
       "       'number_emergency', 'number_inpatient', 'number_diagnoses',\n",
       "       'max_glu_serum', 'A1Cresult', 'metformin', 'repaglinide', 'nateglinide',\n",
       "       'chlorpropamide', 'glimepiride', 'acetohexamide', 'glipizide',\n",
       "       'glyburide', 'tolbutamide', 'pioglitazone', 'rosiglitazone', 'acarbose',\n",
       "       'miglitol', 'troglitazone', 'tolazamide', 'examide', 'citoglipton',\n",
       "       'insulin', 'glyburide-metformin', 'glipizide-metformin',\n",
       "       'glimepiride-pioglitazone', 'metformin-rosiglitazone',\n",
       "       'metformin-pioglitazone', 'change', 'diabetesMed', 'readmitted',\n",
       "       'diag_1_des', 'diag_2_des', 'diag_3_des', 'disch_description',\n",
       "       'admit_description', 'procedure_per_med', 'num_med_up', 'num_med_used',\n",
       "       'count_encounter'],\n",
       "      dtype='object')"
      ]
     },
     "execution_count": 9,
     "metadata": {
      "tags": []
     },
     "output_type": "execute_result"
    }
   ],
   "source": [
    "df.columns"
   ]
  },
  {
   "cell_type": "code",
   "execution_count": null,
   "metadata": {
    "colab": {
     "base_uri": "https://localhost:8080/"
    },
    "id": "ChEXg5kt2h1s",
    "outputId": "53da8a39-5d4e-4953-c0c4-82ad4f36a8e1"
   },
   "outputs": [
    {
     "data": {
      "text/plain": [
       "(101764, 55)"
      ]
     },
     "execution_count": 6,
     "metadata": {
      "tags": []
     },
     "output_type": "execute_result"
    }
   ],
   "source": [
    "df.shape"
   ]
  },
  {
   "cell_type": "markdown",
   "metadata": {
    "id": "5Fpv2aDE2h1s"
   },
   "source": [
    "### Encoding Categorical features\n",
    "***'gender','race', 'max_glu_serum', 'A1Cresult', 'metformin', 'repaglinide', 'nateglinide',\n",
    "       'chlorpropamide', 'glimepiride', 'acetohexamide', 'glipizide',\n",
    "       'glyburide', 'tolbutamide', 'pioglitazone', 'rosiglitazone', 'acarbose',\n",
    "       'miglitol', 'troglitazone', 'tolazamide', 'examide', 'citoglipton',\n",
    "       'insulin', 'glyburide-metformin', 'glipizide-metformin',\n",
    "       'glimepiride-pioglitazone', 'metformin-rosiglitazone',\n",
    "       'metformin-pioglitazone', 'change', 'diabetesMed','change', 'diabetesMed'    ***"
   ]
  },
  {
   "cell_type": "code",
   "execution_count": 5,
   "metadata": {
    "id": "4-COQlLY2h1s"
   },
   "outputs": [],
   "source": [
    "from sklearn.preprocessing import OneHotEncoder\n",
    "\n",
    "df_dum = pd.get_dummies(df, columns=['gender','race', 'max_glu_serum', 'A1Cresult', 'metformin', 'repaglinide', 'nateglinide', 'chlorpropamide',\n",
    "                                     'glimepiride', 'acetohexamide', 'glipizide', 'glyburide', 'tolbutamide', 'pioglitazone', 'rosiglitazone', \n",
    "                                     'acarbose', 'miglitol', 'troglitazone', 'tolazamide', 'examide', 'citoglipton', 'insulin', 'glyburide-metformin', \n",
    "                                     'glipizide-metformin', 'glimepiride-pioglitazone', 'metformin-rosiglitazone', 'metformin-pioglitazone', \n",
    "                                     'change', 'diabetesMed','change', 'diabetesMed' ])\n"
   ]
  },
  {
   "cell_type": "code",
   "execution_count": null,
   "metadata": {
    "colab": {
     "base_uri": "https://localhost:8080/"
    },
    "id": "KO4LXk5-2h1t",
    "outputId": "fc0bcf85-4c2c-42e5-e06b-d6d208721615"
   },
   "outputs": [
    {
     "data": {
      "text/plain": [
       "Index(['Unnamed: 0', 'Unnamed: 0.1', 'encounter_id', 'patient_nbr', 'age',\n",
       "       'admission_type_id', 'discharge_disposition_id', 'admission_source_id',\n",
       "       'time_in_hospital', 'num_lab_procedures',\n",
       "       ...\n",
       "       'metformin-pioglitazone_No', 'metformin-pioglitazone_Steady',\n",
       "       'change_Ch', 'change_No', 'diabetesMed_No', 'diabetesMed_Yes',\n",
       "       'change_Ch', 'change_No', 'diabetesMed_No', 'diabetesMed_Yes'],\n",
       "      dtype='object', length=121)"
      ]
     },
     "execution_count": 6,
     "metadata": {
      "tags": []
     },
     "output_type": "execute_result"
    }
   ],
   "source": [
    "df_dum.columns"
   ]
  },
  {
   "cell_type": "code",
   "execution_count": null,
   "metadata": {
    "colab": {
     "base_uri": "https://localhost:8080/"
    },
    "id": "oi6uRNW72h1t",
    "outputId": "03f6c92f-2c52-40f3-ad80-dc36c1fd2928"
   },
   "outputs": [
    {
     "name": "stdout",
     "output_type": "stream",
     "text": [
      "Shape of dummy features for all categorical features: (101764, 121)\n"
     ]
    }
   ],
   "source": [
    "print(\"Shape of dummy features for all categoricalape of dummy features for all categorical features: (101764, 121) features:\",df_dum.shape)"
   ]
  },
  {
   "cell_type": "code",
   "execution_count": null,
   "metadata": {
    "colab": {
     "base_uri": "https://localhost:8080/",
     "height": 563
    },
    "id": "zLOOeGMg2h1u",
    "outputId": "30e3d128-95c5-419d-d697-ae66f2845ce2"
   },
   "outputs": [
    {
     "data": {
      "text/html": [
       "<div>\n",
       "<style scoped>\n",
       "    .dataframe tbody tr th:only-of-type {\n",
       "        vertical-align: middle;\n",
       "    }\n",
       "\n",
       "    .dataframe tbody tr th {\n",
       "        vertical-align: top;\n",
       "    }\n",
       "\n",
       "    .dataframe thead th {\n",
       "        text-align: right;\n",
       "    }\n",
       "</style>\n",
       "<table border=\"1\" class=\"dataframe\">\n",
       "  <thead>\n",
       "    <tr style=\"text-align: right;\">\n",
       "      <th></th>\n",
       "      <th>Unnamed: 0</th>\n",
       "      <th>Unnamed: 0.1</th>\n",
       "      <th>encounter_id</th>\n",
       "      <th>patient_nbr</th>\n",
       "      <th>age</th>\n",
       "      <th>admission_type_id</th>\n",
       "      <th>discharge_disposition_id</th>\n",
       "      <th>admission_source_id</th>\n",
       "      <th>time_in_hospital</th>\n",
       "      <th>num_lab_procedures</th>\n",
       "      <th>num_procedures</th>\n",
       "      <th>num_medications</th>\n",
       "      <th>number_outpatient</th>\n",
       "      <th>number_emergency</th>\n",
       "      <th>number_inpatient</th>\n",
       "      <th>number_diagnoses</th>\n",
       "      <th>readmitted</th>\n",
       "      <th>diag_1_des</th>\n",
       "      <th>diag_2_des</th>\n",
       "      <th>diag_3_des</th>\n",
       "      <th>disch_description</th>\n",
       "      <th>admit_description</th>\n",
       "      <th>procedure_per_med</th>\n",
       "      <th>num_med_up</th>\n",
       "      <th>num_med_used</th>\n",
       "      <th>count_encounter</th>\n",
       "      <th>gender_Female</th>\n",
       "      <th>gender_Male</th>\n",
       "      <th>gender_Unknown/Invalid</th>\n",
       "      <th>race_AfricanAmerican</th>\n",
       "      <th>race_Asian</th>\n",
       "      <th>race_Caucasian</th>\n",
       "      <th>race_Hispanic</th>\n",
       "      <th>race_Other</th>\n",
       "      <th>max_glu_serum_&gt;200</th>\n",
       "      <th>max_glu_serum_&gt;300</th>\n",
       "      <th>max_glu_serum_None</th>\n",
       "      <th>max_glu_serum_Norm</th>\n",
       "      <th>A1Cresult_&gt;7</th>\n",
       "      <th>A1Cresult_&gt;8</th>\n",
       "      <th>...</th>\n",
       "      <th>rosiglitazone_Up</th>\n",
       "      <th>acarbose_Down</th>\n",
       "      <th>acarbose_No</th>\n",
       "      <th>acarbose_Steady</th>\n",
       "      <th>acarbose_Up</th>\n",
       "      <th>miglitol_Down</th>\n",
       "      <th>miglitol_No</th>\n",
       "      <th>miglitol_Steady</th>\n",
       "      <th>miglitol_Up</th>\n",
       "      <th>troglitazone_No</th>\n",
       "      <th>troglitazone_Steady</th>\n",
       "      <th>tolazamide_No</th>\n",
       "      <th>tolazamide_Steady</th>\n",
       "      <th>tolazamide_Up</th>\n",
       "      <th>examide_No</th>\n",
       "      <th>citoglipton_No</th>\n",
       "      <th>insulin_Down</th>\n",
       "      <th>insulin_No</th>\n",
       "      <th>insulin_Steady</th>\n",
       "      <th>insulin_Up</th>\n",
       "      <th>glyburide-metformin_Down</th>\n",
       "      <th>glyburide-metformin_No</th>\n",
       "      <th>glyburide-metformin_Steady</th>\n",
       "      <th>glyburide-metformin_Up</th>\n",
       "      <th>glipizide-metformin_No</th>\n",
       "      <th>glipizide-metformin_Steady</th>\n",
       "      <th>glimepiride-pioglitazone_No</th>\n",
       "      <th>glimepiride-pioglitazone_Steady</th>\n",
       "      <th>metformin-rosiglitazone_No</th>\n",
       "      <th>metformin-rosiglitazone_Steady</th>\n",
       "      <th>metformin-pioglitazone_No</th>\n",
       "      <th>metformin-pioglitazone_Steady</th>\n",
       "      <th>change_Ch</th>\n",
       "      <th>change_No</th>\n",
       "      <th>diabetesMed_No</th>\n",
       "      <th>diabetesMed_Yes</th>\n",
       "      <th>change_Ch</th>\n",
       "      <th>change_No</th>\n",
       "      <th>diabetesMed_No</th>\n",
       "      <th>diabetesMed_Yes</th>\n",
       "    </tr>\n",
       "  </thead>\n",
       "  <tbody>\n",
       "    <tr>\n",
       "      <th>0</th>\n",
       "      <td>0</td>\n",
       "      <td>0</td>\n",
       "      <td>2278392</td>\n",
       "      <td>8222157</td>\n",
       "      <td>5.0</td>\n",
       "      <td>6</td>\n",
       "      <td>25</td>\n",
       "      <td>1</td>\n",
       "      <td>1</td>\n",
       "      <td>41</td>\n",
       "      <td>0</td>\n",
       "      <td>1</td>\n",
       "      <td>0</td>\n",
       "      <td>0</td>\n",
       "      <td>0</td>\n",
       "      <td>1</td>\n",
       "      <td>0</td>\n",
       "      <td>Diabetes with other specified manifestations t...</td>\n",
       "      <td>diabetes mellitus</td>\n",
       "      <td>diabetes mellitus</td>\n",
       "      <td>Reserved National Assignment</td>\n",
       "      <td>Physician Referral</td>\n",
       "      <td>41.000000</td>\n",
       "      <td>0</td>\n",
       "      <td>0</td>\n",
       "      <td>1</td>\n",
       "      <td>1</td>\n",
       "      <td>0</td>\n",
       "      <td>0</td>\n",
       "      <td>0</td>\n",
       "      <td>0</td>\n",
       "      <td>1</td>\n",
       "      <td>0</td>\n",
       "      <td>0</td>\n",
       "      <td>0</td>\n",
       "      <td>0</td>\n",
       "      <td>1</td>\n",
       "      <td>0</td>\n",
       "      <td>0</td>\n",
       "      <td>0</td>\n",
       "      <td>...</td>\n",
       "      <td>0</td>\n",
       "      <td>0</td>\n",
       "      <td>1</td>\n",
       "      <td>0</td>\n",
       "      <td>0</td>\n",
       "      <td>0</td>\n",
       "      <td>1</td>\n",
       "      <td>0</td>\n",
       "      <td>0</td>\n",
       "      <td>1</td>\n",
       "      <td>0</td>\n",
       "      <td>1</td>\n",
       "      <td>0</td>\n",
       "      <td>0</td>\n",
       "      <td>1</td>\n",
       "      <td>1</td>\n",
       "      <td>0</td>\n",
       "      <td>1</td>\n",
       "      <td>0</td>\n",
       "      <td>0</td>\n",
       "      <td>0</td>\n",
       "      <td>1</td>\n",
       "      <td>0</td>\n",
       "      <td>0</td>\n",
       "      <td>1</td>\n",
       "      <td>0</td>\n",
       "      <td>1</td>\n",
       "      <td>0</td>\n",
       "      <td>1</td>\n",
       "      <td>0</td>\n",
       "      <td>1</td>\n",
       "      <td>0</td>\n",
       "      <td>0</td>\n",
       "      <td>1</td>\n",
       "      <td>1</td>\n",
       "      <td>0</td>\n",
       "      <td>0</td>\n",
       "      <td>1</td>\n",
       "      <td>1</td>\n",
       "      <td>0</td>\n",
       "    </tr>\n",
       "    <tr>\n",
       "      <th>1</th>\n",
       "      <td>1</td>\n",
       "      <td>1</td>\n",
       "      <td>149190</td>\n",
       "      <td>55629189</td>\n",
       "      <td>15.0</td>\n",
       "      <td>1</td>\n",
       "      <td>1</td>\n",
       "      <td>7</td>\n",
       "      <td>3</td>\n",
       "      <td>59</td>\n",
       "      <td>0</td>\n",
       "      <td>18</td>\n",
       "      <td>0</td>\n",
       "      <td>0</td>\n",
       "      <td>0</td>\n",
       "      <td>9</td>\n",
       "      <td>0</td>\n",
       "      <td>Disorders of fluid electrolyte and acid-base b...</td>\n",
       "      <td>Diabetes mellitus without mention of complicat...</td>\n",
       "      <td>Disorders of adrenal glands</td>\n",
       "      <td>Discharged home self care routine charge</td>\n",
       "      <td>Emergency Room</td>\n",
       "      <td>3.277778</td>\n",
       "      <td>1</td>\n",
       "      <td>1</td>\n",
       "      <td>1</td>\n",
       "      <td>1</td>\n",
       "      <td>0</td>\n",
       "      <td>0</td>\n",
       "      <td>0</td>\n",
       "      <td>0</td>\n",
       "      <td>1</td>\n",
       "      <td>0</td>\n",
       "      <td>0</td>\n",
       "      <td>0</td>\n",
       "      <td>0</td>\n",
       "      <td>1</td>\n",
       "      <td>0</td>\n",
       "      <td>0</td>\n",
       "      <td>0</td>\n",
       "      <td>...</td>\n",
       "      <td>0</td>\n",
       "      <td>0</td>\n",
       "      <td>1</td>\n",
       "      <td>0</td>\n",
       "      <td>0</td>\n",
       "      <td>0</td>\n",
       "      <td>1</td>\n",
       "      <td>0</td>\n",
       "      <td>0</td>\n",
       "      <td>1</td>\n",
       "      <td>0</td>\n",
       "      <td>1</td>\n",
       "      <td>0</td>\n",
       "      <td>0</td>\n",
       "      <td>1</td>\n",
       "      <td>1</td>\n",
       "      <td>0</td>\n",
       "      <td>0</td>\n",
       "      <td>0</td>\n",
       "      <td>1</td>\n",
       "      <td>0</td>\n",
       "      <td>1</td>\n",
       "      <td>0</td>\n",
       "      <td>0</td>\n",
       "      <td>1</td>\n",
       "      <td>0</td>\n",
       "      <td>1</td>\n",
       "      <td>0</td>\n",
       "      <td>1</td>\n",
       "      <td>0</td>\n",
       "      <td>1</td>\n",
       "      <td>0</td>\n",
       "      <td>1</td>\n",
       "      <td>0</td>\n",
       "      <td>0</td>\n",
       "      <td>1</td>\n",
       "      <td>1</td>\n",
       "      <td>0</td>\n",
       "      <td>0</td>\n",
       "      <td>1</td>\n",
       "    </tr>\n",
       "    <tr>\n",
       "      <th>2</th>\n",
       "      <td>2</td>\n",
       "      <td>2</td>\n",
       "      <td>64410</td>\n",
       "      <td>86047875</td>\n",
       "      <td>25.0</td>\n",
       "      <td>1</td>\n",
       "      <td>1</td>\n",
       "      <td>7</td>\n",
       "      <td>2</td>\n",
       "      <td>11</td>\n",
       "      <td>5</td>\n",
       "      <td>13</td>\n",
       "      <td>2</td>\n",
       "      <td>0</td>\n",
       "      <td>1</td>\n",
       "      <td>6</td>\n",
       "      <td>0</td>\n",
       "      <td>Other current conditions in the mother classif...</td>\n",
       "      <td>diabetes mellitus</td>\n",
       "      <td>Outcome of delivery</td>\n",
       "      <td>Discharged home self care routine charge</td>\n",
       "      <td>Emergency Room</td>\n",
       "      <td>1.230769</td>\n",
       "      <td>0</td>\n",
       "      <td>1</td>\n",
       "      <td>1</td>\n",
       "      <td>1</td>\n",
       "      <td>0</td>\n",
       "      <td>0</td>\n",
       "      <td>1</td>\n",
       "      <td>0</td>\n",
       "      <td>0</td>\n",
       "      <td>0</td>\n",
       "      <td>0</td>\n",
       "      <td>0</td>\n",
       "      <td>0</td>\n",
       "      <td>1</td>\n",
       "      <td>0</td>\n",
       "      <td>0</td>\n",
       "      <td>0</td>\n",
       "      <td>...</td>\n",
       "      <td>0</td>\n",
       "      <td>0</td>\n",
       "      <td>1</td>\n",
       "      <td>0</td>\n",
       "      <td>0</td>\n",
       "      <td>0</td>\n",
       "      <td>1</td>\n",
       "      <td>0</td>\n",
       "      <td>0</td>\n",
       "      <td>1</td>\n",
       "      <td>0</td>\n",
       "      <td>1</td>\n",
       "      <td>0</td>\n",
       "      <td>0</td>\n",
       "      <td>1</td>\n",
       "      <td>1</td>\n",
       "      <td>0</td>\n",
       "      <td>1</td>\n",
       "      <td>0</td>\n",
       "      <td>0</td>\n",
       "      <td>0</td>\n",
       "      <td>1</td>\n",
       "      <td>0</td>\n",
       "      <td>0</td>\n",
       "      <td>1</td>\n",
       "      <td>0</td>\n",
       "      <td>1</td>\n",
       "      <td>0</td>\n",
       "      <td>1</td>\n",
       "      <td>0</td>\n",
       "      <td>1</td>\n",
       "      <td>0</td>\n",
       "      <td>0</td>\n",
       "      <td>1</td>\n",
       "      <td>0</td>\n",
       "      <td>1</td>\n",
       "      <td>0</td>\n",
       "      <td>1</td>\n",
       "      <td>0</td>\n",
       "      <td>1</td>\n",
       "    </tr>\n",
       "    <tr>\n",
       "      <th>3</th>\n",
       "      <td>3</td>\n",
       "      <td>3</td>\n",
       "      <td>500364</td>\n",
       "      <td>82442376</td>\n",
       "      <td>35.0</td>\n",
       "      <td>1</td>\n",
       "      <td>1</td>\n",
       "      <td>7</td>\n",
       "      <td>2</td>\n",
       "      <td>44</td>\n",
       "      <td>1</td>\n",
       "      <td>16</td>\n",
       "      <td>0</td>\n",
       "      <td>0</td>\n",
       "      <td>0</td>\n",
       "      <td>7</td>\n",
       "      <td>0</td>\n",
       "      <td>Intestinal infections due to other organisms</td>\n",
       "      <td>Diabetes with renal manifestations type I [juv...</td>\n",
       "      <td>Hypertensive chronic kidney disease</td>\n",
       "      <td>Discharged home self care routine charge</td>\n",
       "      <td>Emergency Room</td>\n",
       "      <td>2.812500</td>\n",
       "      <td>1</td>\n",
       "      <td>1</td>\n",
       "      <td>1</td>\n",
       "      <td>0</td>\n",
       "      <td>1</td>\n",
       "      <td>0</td>\n",
       "      <td>0</td>\n",
       "      <td>0</td>\n",
       "      <td>1</td>\n",
       "      <td>0</td>\n",
       "      <td>0</td>\n",
       "      <td>0</td>\n",
       "      <td>0</td>\n",
       "      <td>1</td>\n",
       "      <td>0</td>\n",
       "      <td>0</td>\n",
       "      <td>0</td>\n",
       "      <td>...</td>\n",
       "      <td>0</td>\n",
       "      <td>0</td>\n",
       "      <td>1</td>\n",
       "      <td>0</td>\n",
       "      <td>0</td>\n",
       "      <td>0</td>\n",
       "      <td>1</td>\n",
       "      <td>0</td>\n",
       "      <td>0</td>\n",
       "      <td>1</td>\n",
       "      <td>0</td>\n",
       "      <td>1</td>\n",
       "      <td>0</td>\n",
       "      <td>0</td>\n",
       "      <td>1</td>\n",
       "      <td>1</td>\n",
       "      <td>0</td>\n",
       "      <td>0</td>\n",
       "      <td>0</td>\n",
       "      <td>1</td>\n",
       "      <td>0</td>\n",
       "      <td>1</td>\n",
       "      <td>0</td>\n",
       "      <td>0</td>\n",
       "      <td>1</td>\n",
       "      <td>0</td>\n",
       "      <td>1</td>\n",
       "      <td>0</td>\n",
       "      <td>1</td>\n",
       "      <td>0</td>\n",
       "      <td>1</td>\n",
       "      <td>0</td>\n",
       "      <td>1</td>\n",
       "      <td>0</td>\n",
       "      <td>0</td>\n",
       "      <td>1</td>\n",
       "      <td>1</td>\n",
       "      <td>0</td>\n",
       "      <td>0</td>\n",
       "      <td>1</td>\n",
       "    </tr>\n",
       "    <tr>\n",
       "      <th>4</th>\n",
       "      <td>4</td>\n",
       "      <td>4</td>\n",
       "      <td>16680</td>\n",
       "      <td>42519267</td>\n",
       "      <td>45.0</td>\n",
       "      <td>1</td>\n",
       "      <td>1</td>\n",
       "      <td>7</td>\n",
       "      <td>1</td>\n",
       "      <td>51</td>\n",
       "      <td>0</td>\n",
       "      <td>8</td>\n",
       "      <td>0</td>\n",
       "      <td>0</td>\n",
       "      <td>0</td>\n",
       "      <td>5</td>\n",
       "      <td>0</td>\n",
       "      <td>Secondary malignant neoplasm of respiratory an...</td>\n",
       "      <td>Malignant neoplasm of pancreas</td>\n",
       "      <td>diabetes mellitus</td>\n",
       "      <td>Discharged home self care routine charge</td>\n",
       "      <td>Emergency Room</td>\n",
       "      <td>6.375000</td>\n",
       "      <td>0</td>\n",
       "      <td>2</td>\n",
       "      <td>1</td>\n",
       "      <td>0</td>\n",
       "      <td>1</td>\n",
       "      <td>0</td>\n",
       "      <td>0</td>\n",
       "      <td>0</td>\n",
       "      <td>1</td>\n",
       "      <td>0</td>\n",
       "      <td>0</td>\n",
       "      <td>0</td>\n",
       "      <td>0</td>\n",
       "      <td>1</td>\n",
       "      <td>0</td>\n",
       "      <td>0</td>\n",
       "      <td>0</td>\n",
       "      <td>...</td>\n",
       "      <td>0</td>\n",
       "      <td>0</td>\n",
       "      <td>1</td>\n",
       "      <td>0</td>\n",
       "      <td>0</td>\n",
       "      <td>0</td>\n",
       "      <td>1</td>\n",
       "      <td>0</td>\n",
       "      <td>0</td>\n",
       "      <td>1</td>\n",
       "      <td>0</td>\n",
       "      <td>1</td>\n",
       "      <td>0</td>\n",
       "      <td>0</td>\n",
       "      <td>1</td>\n",
       "      <td>1</td>\n",
       "      <td>0</td>\n",
       "      <td>0</td>\n",
       "      <td>1</td>\n",
       "      <td>0</td>\n",
       "      <td>0</td>\n",
       "      <td>1</td>\n",
       "      <td>0</td>\n",
       "      <td>0</td>\n",
       "      <td>1</td>\n",
       "      <td>0</td>\n",
       "      <td>1</td>\n",
       "      <td>0</td>\n",
       "      <td>1</td>\n",
       "      <td>0</td>\n",
       "      <td>1</td>\n",
       "      <td>0</td>\n",
       "      <td>1</td>\n",
       "      <td>0</td>\n",
       "      <td>0</td>\n",
       "      <td>1</td>\n",
       "      <td>1</td>\n",
       "      <td>0</td>\n",
       "      <td>0</td>\n",
       "      <td>1</td>\n",
       "    </tr>\n",
       "  </tbody>\n",
       "</table>\n",
       "<p>5 rows × 121 columns</p>\n",
       "</div>"
      ],
      "text/plain": [
       "   Unnamed: 0  Unnamed: 0.1  ...  diabetesMed_No  diabetesMed_Yes\n",
       "0           0             0  ...               1                0\n",
       "1           1             1  ...               0                1\n",
       "2           2             2  ...               0                1\n",
       "3           3             3  ...               0                1\n",
       "4           4             4  ...               0                1\n",
       "\n",
       "[5 rows x 121 columns]"
      ]
     },
     "execution_count": 8,
     "metadata": {
      "tags": []
     },
     "output_type": "execute_result"
    }
   ],
   "source": [
    "df_dum.head()"
   ]
  },
  {
   "cell_type": "code",
   "execution_count": null,
   "metadata": {
    "id": "E9c2JBzm2h1u"
   },
   "outputs": [],
   "source": []
  },
  {
   "cell_type": "markdown",
   "metadata": {
    "id": "UNJRw1p32h1u"
   },
   "source": [
    "## Engineering Text Features\n",
    "\n",
    "***'diag_1_des', 'diag_2_des', 'diag_3_des', 'disch_description','admit_description'***"
   ]
  },
  {
   "cell_type": "code",
   "execution_count": 6,
   "metadata": {
    "id": "iJfpjwJv2h1v"
   },
   "outputs": [],
   "source": [
    "df_dum['text'] = df_dum['diag_1_des'].map(str)+ ' ' +df_dum['diag_2_des'].map(str)+ ' ' + df_dum['diag_3_des'].map(str)+ ' ' +df_dum['disch_description'].map(str)+ ' ' +df_dum[ 'admit_description'].map(str)"
   ]
  },
  {
   "cell_type": "code",
   "execution_count": 7,
   "metadata": {
    "colab": {
     "base_uri": "https://localhost:8080/",
     "height": 563
    },
    "id": "ZnJuWlTW2h1v",
    "outputId": "c6287bbf-d189-408b-f8bb-5c398b1c5315"
   },
   "outputs": [
    {
     "data": {
      "text/html": [
       "<div>\n",
       "<style scoped>\n",
       "    .dataframe tbody tr th:only-of-type {\n",
       "        vertical-align: middle;\n",
       "    }\n",
       "\n",
       "    .dataframe tbody tr th {\n",
       "        vertical-align: top;\n",
       "    }\n",
       "\n",
       "    .dataframe thead th {\n",
       "        text-align: right;\n",
       "    }\n",
       "</style>\n",
       "<table border=\"1\" class=\"dataframe\">\n",
       "  <thead>\n",
       "    <tr style=\"text-align: right;\">\n",
       "      <th></th>\n",
       "      <th>Unnamed: 0</th>\n",
       "      <th>Unnamed: 0.1</th>\n",
       "      <th>encounter_id</th>\n",
       "      <th>patient_nbr</th>\n",
       "      <th>age</th>\n",
       "      <th>admission_type_id</th>\n",
       "      <th>discharge_disposition_id</th>\n",
       "      <th>admission_source_id</th>\n",
       "      <th>time_in_hospital</th>\n",
       "      <th>num_lab_procedures</th>\n",
       "      <th>num_procedures</th>\n",
       "      <th>num_medications</th>\n",
       "      <th>number_outpatient</th>\n",
       "      <th>number_emergency</th>\n",
       "      <th>number_inpatient</th>\n",
       "      <th>number_diagnoses</th>\n",
       "      <th>readmitted</th>\n",
       "      <th>diag_1_des</th>\n",
       "      <th>diag_2_des</th>\n",
       "      <th>diag_3_des</th>\n",
       "      <th>disch_description</th>\n",
       "      <th>admit_description</th>\n",
       "      <th>procedure_per_med</th>\n",
       "      <th>num_med_up</th>\n",
       "      <th>num_med_used</th>\n",
       "      <th>count_encounter</th>\n",
       "      <th>gender_Female</th>\n",
       "      <th>gender_Male</th>\n",
       "      <th>gender_Unknown/Invalid</th>\n",
       "      <th>race_AfricanAmerican</th>\n",
       "      <th>race_Asian</th>\n",
       "      <th>race_Caucasian</th>\n",
       "      <th>race_Hispanic</th>\n",
       "      <th>race_Other</th>\n",
       "      <th>max_glu_serum_&gt;200</th>\n",
       "      <th>max_glu_serum_&gt;300</th>\n",
       "      <th>max_glu_serum_None</th>\n",
       "      <th>max_glu_serum_Norm</th>\n",
       "      <th>A1Cresult_&gt;7</th>\n",
       "      <th>A1Cresult_&gt;8</th>\n",
       "      <th>...</th>\n",
       "      <th>acarbose_Down</th>\n",
       "      <th>acarbose_No</th>\n",
       "      <th>acarbose_Steady</th>\n",
       "      <th>acarbose_Up</th>\n",
       "      <th>miglitol_Down</th>\n",
       "      <th>miglitol_No</th>\n",
       "      <th>miglitol_Steady</th>\n",
       "      <th>miglitol_Up</th>\n",
       "      <th>troglitazone_No</th>\n",
       "      <th>troglitazone_Steady</th>\n",
       "      <th>tolazamide_No</th>\n",
       "      <th>tolazamide_Steady</th>\n",
       "      <th>tolazamide_Up</th>\n",
       "      <th>examide_No</th>\n",
       "      <th>citoglipton_No</th>\n",
       "      <th>insulin_Down</th>\n",
       "      <th>insulin_No</th>\n",
       "      <th>insulin_Steady</th>\n",
       "      <th>insulin_Up</th>\n",
       "      <th>glyburide-metformin_Down</th>\n",
       "      <th>glyburide-metformin_No</th>\n",
       "      <th>glyburide-metformin_Steady</th>\n",
       "      <th>glyburide-metformin_Up</th>\n",
       "      <th>glipizide-metformin_No</th>\n",
       "      <th>glipizide-metformin_Steady</th>\n",
       "      <th>glimepiride-pioglitazone_No</th>\n",
       "      <th>glimepiride-pioglitazone_Steady</th>\n",
       "      <th>metformin-rosiglitazone_No</th>\n",
       "      <th>metformin-rosiglitazone_Steady</th>\n",
       "      <th>metformin-pioglitazone_No</th>\n",
       "      <th>metformin-pioglitazone_Steady</th>\n",
       "      <th>change_Ch</th>\n",
       "      <th>change_No</th>\n",
       "      <th>diabetesMed_No</th>\n",
       "      <th>diabetesMed_Yes</th>\n",
       "      <th>change_Ch</th>\n",
       "      <th>change_No</th>\n",
       "      <th>diabetesMed_No</th>\n",
       "      <th>diabetesMed_Yes</th>\n",
       "      <th>text</th>\n",
       "    </tr>\n",
       "  </thead>\n",
       "  <tbody>\n",
       "    <tr>\n",
       "      <th>0</th>\n",
       "      <td>0</td>\n",
       "      <td>0</td>\n",
       "      <td>2278392</td>\n",
       "      <td>8222157</td>\n",
       "      <td>5.0</td>\n",
       "      <td>6</td>\n",
       "      <td>25</td>\n",
       "      <td>1</td>\n",
       "      <td>1</td>\n",
       "      <td>41</td>\n",
       "      <td>0</td>\n",
       "      <td>1</td>\n",
       "      <td>0</td>\n",
       "      <td>0</td>\n",
       "      <td>0</td>\n",
       "      <td>1</td>\n",
       "      <td>0</td>\n",
       "      <td>Diabetes with other specified manifestations t...</td>\n",
       "      <td>diabetes mellitus</td>\n",
       "      <td>diabetes mellitus</td>\n",
       "      <td>Reserved National Assignment</td>\n",
       "      <td>Physician Referral</td>\n",
       "      <td>41.000000</td>\n",
       "      <td>0</td>\n",
       "      <td>0</td>\n",
       "      <td>1</td>\n",
       "      <td>1</td>\n",
       "      <td>0</td>\n",
       "      <td>0</td>\n",
       "      <td>0</td>\n",
       "      <td>0</td>\n",
       "      <td>1</td>\n",
       "      <td>0</td>\n",
       "      <td>0</td>\n",
       "      <td>0</td>\n",
       "      <td>0</td>\n",
       "      <td>1</td>\n",
       "      <td>0</td>\n",
       "      <td>0</td>\n",
       "      <td>0</td>\n",
       "      <td>...</td>\n",
       "      <td>0</td>\n",
       "      <td>1</td>\n",
       "      <td>0</td>\n",
       "      <td>0</td>\n",
       "      <td>0</td>\n",
       "      <td>1</td>\n",
       "      <td>0</td>\n",
       "      <td>0</td>\n",
       "      <td>1</td>\n",
       "      <td>0</td>\n",
       "      <td>1</td>\n",
       "      <td>0</td>\n",
       "      <td>0</td>\n",
       "      <td>1</td>\n",
       "      <td>1</td>\n",
       "      <td>0</td>\n",
       "      <td>1</td>\n",
       "      <td>0</td>\n",
       "      <td>0</td>\n",
       "      <td>0</td>\n",
       "      <td>1</td>\n",
       "      <td>0</td>\n",
       "      <td>0</td>\n",
       "      <td>1</td>\n",
       "      <td>0</td>\n",
       "      <td>1</td>\n",
       "      <td>0</td>\n",
       "      <td>1</td>\n",
       "      <td>0</td>\n",
       "      <td>1</td>\n",
       "      <td>0</td>\n",
       "      <td>0</td>\n",
       "      <td>1</td>\n",
       "      <td>1</td>\n",
       "      <td>0</td>\n",
       "      <td>0</td>\n",
       "      <td>1</td>\n",
       "      <td>1</td>\n",
       "      <td>0</td>\n",
       "      <td>Diabetes with other specified manifestations t...</td>\n",
       "    </tr>\n",
       "    <tr>\n",
       "      <th>1</th>\n",
       "      <td>1</td>\n",
       "      <td>1</td>\n",
       "      <td>149190</td>\n",
       "      <td>55629189</td>\n",
       "      <td>15.0</td>\n",
       "      <td>1</td>\n",
       "      <td>1</td>\n",
       "      <td>7</td>\n",
       "      <td>3</td>\n",
       "      <td>59</td>\n",
       "      <td>0</td>\n",
       "      <td>18</td>\n",
       "      <td>0</td>\n",
       "      <td>0</td>\n",
       "      <td>0</td>\n",
       "      <td>9</td>\n",
       "      <td>0</td>\n",
       "      <td>Disorders of fluid electrolyte and acid-base b...</td>\n",
       "      <td>Diabetes mellitus without mention of complicat...</td>\n",
       "      <td>Disorders of adrenal glands</td>\n",
       "      <td>Discharged home self care routine charge</td>\n",
       "      <td>Emergency Room</td>\n",
       "      <td>3.277778</td>\n",
       "      <td>1</td>\n",
       "      <td>1</td>\n",
       "      <td>1</td>\n",
       "      <td>1</td>\n",
       "      <td>0</td>\n",
       "      <td>0</td>\n",
       "      <td>0</td>\n",
       "      <td>0</td>\n",
       "      <td>1</td>\n",
       "      <td>0</td>\n",
       "      <td>0</td>\n",
       "      <td>0</td>\n",
       "      <td>0</td>\n",
       "      <td>1</td>\n",
       "      <td>0</td>\n",
       "      <td>0</td>\n",
       "      <td>0</td>\n",
       "      <td>...</td>\n",
       "      <td>0</td>\n",
       "      <td>1</td>\n",
       "      <td>0</td>\n",
       "      <td>0</td>\n",
       "      <td>0</td>\n",
       "      <td>1</td>\n",
       "      <td>0</td>\n",
       "      <td>0</td>\n",
       "      <td>1</td>\n",
       "      <td>0</td>\n",
       "      <td>1</td>\n",
       "      <td>0</td>\n",
       "      <td>0</td>\n",
       "      <td>1</td>\n",
       "      <td>1</td>\n",
       "      <td>0</td>\n",
       "      <td>0</td>\n",
       "      <td>0</td>\n",
       "      <td>1</td>\n",
       "      <td>0</td>\n",
       "      <td>1</td>\n",
       "      <td>0</td>\n",
       "      <td>0</td>\n",
       "      <td>1</td>\n",
       "      <td>0</td>\n",
       "      <td>1</td>\n",
       "      <td>0</td>\n",
       "      <td>1</td>\n",
       "      <td>0</td>\n",
       "      <td>1</td>\n",
       "      <td>0</td>\n",
       "      <td>1</td>\n",
       "      <td>0</td>\n",
       "      <td>0</td>\n",
       "      <td>1</td>\n",
       "      <td>1</td>\n",
       "      <td>0</td>\n",
       "      <td>0</td>\n",
       "      <td>1</td>\n",
       "      <td>Disorders of fluid electrolyte and acid-base b...</td>\n",
       "    </tr>\n",
       "    <tr>\n",
       "      <th>2</th>\n",
       "      <td>2</td>\n",
       "      <td>2</td>\n",
       "      <td>64410</td>\n",
       "      <td>86047875</td>\n",
       "      <td>25.0</td>\n",
       "      <td>1</td>\n",
       "      <td>1</td>\n",
       "      <td>7</td>\n",
       "      <td>2</td>\n",
       "      <td>11</td>\n",
       "      <td>5</td>\n",
       "      <td>13</td>\n",
       "      <td>2</td>\n",
       "      <td>0</td>\n",
       "      <td>1</td>\n",
       "      <td>6</td>\n",
       "      <td>0</td>\n",
       "      <td>Other current conditions in the mother classif...</td>\n",
       "      <td>diabetes mellitus</td>\n",
       "      <td>Outcome of delivery</td>\n",
       "      <td>Discharged home self care routine charge</td>\n",
       "      <td>Emergency Room</td>\n",
       "      <td>1.230769</td>\n",
       "      <td>0</td>\n",
       "      <td>1</td>\n",
       "      <td>1</td>\n",
       "      <td>1</td>\n",
       "      <td>0</td>\n",
       "      <td>0</td>\n",
       "      <td>1</td>\n",
       "      <td>0</td>\n",
       "      <td>0</td>\n",
       "      <td>0</td>\n",
       "      <td>0</td>\n",
       "      <td>0</td>\n",
       "      <td>0</td>\n",
       "      <td>1</td>\n",
       "      <td>0</td>\n",
       "      <td>0</td>\n",
       "      <td>0</td>\n",
       "      <td>...</td>\n",
       "      <td>0</td>\n",
       "      <td>1</td>\n",
       "      <td>0</td>\n",
       "      <td>0</td>\n",
       "      <td>0</td>\n",
       "      <td>1</td>\n",
       "      <td>0</td>\n",
       "      <td>0</td>\n",
       "      <td>1</td>\n",
       "      <td>0</td>\n",
       "      <td>1</td>\n",
       "      <td>0</td>\n",
       "      <td>0</td>\n",
       "      <td>1</td>\n",
       "      <td>1</td>\n",
       "      <td>0</td>\n",
       "      <td>1</td>\n",
       "      <td>0</td>\n",
       "      <td>0</td>\n",
       "      <td>0</td>\n",
       "      <td>1</td>\n",
       "      <td>0</td>\n",
       "      <td>0</td>\n",
       "      <td>1</td>\n",
       "      <td>0</td>\n",
       "      <td>1</td>\n",
       "      <td>0</td>\n",
       "      <td>1</td>\n",
       "      <td>0</td>\n",
       "      <td>1</td>\n",
       "      <td>0</td>\n",
       "      <td>0</td>\n",
       "      <td>1</td>\n",
       "      <td>0</td>\n",
       "      <td>1</td>\n",
       "      <td>0</td>\n",
       "      <td>1</td>\n",
       "      <td>0</td>\n",
       "      <td>1</td>\n",
       "      <td>Other current conditions in the mother classif...</td>\n",
       "    </tr>\n",
       "    <tr>\n",
       "      <th>3</th>\n",
       "      <td>3</td>\n",
       "      <td>3</td>\n",
       "      <td>500364</td>\n",
       "      <td>82442376</td>\n",
       "      <td>35.0</td>\n",
       "      <td>1</td>\n",
       "      <td>1</td>\n",
       "      <td>7</td>\n",
       "      <td>2</td>\n",
       "      <td>44</td>\n",
       "      <td>1</td>\n",
       "      <td>16</td>\n",
       "      <td>0</td>\n",
       "      <td>0</td>\n",
       "      <td>0</td>\n",
       "      <td>7</td>\n",
       "      <td>0</td>\n",
       "      <td>Intestinal infections due to other organisms</td>\n",
       "      <td>Diabetes with renal manifestations type I [juv...</td>\n",
       "      <td>Hypertensive chronic kidney disease</td>\n",
       "      <td>Discharged home self care routine charge</td>\n",
       "      <td>Emergency Room</td>\n",
       "      <td>2.812500</td>\n",
       "      <td>1</td>\n",
       "      <td>1</td>\n",
       "      <td>1</td>\n",
       "      <td>0</td>\n",
       "      <td>1</td>\n",
       "      <td>0</td>\n",
       "      <td>0</td>\n",
       "      <td>0</td>\n",
       "      <td>1</td>\n",
       "      <td>0</td>\n",
       "      <td>0</td>\n",
       "      <td>0</td>\n",
       "      <td>0</td>\n",
       "      <td>1</td>\n",
       "      <td>0</td>\n",
       "      <td>0</td>\n",
       "      <td>0</td>\n",
       "      <td>...</td>\n",
       "      <td>0</td>\n",
       "      <td>1</td>\n",
       "      <td>0</td>\n",
       "      <td>0</td>\n",
       "      <td>0</td>\n",
       "      <td>1</td>\n",
       "      <td>0</td>\n",
       "      <td>0</td>\n",
       "      <td>1</td>\n",
       "      <td>0</td>\n",
       "      <td>1</td>\n",
       "      <td>0</td>\n",
       "      <td>0</td>\n",
       "      <td>1</td>\n",
       "      <td>1</td>\n",
       "      <td>0</td>\n",
       "      <td>0</td>\n",
       "      <td>0</td>\n",
       "      <td>1</td>\n",
       "      <td>0</td>\n",
       "      <td>1</td>\n",
       "      <td>0</td>\n",
       "      <td>0</td>\n",
       "      <td>1</td>\n",
       "      <td>0</td>\n",
       "      <td>1</td>\n",
       "      <td>0</td>\n",
       "      <td>1</td>\n",
       "      <td>0</td>\n",
       "      <td>1</td>\n",
       "      <td>0</td>\n",
       "      <td>1</td>\n",
       "      <td>0</td>\n",
       "      <td>0</td>\n",
       "      <td>1</td>\n",
       "      <td>1</td>\n",
       "      <td>0</td>\n",
       "      <td>0</td>\n",
       "      <td>1</td>\n",
       "      <td>Intestinal infections due to other organisms D...</td>\n",
       "    </tr>\n",
       "    <tr>\n",
       "      <th>4</th>\n",
       "      <td>4</td>\n",
       "      <td>4</td>\n",
       "      <td>16680</td>\n",
       "      <td>42519267</td>\n",
       "      <td>45.0</td>\n",
       "      <td>1</td>\n",
       "      <td>1</td>\n",
       "      <td>7</td>\n",
       "      <td>1</td>\n",
       "      <td>51</td>\n",
       "      <td>0</td>\n",
       "      <td>8</td>\n",
       "      <td>0</td>\n",
       "      <td>0</td>\n",
       "      <td>0</td>\n",
       "      <td>5</td>\n",
       "      <td>0</td>\n",
       "      <td>Secondary malignant neoplasm of respiratory an...</td>\n",
       "      <td>Malignant neoplasm of pancreas</td>\n",
       "      <td>diabetes mellitus</td>\n",
       "      <td>Discharged home self care routine charge</td>\n",
       "      <td>Emergency Room</td>\n",
       "      <td>6.375000</td>\n",
       "      <td>0</td>\n",
       "      <td>2</td>\n",
       "      <td>1</td>\n",
       "      <td>0</td>\n",
       "      <td>1</td>\n",
       "      <td>0</td>\n",
       "      <td>0</td>\n",
       "      <td>0</td>\n",
       "      <td>1</td>\n",
       "      <td>0</td>\n",
       "      <td>0</td>\n",
       "      <td>0</td>\n",
       "      <td>0</td>\n",
       "      <td>1</td>\n",
       "      <td>0</td>\n",
       "      <td>0</td>\n",
       "      <td>0</td>\n",
       "      <td>...</td>\n",
       "      <td>0</td>\n",
       "      <td>1</td>\n",
       "      <td>0</td>\n",
       "      <td>0</td>\n",
       "      <td>0</td>\n",
       "      <td>1</td>\n",
       "      <td>0</td>\n",
       "      <td>0</td>\n",
       "      <td>1</td>\n",
       "      <td>0</td>\n",
       "      <td>1</td>\n",
       "      <td>0</td>\n",
       "      <td>0</td>\n",
       "      <td>1</td>\n",
       "      <td>1</td>\n",
       "      <td>0</td>\n",
       "      <td>0</td>\n",
       "      <td>1</td>\n",
       "      <td>0</td>\n",
       "      <td>0</td>\n",
       "      <td>1</td>\n",
       "      <td>0</td>\n",
       "      <td>0</td>\n",
       "      <td>1</td>\n",
       "      <td>0</td>\n",
       "      <td>1</td>\n",
       "      <td>0</td>\n",
       "      <td>1</td>\n",
       "      <td>0</td>\n",
       "      <td>1</td>\n",
       "      <td>0</td>\n",
       "      <td>1</td>\n",
       "      <td>0</td>\n",
       "      <td>0</td>\n",
       "      <td>1</td>\n",
       "      <td>1</td>\n",
       "      <td>0</td>\n",
       "      <td>0</td>\n",
       "      <td>1</td>\n",
       "      <td>Secondary malignant neoplasm of respiratory an...</td>\n",
       "    </tr>\n",
       "  </tbody>\n",
       "</table>\n",
       "<p>5 rows × 122 columns</p>\n",
       "</div>"
      ],
      "text/plain": [
       "   Unnamed: 0  ...                                               text\n",
       "0           0  ...  Diabetes with other specified manifestations t...\n",
       "1           1  ...  Disorders of fluid electrolyte and acid-base b...\n",
       "2           2  ...  Other current conditions in the mother classif...\n",
       "3           3  ...  Intestinal infections due to other organisms D...\n",
       "4           4  ...  Secondary malignant neoplasm of respiratory an...\n",
       "\n",
       "[5 rows x 122 columns]"
      ]
     },
     "execution_count": 7,
     "metadata": {
      "tags": []
     },
     "output_type": "execute_result"
    }
   ],
   "source": [
    "df_dum.head()"
   ]
  },
  {
   "cell_type": "code",
   "execution_count": 8,
   "metadata": {
    "colab": {
     "base_uri": "https://localhost:8080/",
     "height": 563
    },
    "id": "hg31yt762h1v",
    "outputId": "7fd9d4de-2d88-4e1a-b014-ef774e1342f5"
   },
   "outputs": [
    {
     "data": {
      "text/html": [
       "<div>\n",
       "<style scoped>\n",
       "    .dataframe tbody tr th:only-of-type {\n",
       "        vertical-align: middle;\n",
       "    }\n",
       "\n",
       "    .dataframe tbody tr th {\n",
       "        vertical-align: top;\n",
       "    }\n",
       "\n",
       "    .dataframe thead th {\n",
       "        text-align: right;\n",
       "    }\n",
       "</style>\n",
       "<table border=\"1\" class=\"dataframe\">\n",
       "  <thead>\n",
       "    <tr style=\"text-align: right;\">\n",
       "      <th></th>\n",
       "      <th>Unnamed: 0</th>\n",
       "      <th>Unnamed: 0.1</th>\n",
       "      <th>encounter_id</th>\n",
       "      <th>patient_nbr</th>\n",
       "      <th>age</th>\n",
       "      <th>admission_type_id</th>\n",
       "      <th>discharge_disposition_id</th>\n",
       "      <th>admission_source_id</th>\n",
       "      <th>time_in_hospital</th>\n",
       "      <th>num_lab_procedures</th>\n",
       "      <th>num_procedures</th>\n",
       "      <th>num_medications</th>\n",
       "      <th>number_outpatient</th>\n",
       "      <th>number_emergency</th>\n",
       "      <th>number_inpatient</th>\n",
       "      <th>number_diagnoses</th>\n",
       "      <th>readmitted</th>\n",
       "      <th>procedure_per_med</th>\n",
       "      <th>num_med_up</th>\n",
       "      <th>num_med_used</th>\n",
       "      <th>count_encounter</th>\n",
       "      <th>gender_Female</th>\n",
       "      <th>gender_Male</th>\n",
       "      <th>gender_Unknown/Invalid</th>\n",
       "      <th>race_AfricanAmerican</th>\n",
       "      <th>race_Asian</th>\n",
       "      <th>race_Caucasian</th>\n",
       "      <th>race_Hispanic</th>\n",
       "      <th>race_Other</th>\n",
       "      <th>max_glu_serum_&gt;200</th>\n",
       "      <th>max_glu_serum_&gt;300</th>\n",
       "      <th>max_glu_serum_None</th>\n",
       "      <th>max_glu_serum_Norm</th>\n",
       "      <th>A1Cresult_&gt;7</th>\n",
       "      <th>A1Cresult_&gt;8</th>\n",
       "      <th>A1Cresult_None</th>\n",
       "      <th>A1Cresult_Norm</th>\n",
       "      <th>metformin_Down</th>\n",
       "      <th>metformin_No</th>\n",
       "      <th>metformin_Steady</th>\n",
       "      <th>...</th>\n",
       "      <th>acarbose_Down</th>\n",
       "      <th>acarbose_No</th>\n",
       "      <th>acarbose_Steady</th>\n",
       "      <th>acarbose_Up</th>\n",
       "      <th>miglitol_Down</th>\n",
       "      <th>miglitol_No</th>\n",
       "      <th>miglitol_Steady</th>\n",
       "      <th>miglitol_Up</th>\n",
       "      <th>troglitazone_No</th>\n",
       "      <th>troglitazone_Steady</th>\n",
       "      <th>tolazamide_No</th>\n",
       "      <th>tolazamide_Steady</th>\n",
       "      <th>tolazamide_Up</th>\n",
       "      <th>examide_No</th>\n",
       "      <th>citoglipton_No</th>\n",
       "      <th>insulin_Down</th>\n",
       "      <th>insulin_No</th>\n",
       "      <th>insulin_Steady</th>\n",
       "      <th>insulin_Up</th>\n",
       "      <th>glyburide-metformin_Down</th>\n",
       "      <th>glyburide-metformin_No</th>\n",
       "      <th>glyburide-metformin_Steady</th>\n",
       "      <th>glyburide-metformin_Up</th>\n",
       "      <th>glipizide-metformin_No</th>\n",
       "      <th>glipizide-metformin_Steady</th>\n",
       "      <th>glimepiride-pioglitazone_No</th>\n",
       "      <th>glimepiride-pioglitazone_Steady</th>\n",
       "      <th>metformin-rosiglitazone_No</th>\n",
       "      <th>metformin-rosiglitazone_Steady</th>\n",
       "      <th>metformin-pioglitazone_No</th>\n",
       "      <th>metformin-pioglitazone_Steady</th>\n",
       "      <th>change_Ch</th>\n",
       "      <th>change_No</th>\n",
       "      <th>diabetesMed_No</th>\n",
       "      <th>diabetesMed_Yes</th>\n",
       "      <th>change_Ch</th>\n",
       "      <th>change_No</th>\n",
       "      <th>diabetesMed_No</th>\n",
       "      <th>diabetesMed_Yes</th>\n",
       "      <th>text</th>\n",
       "    </tr>\n",
       "  </thead>\n",
       "  <tbody>\n",
       "    <tr>\n",
       "      <th>0</th>\n",
       "      <td>0</td>\n",
       "      <td>0</td>\n",
       "      <td>2278392</td>\n",
       "      <td>8222157</td>\n",
       "      <td>5.0</td>\n",
       "      <td>6</td>\n",
       "      <td>25</td>\n",
       "      <td>1</td>\n",
       "      <td>1</td>\n",
       "      <td>41</td>\n",
       "      <td>0</td>\n",
       "      <td>1</td>\n",
       "      <td>0</td>\n",
       "      <td>0</td>\n",
       "      <td>0</td>\n",
       "      <td>1</td>\n",
       "      <td>0</td>\n",
       "      <td>41.000000</td>\n",
       "      <td>0</td>\n",
       "      <td>0</td>\n",
       "      <td>1</td>\n",
       "      <td>1</td>\n",
       "      <td>0</td>\n",
       "      <td>0</td>\n",
       "      <td>0</td>\n",
       "      <td>0</td>\n",
       "      <td>1</td>\n",
       "      <td>0</td>\n",
       "      <td>0</td>\n",
       "      <td>0</td>\n",
       "      <td>0</td>\n",
       "      <td>1</td>\n",
       "      <td>0</td>\n",
       "      <td>0</td>\n",
       "      <td>0</td>\n",
       "      <td>1</td>\n",
       "      <td>0</td>\n",
       "      <td>0</td>\n",
       "      <td>1</td>\n",
       "      <td>0</td>\n",
       "      <td>...</td>\n",
       "      <td>0</td>\n",
       "      <td>1</td>\n",
       "      <td>0</td>\n",
       "      <td>0</td>\n",
       "      <td>0</td>\n",
       "      <td>1</td>\n",
       "      <td>0</td>\n",
       "      <td>0</td>\n",
       "      <td>1</td>\n",
       "      <td>0</td>\n",
       "      <td>1</td>\n",
       "      <td>0</td>\n",
       "      <td>0</td>\n",
       "      <td>1</td>\n",
       "      <td>1</td>\n",
       "      <td>0</td>\n",
       "      <td>1</td>\n",
       "      <td>0</td>\n",
       "      <td>0</td>\n",
       "      <td>0</td>\n",
       "      <td>1</td>\n",
       "      <td>0</td>\n",
       "      <td>0</td>\n",
       "      <td>1</td>\n",
       "      <td>0</td>\n",
       "      <td>1</td>\n",
       "      <td>0</td>\n",
       "      <td>1</td>\n",
       "      <td>0</td>\n",
       "      <td>1</td>\n",
       "      <td>0</td>\n",
       "      <td>0</td>\n",
       "      <td>1</td>\n",
       "      <td>1</td>\n",
       "      <td>0</td>\n",
       "      <td>0</td>\n",
       "      <td>1</td>\n",
       "      <td>1</td>\n",
       "      <td>0</td>\n",
       "      <td>Diabetes with other specified manifestations t...</td>\n",
       "    </tr>\n",
       "    <tr>\n",
       "      <th>1</th>\n",
       "      <td>1</td>\n",
       "      <td>1</td>\n",
       "      <td>149190</td>\n",
       "      <td>55629189</td>\n",
       "      <td>15.0</td>\n",
       "      <td>1</td>\n",
       "      <td>1</td>\n",
       "      <td>7</td>\n",
       "      <td>3</td>\n",
       "      <td>59</td>\n",
       "      <td>0</td>\n",
       "      <td>18</td>\n",
       "      <td>0</td>\n",
       "      <td>0</td>\n",
       "      <td>0</td>\n",
       "      <td>9</td>\n",
       "      <td>0</td>\n",
       "      <td>3.277778</td>\n",
       "      <td>1</td>\n",
       "      <td>1</td>\n",
       "      <td>1</td>\n",
       "      <td>1</td>\n",
       "      <td>0</td>\n",
       "      <td>0</td>\n",
       "      <td>0</td>\n",
       "      <td>0</td>\n",
       "      <td>1</td>\n",
       "      <td>0</td>\n",
       "      <td>0</td>\n",
       "      <td>0</td>\n",
       "      <td>0</td>\n",
       "      <td>1</td>\n",
       "      <td>0</td>\n",
       "      <td>0</td>\n",
       "      <td>0</td>\n",
       "      <td>1</td>\n",
       "      <td>0</td>\n",
       "      <td>0</td>\n",
       "      <td>1</td>\n",
       "      <td>0</td>\n",
       "      <td>...</td>\n",
       "      <td>0</td>\n",
       "      <td>1</td>\n",
       "      <td>0</td>\n",
       "      <td>0</td>\n",
       "      <td>0</td>\n",
       "      <td>1</td>\n",
       "      <td>0</td>\n",
       "      <td>0</td>\n",
       "      <td>1</td>\n",
       "      <td>0</td>\n",
       "      <td>1</td>\n",
       "      <td>0</td>\n",
       "      <td>0</td>\n",
       "      <td>1</td>\n",
       "      <td>1</td>\n",
       "      <td>0</td>\n",
       "      <td>0</td>\n",
       "      <td>0</td>\n",
       "      <td>1</td>\n",
       "      <td>0</td>\n",
       "      <td>1</td>\n",
       "      <td>0</td>\n",
       "      <td>0</td>\n",
       "      <td>1</td>\n",
       "      <td>0</td>\n",
       "      <td>1</td>\n",
       "      <td>0</td>\n",
       "      <td>1</td>\n",
       "      <td>0</td>\n",
       "      <td>1</td>\n",
       "      <td>0</td>\n",
       "      <td>1</td>\n",
       "      <td>0</td>\n",
       "      <td>0</td>\n",
       "      <td>1</td>\n",
       "      <td>1</td>\n",
       "      <td>0</td>\n",
       "      <td>0</td>\n",
       "      <td>1</td>\n",
       "      <td>Disorders of fluid electrolyte and acid-base b...</td>\n",
       "    </tr>\n",
       "    <tr>\n",
       "      <th>2</th>\n",
       "      <td>2</td>\n",
       "      <td>2</td>\n",
       "      <td>64410</td>\n",
       "      <td>86047875</td>\n",
       "      <td>25.0</td>\n",
       "      <td>1</td>\n",
       "      <td>1</td>\n",
       "      <td>7</td>\n",
       "      <td>2</td>\n",
       "      <td>11</td>\n",
       "      <td>5</td>\n",
       "      <td>13</td>\n",
       "      <td>2</td>\n",
       "      <td>0</td>\n",
       "      <td>1</td>\n",
       "      <td>6</td>\n",
       "      <td>0</td>\n",
       "      <td>1.230769</td>\n",
       "      <td>0</td>\n",
       "      <td>1</td>\n",
       "      <td>1</td>\n",
       "      <td>1</td>\n",
       "      <td>0</td>\n",
       "      <td>0</td>\n",
       "      <td>1</td>\n",
       "      <td>0</td>\n",
       "      <td>0</td>\n",
       "      <td>0</td>\n",
       "      <td>0</td>\n",
       "      <td>0</td>\n",
       "      <td>0</td>\n",
       "      <td>1</td>\n",
       "      <td>0</td>\n",
       "      <td>0</td>\n",
       "      <td>0</td>\n",
       "      <td>1</td>\n",
       "      <td>0</td>\n",
       "      <td>0</td>\n",
       "      <td>1</td>\n",
       "      <td>0</td>\n",
       "      <td>...</td>\n",
       "      <td>0</td>\n",
       "      <td>1</td>\n",
       "      <td>0</td>\n",
       "      <td>0</td>\n",
       "      <td>0</td>\n",
       "      <td>1</td>\n",
       "      <td>0</td>\n",
       "      <td>0</td>\n",
       "      <td>1</td>\n",
       "      <td>0</td>\n",
       "      <td>1</td>\n",
       "      <td>0</td>\n",
       "      <td>0</td>\n",
       "      <td>1</td>\n",
       "      <td>1</td>\n",
       "      <td>0</td>\n",
       "      <td>1</td>\n",
       "      <td>0</td>\n",
       "      <td>0</td>\n",
       "      <td>0</td>\n",
       "      <td>1</td>\n",
       "      <td>0</td>\n",
       "      <td>0</td>\n",
       "      <td>1</td>\n",
       "      <td>0</td>\n",
       "      <td>1</td>\n",
       "      <td>0</td>\n",
       "      <td>1</td>\n",
       "      <td>0</td>\n",
       "      <td>1</td>\n",
       "      <td>0</td>\n",
       "      <td>0</td>\n",
       "      <td>1</td>\n",
       "      <td>0</td>\n",
       "      <td>1</td>\n",
       "      <td>0</td>\n",
       "      <td>1</td>\n",
       "      <td>0</td>\n",
       "      <td>1</td>\n",
       "      <td>Other current conditions in the mother classif...</td>\n",
       "    </tr>\n",
       "    <tr>\n",
       "      <th>3</th>\n",
       "      <td>3</td>\n",
       "      <td>3</td>\n",
       "      <td>500364</td>\n",
       "      <td>82442376</td>\n",
       "      <td>35.0</td>\n",
       "      <td>1</td>\n",
       "      <td>1</td>\n",
       "      <td>7</td>\n",
       "      <td>2</td>\n",
       "      <td>44</td>\n",
       "      <td>1</td>\n",
       "      <td>16</td>\n",
       "      <td>0</td>\n",
       "      <td>0</td>\n",
       "      <td>0</td>\n",
       "      <td>7</td>\n",
       "      <td>0</td>\n",
       "      <td>2.812500</td>\n",
       "      <td>1</td>\n",
       "      <td>1</td>\n",
       "      <td>1</td>\n",
       "      <td>0</td>\n",
       "      <td>1</td>\n",
       "      <td>0</td>\n",
       "      <td>0</td>\n",
       "      <td>0</td>\n",
       "      <td>1</td>\n",
       "      <td>0</td>\n",
       "      <td>0</td>\n",
       "      <td>0</td>\n",
       "      <td>0</td>\n",
       "      <td>1</td>\n",
       "      <td>0</td>\n",
       "      <td>0</td>\n",
       "      <td>0</td>\n",
       "      <td>1</td>\n",
       "      <td>0</td>\n",
       "      <td>0</td>\n",
       "      <td>1</td>\n",
       "      <td>0</td>\n",
       "      <td>...</td>\n",
       "      <td>0</td>\n",
       "      <td>1</td>\n",
       "      <td>0</td>\n",
       "      <td>0</td>\n",
       "      <td>0</td>\n",
       "      <td>1</td>\n",
       "      <td>0</td>\n",
       "      <td>0</td>\n",
       "      <td>1</td>\n",
       "      <td>0</td>\n",
       "      <td>1</td>\n",
       "      <td>0</td>\n",
       "      <td>0</td>\n",
       "      <td>1</td>\n",
       "      <td>1</td>\n",
       "      <td>0</td>\n",
       "      <td>0</td>\n",
       "      <td>0</td>\n",
       "      <td>1</td>\n",
       "      <td>0</td>\n",
       "      <td>1</td>\n",
       "      <td>0</td>\n",
       "      <td>0</td>\n",
       "      <td>1</td>\n",
       "      <td>0</td>\n",
       "      <td>1</td>\n",
       "      <td>0</td>\n",
       "      <td>1</td>\n",
       "      <td>0</td>\n",
       "      <td>1</td>\n",
       "      <td>0</td>\n",
       "      <td>1</td>\n",
       "      <td>0</td>\n",
       "      <td>0</td>\n",
       "      <td>1</td>\n",
       "      <td>1</td>\n",
       "      <td>0</td>\n",
       "      <td>0</td>\n",
       "      <td>1</td>\n",
       "      <td>Intestinal infections due to other organisms D...</td>\n",
       "    </tr>\n",
       "    <tr>\n",
       "      <th>4</th>\n",
       "      <td>4</td>\n",
       "      <td>4</td>\n",
       "      <td>16680</td>\n",
       "      <td>42519267</td>\n",
       "      <td>45.0</td>\n",
       "      <td>1</td>\n",
       "      <td>1</td>\n",
       "      <td>7</td>\n",
       "      <td>1</td>\n",
       "      <td>51</td>\n",
       "      <td>0</td>\n",
       "      <td>8</td>\n",
       "      <td>0</td>\n",
       "      <td>0</td>\n",
       "      <td>0</td>\n",
       "      <td>5</td>\n",
       "      <td>0</td>\n",
       "      <td>6.375000</td>\n",
       "      <td>0</td>\n",
       "      <td>2</td>\n",
       "      <td>1</td>\n",
       "      <td>0</td>\n",
       "      <td>1</td>\n",
       "      <td>0</td>\n",
       "      <td>0</td>\n",
       "      <td>0</td>\n",
       "      <td>1</td>\n",
       "      <td>0</td>\n",
       "      <td>0</td>\n",
       "      <td>0</td>\n",
       "      <td>0</td>\n",
       "      <td>1</td>\n",
       "      <td>0</td>\n",
       "      <td>0</td>\n",
       "      <td>0</td>\n",
       "      <td>1</td>\n",
       "      <td>0</td>\n",
       "      <td>0</td>\n",
       "      <td>1</td>\n",
       "      <td>0</td>\n",
       "      <td>...</td>\n",
       "      <td>0</td>\n",
       "      <td>1</td>\n",
       "      <td>0</td>\n",
       "      <td>0</td>\n",
       "      <td>0</td>\n",
       "      <td>1</td>\n",
       "      <td>0</td>\n",
       "      <td>0</td>\n",
       "      <td>1</td>\n",
       "      <td>0</td>\n",
       "      <td>1</td>\n",
       "      <td>0</td>\n",
       "      <td>0</td>\n",
       "      <td>1</td>\n",
       "      <td>1</td>\n",
       "      <td>0</td>\n",
       "      <td>0</td>\n",
       "      <td>1</td>\n",
       "      <td>0</td>\n",
       "      <td>0</td>\n",
       "      <td>1</td>\n",
       "      <td>0</td>\n",
       "      <td>0</td>\n",
       "      <td>1</td>\n",
       "      <td>0</td>\n",
       "      <td>1</td>\n",
       "      <td>0</td>\n",
       "      <td>1</td>\n",
       "      <td>0</td>\n",
       "      <td>1</td>\n",
       "      <td>0</td>\n",
       "      <td>1</td>\n",
       "      <td>0</td>\n",
       "      <td>0</td>\n",
       "      <td>1</td>\n",
       "      <td>1</td>\n",
       "      <td>0</td>\n",
       "      <td>0</td>\n",
       "      <td>1</td>\n",
       "      <td>Secondary malignant neoplasm of respiratory an...</td>\n",
       "    </tr>\n",
       "  </tbody>\n",
       "</table>\n",
       "<p>5 rows × 117 columns</p>\n",
       "</div>"
      ],
      "text/plain": [
       "   Unnamed: 0  ...                                               text\n",
       "0           0  ...  Diabetes with other specified manifestations t...\n",
       "1           1  ...  Disorders of fluid electrolyte and acid-base b...\n",
       "2           2  ...  Other current conditions in the mother classif...\n",
       "3           3  ...  Intestinal infections due to other organisms D...\n",
       "4           4  ...  Secondary malignant neoplasm of respiratory an...\n",
       "\n",
       "[5 rows x 117 columns]"
      ]
     },
     "execution_count": 8,
     "metadata": {
      "tags": []
     },
     "output_type": "execute_result"
    }
   ],
   "source": [
    "df_dum = df_dum.drop(['diag_1_des', 'diag_2_des', 'diag_3_des', 'disch_description','admit_description'],axis=1)\n",
    "df_dum.head()"
   ]
  },
  {
   "cell_type": "code",
   "execution_count": 9,
   "metadata": {
    "id": "17PsMshe2h1w"
   },
   "outputs": [],
   "source": [
    "# https://gist.github.com/sebleier/554280\n",
    "# we are removing the words from the stop words list: 'no', 'nor', 'not'\n",
    "stopwords= ['i', 'me', 'my', 'myself', 'we', 'our', 'ours', 'ourselves', 'you', \"you're\", \"you've\",\\\n",
    "            \"you'll\", \"you'd\", 'your', 'yours', 'yourself', 'yourselves', 'he', 'him', 'his', 'himself', \\\n",
    "            'she', \"she's\", 'her', 'hers', 'herself', 'it', \"it's\", 'its', 'itself', 'they', 'them', 'their',\\\n",
    "            'theirs', 'themselves', 'what', 'which', 'who', 'whom', 'this', 'that', \"that'll\", 'these', 'those', \\\n",
    "            'am', 'is', 'are', 'was', 'were', 'be', 'been', 'being', 'have', 'has', 'had', 'having', 'do', 'does', \\\n",
    "            'did', 'doing', 'a', 'an', 'the', 'and', 'but', 'if', 'or', 'because', 'as', 'until', 'while', 'of', \\\n",
    "            'at', 'by', 'for', 'with', 'about', 'against', 'between', 'into', 'through', 'during', 'before', 'after',\\\n",
    "            'above', 'below', 'to', 'from', 'up', 'down', 'in', 'out', 'on', 'off', 'over', 'under', 'again', 'further',\\\n",
    "            'then', 'once', 'here', 'there', 'when', 'where', 'why', 'how', 'all', 'any', 'both', 'each', 'few', 'more',\\\n",
    "            'most', 'other', 'some', 'such', 'only', 'own', 'same', 'so', 'than', 'too', 'very', \\\n",
    "            's', 't', 'can', 'will', 'just', 'don', \"don't\", 'should', \"should've\", 'now', 'd', 'll', 'm', 'o', 're', \\\n",
    "            've', 'y', 'ain', 'aren', \"aren't\", 'couldn', \"couldn't\", 'didn', \"didn't\", 'doesn', \"doesn't\", 'hadn',\\\n",
    "            \"hadn't\", 'hasn', \"hasn't\", 'haven', \"haven't\", 'isn', \"isn't\", 'ma', 'mightn', \"mightn't\", 'mustn',\\\n",
    "            \"mustn't\", 'needn', \"needn't\", 'shan', \"shan't\", 'shouldn', \"shouldn't\", 'wasn', \"wasn't\", 'weren', \"weren't\", \\\n",
    "            'won', \"won't\", 'wouldn', \"wouldn't\"]"
   ]
  },
  {
   "cell_type": "code",
   "execution_count": 10,
   "metadata": {
    "id": "McEHzdt92h1w"
   },
   "outputs": [],
   "source": [
    "# https://stackoverflow.com/a/47091490/4084039\n",
    "import re\n",
    "from tqdm import tqdm\n",
    "def text_preprocess(phrase):\n",
    "    preprocessed_text = []\n",
    "\n",
    "    phrase = re.sub(r\"won't\", \"will not\", phrase)\n",
    "    phrase = re.sub(r\"can\\'t\", \"can not\", phrase)\n",
    "    phrase = re.sub(r\"n\\'t\", \" not\", phrase)\n",
    "    phrase = re.sub(r\"\\'re\", \" are\", phrase)\n",
    "    phrase = re.sub(r\"\\'s\", \" is\", phrase)\n",
    "    phrase = re.sub(r\"\\'d\", \" would\", phrase)\n",
    "    phrase = re.sub(r\"\\'ll\", \" will\", phrase)\n",
    "    phrase = re.sub(r\"\\'t\", \" not\", phrase)\n",
    "    phrase = re.sub(r\"\\'ve\", \" have\", phrase)\n",
    "    phrase = re.sub(r\"\\'m\", \" am\", phrase)\n",
    "\n",
    "    phrase = phrase.replace('(','')\n",
    "    phrase = phrase.replace(')' ,'')\n",
    "    phrase = phrase.replace('.' ,'')                            \n",
    "    phrase = phrase.replace('-' ,'')\n",
    "    phrase = phrase.replace(':' ,'')  \n",
    "    phrase = phrase.replace('/',' ')\n",
    "    phrase = phrase.replace('[',' ')\n",
    "    phrase = phrase.replace(']',' ')\n",
    "                            \n",
    "\n",
    "    phrase = ' '.join(e.lower() for e in phrase.split() if e.lower() not in stopwords)\n",
    "\n",
    "    preprocessed_text.append(phrase.lower().strip())\n",
    "    return phrase\n",
    "\n"
   ]
  },
  {
   "cell_type": "code",
   "execution_count": 11,
   "metadata": {
    "id": "gosmLMQk2h1x"
   },
   "outputs": [],
   "source": [
    "df_dum['text'] = df_dum['text'].apply(text_preprocess)"
   ]
  },
  {
   "cell_type": "code",
   "execution_count": 12,
   "metadata": {
    "colab": {
     "base_uri": "https://localhost:8080/"
    },
    "id": "LTeTbgoB2h1x",
    "outputId": "b30c572d-91e5-4f70-9282-7b63e1055de0"
   },
   "outputs": [
    {
     "data": {
      "text/plain": [
       "Unnamed: 0         0\n",
       "Unnamed: 0.1       0\n",
       "encounter_id       0\n",
       "patient_nbr        0\n",
       "age                0\n",
       "                  ..\n",
       "change_Ch          0\n",
       "change_No          0\n",
       "diabetesMed_No     0\n",
       "diabetesMed_Yes    0\n",
       "text               0\n",
       "Length: 117, dtype: int64"
      ]
     },
     "execution_count": 12,
     "metadata": {
      "tags": []
     },
     "output_type": "execute_result"
    }
   ],
   "source": [
    "df_dum.isnull().sum()"
   ]
  },
  {
   "cell_type": "code",
   "execution_count": 13,
   "metadata": {
    "id": "oq4BMOi02h1y"
   },
   "outputs": [],
   "source": [
    "df_dum = df_dum.dropna()"
   ]
  },
  {
   "cell_type": "code",
   "execution_count": 14,
   "metadata": {
    "colab": {
     "base_uri": "https://localhost:8080/"
    },
    "id": "NAQIDdLg2h1y",
    "outputId": "74eddee7-1943-49f4-9c84-6adc4fae6e49"
   },
   "outputs": [
    {
     "name": "stderr",
     "output_type": "stream",
     "text": [
      "/usr/local/lib/python3.6/dist-packages/sklearn/externals/six.py:31: FutureWarning: The module is deprecated in version 0.21 and will be removed in version 0.23 since we've dropped support for Python 2.7. Please rely on the official version of six (https://pypi.org/project/six/).\n",
      "  \"(https://pypi.org/project/six/).\", FutureWarning)\n",
      "/usr/local/lib/python3.6/dist-packages/sklearn/utils/deprecation.py:144: FutureWarning: The sklearn.neighbors.base module is  deprecated in version 0.22 and will be removed in version 0.24. The corresponding classes / functions should instead be imported from sklearn.neighbors. Anything that cannot be imported from sklearn.neighbors is now part of the private API.\n",
      "  warnings.warn(message, FutureWarning)\n"
     ]
    }
   ],
   "source": [
    "\n",
    "\n",
    "from sklearn.model_selection import train_test_split\n",
    "\n",
    "X = df_dum.drop(['Unnamed: 0', 'Unnamed: 0.1', 'encounter_id', 'patient_nbr','readmitted' ], axis=1)\n",
    "y = df_dum['readmitted']\n",
    "\n",
    "X_train, X_test, y_train, y_test = train_test_split(X, y, test_size=0.3, random_state=0, stratify=y) "
   ]
  },
  {
   "cell_type": "code",
   "execution_count": null,
   "metadata": {
    "id": "ECa2Z3_I2h1y"
   },
   "outputs": [],
   "source": [
    "#X_train, X_cv, y_train, y_cv = train_test_split(X_train, y_train, test_size = 0.3, stratify = y_train)"
   ]
  },
  {
   "cell_type": "code",
   "execution_count": null,
   "metadata": {
    "colab": {
     "base_uri": "https://localhost:8080/"
    },
    "id": "hhLGe41x2h1z",
    "outputId": "ccf8ef43-dbd1-4b03-9aca-f07cd28f3367"
   },
   "outputs": [
    {
     "name": "stdout",
     "output_type": "stream",
     "text": [
      "SHAPES:-\n",
      "--------------------------------------------------\n",
      "x_train:  (71234, 112)\n",
      "x_test:  (30530, 112)\n",
      "--------------------------------------------------\n",
      "Percent share of data:-\n",
      "--------------------------------------------------\n",
      "x_train:  69.99921386737942\n",
      "x_test:  30.000786132620572\n"
     ]
    }
   ],
   "source": [
    "print('SHAPES:-')\n",
    "print('-'*50)\n",
    "print('x_train: ',X_train.shape)\n",
    "print('x_test: ',X_test.shape)\n",
    "print('-'*50)\n",
    "print('Percent share of data:-')\n",
    "print('-'*50)\n",
    "print('x_train: ', X_train.shape[0]*100/(X_train.shape[0] +X_test.shape[0]))\n",
    "print('x_test: ', X_test.shape[0]*100/(X_train.shape[0]  + X_test.shape[0]))"
   ]
  },
  {
   "cell_type": "markdown",
   "metadata": {
    "id": "RDYKKqWS2h1z"
   },
   "source": [
    "### Encoding Text features"
   ]
  },
  {
   "cell_type": "code",
   "execution_count": 15,
   "metadata": {
    "id": "_OMxYLgl2h1z"
   },
   "outputs": [],
   "source": [
    "lst_features = []"
   ]
  },
  {
   "cell_type": "markdown",
   "metadata": {
    "id": "PbW1VCb_2h1z"
   },
   "source": [
    "### Set 1 (Bag of Words)"
   ]
  },
  {
   "cell_type": "code",
   "execution_count": null,
   "metadata": {
    "colab": {
     "base_uri": "https://localhost:8080/"
    },
    "id": "wrr4qi-I2h10",
    "outputId": "8eb6d95f-5a28-4099-f53c-bdcbe40d9399"
   },
   "outputs": [
    {
     "name": "stdout",
     "output_type": "stream",
     "text": [
      "x_train_text_bow:  (71234, 100)\n",
      "x_test_text_bow:  (30530, 100)\n"
     ]
    }
   ],
   "source": [
    "vect = CountVectorizer(min_df=10, ngram_range = (1,4), max_features = 100)\n",
    "X_train_txt_bow = vect.fit_transform(X_train['text'].values)\n",
    "X_test_txt_bow = vect.transform(X_test['text'].values)\n",
    "lst_features.extend(vect.get_feature_names())\n",
    "\n",
    "#printing the shapes:\n",
    "print('x_train_text_bow: ',X_train_txt_bow.shape)\n",
    "#print('x_cv_text: ',X_cv_txt_bow.shape)\n",
    "print('x_test_text_bow: ',X_test_txt_bow.shape)\n",
    "#print('='*50)\n",
    "#print('length of feature list:',len(lst_features))"
   ]
  },
  {
   "cell_type": "markdown",
   "metadata": {
    "id": "6ek90RP42h10"
   },
   "source": [
    "### Set 2 (Tfidf)"
   ]
  },
  {
   "cell_type": "code",
   "execution_count": null,
   "metadata": {
    "colab": {
     "base_uri": "https://localhost:8080/"
    },
    "id": "aWRZXrjY2h10",
    "outputId": "9a78df2c-7679-4295-8f74-c56d499f97b3"
   },
   "outputs": [
    {
     "name": "stdout",
     "output_type": "stream",
     "text": [
      "x_txt_tfidf:  (71234, 100)\n",
      "x_test_txt:  (30530, 100)\n"
     ]
    }
   ],
   "source": [
    "vect = TfidfVectorizer(min_df=10, ngram_range = (1,4), max_features = 100)\n",
    "#fitting the vectorizer on X_train only\n",
    "X_train_txt_tf = vect.fit_transform(X_train['text'].values)\n",
    "lst_features.extend(vect.get_feature_names())\n",
    "# now, finding the bag of words for all sets:\n",
    "#X_train_txt_tf = vect.transform(X_train['text'].values)\n",
    "#X_cv_txt_tf = vect.transform(X_cv['text'].values)\n",
    "X_test_txt_tf = vect.transform(X_test['text'].values)\n",
    "\n",
    "#printing the shapes:\n",
    "print('x_txt_tfidf: ',X_train_txt_tf.shape)\n",
    "#print('x_cv_txt: ',X_cv_txt_tf.shape)\n",
    "print('x_test_txt: ',X_test_txt_tf.shape)\n",
    "#print('='*50)\n",
    "#print('length of feature list:',len(lst_features))"
   ]
  },
  {
   "cell_type": "markdown",
   "metadata": {
    "id": "svO-noYa2h11"
   },
   "source": [
    "### Encoding Numerical Features\n",
    "***'age','time_in_hospital', 'num_lab_procedures',\n",
    "       'num_procedures', 'num_medications', 'number_outpatient',\n",
    "       'number_emergency', 'number_inpatient', 'number_diagnoses' ***"
   ]
  },
  {
   "cell_type": "code",
   "execution_count": 16,
   "metadata": {
    "id": "Ei2Y2P6a2h11"
   },
   "outputs": [],
   "source": [
    "from sklearn.preprocessing import Normalizer\n",
    "\n",
    "#age\n",
    "norm = Normalizer().fit(X_train['age'].values.reshape(1,-1))\n",
    "X_train_age = norm.transform(X_train['age'].values.reshape(1,-1)).reshape(-1,1)\n",
    "X_test_age = norm.transform(X_test['age'].values.reshape(1,-1)).reshape(-1,1)\n",
    "#X_cv_age = norm.transform(X_cv['age'].values.reshape(1,-1)).reshape(-1,1)\n",
    "\n",
    "#time_in_hospital\n",
    "norm = Normalizer().fit(X_train['time_in_hospital'].values.reshape(1,-1))\n",
    "X_train_time_in_hospital = norm.transform(X_train['time_in_hospital'].values.reshape(1,-1)).reshape(-1,1)\n",
    "X_test_time_in_hospital = norm.transform(X_test['time_in_hospital'].values.reshape(1,-1)).reshape(-1,1)\n",
    "#X_cv_time_in_hospital = norm.transform(X_cv['time_in_hospital'].values.reshape(1,-1)).reshape(-1,1)\n",
    "\n",
    "#'num_lab_procedures'\n",
    "norm = Normalizer().fit(X_train['num_lab_procedures'].values.reshape(1,-1))\n",
    "X_train_num_lab_procedures = norm.transform(X_train['num_lab_procedures'].values.reshape(1,-1)).reshape(-1,1)\n",
    "X_test_num_lab_procedures = norm.transform(X_test['num_lab_procedures'].values.reshape(1,-1)).reshape(-1,1)\n",
    "#X_cv_num_lab_procedures = norm.transform(X_cv['num_lab_procedures'].values.reshape(1,-1)).reshape(-1,1)\n",
    "\n",
    "# 'num_procedures'\n",
    "norm = Normalizer().fit(X_train['num_procedures'].values.reshape(1,-1))\n",
    "X_train_num_procedures = norm.transform(X_train['num_procedures'].values.reshape(1,-1)).reshape(-1,1)\n",
    "X_test_num_procedures = norm.transform(X_test['num_procedures'].values.reshape(1,-1)).reshape(-1,1)\n",
    "#X_cv_num_procedures = norm.transform(X_cv['num_procedures'].values.reshape(1,-1)).reshape(-1,1)\n",
    "\n",
    "#'num_medications'\n",
    "norm = Normalizer().fit(X_train['num_medications'].values.reshape(1,-1))\n",
    "X_train_num_medications = norm.transform(X_train['num_medications'].values.reshape(1,-1)).reshape(-1,1)\n",
    "X_test_num_medications = norm.transform(X_test['num_medications'].values.reshape(1,-1)).reshape(-1,1)\n",
    "#X_cv_num_medications = norm.transform(X_cv['num_medications'].values.reshape(1,-1)).reshape(-1,1)\n",
    "\n",
    "#'number_outpatient'\n",
    "norm = Normalizer().fit(X_train['number_outpatient'].values.reshape(1,-1))\n",
    "X_train_number_outpatient = norm.transform(X_train['number_outpatient'].values.reshape(1,-1)).reshape(-1,1)\n",
    "X_test_number_outpatient = norm.transform(X_test['number_outpatient'].values.reshape(1,-1)).reshape(-1,1)\n",
    "#X_cv_number_outpatient = norm.transform(X_cv['number_outpatient'].values.reshape(1,-1)).reshape(-1,1)\n",
    "\n",
    "#'number_emergency'\n",
    "norm = Normalizer().fit(X_train['number_emergency'].values.reshape(1,-1))\n",
    "X_train_number_emergency = norm.transform(X_train['number_emergency'].values.reshape(1,-1)).reshape(-1,1)\n",
    "X_test_number_emergency = norm.transform(X_test['number_emergency'].values.reshape(1,-1)).reshape(-1,1)\n",
    "#X_cv_number_emergency = norm.transform(X_cv['number_emergency'].values.reshape(1,-1)).reshape(-1,1)\n",
    "\n",
    "\n",
    "#'number_inpatient'\n",
    "norm = Normalizer().fit(X_train['number_inpatient'].values.reshape(1,-1))\n",
    "X_train_number_inpatient = norm.transform(X_train['number_inpatient'].values.reshape(1,-1)).reshape(-1,1)\n",
    "X_test_number_inpatient = norm.transform(X_test['number_inpatient'].values.reshape(1,-1)).reshape(-1,1)\n",
    "#X_cv_number_inpatient = norm.transform(X_cv['number_inpatient'].values.reshape(1,-1)).reshape(-1,1)\n",
    "\n",
    "\n",
    "\n",
    "#'number_diagnoses' \n",
    "norm = Normalizer().fit(X_train['number_diagnoses'].values.reshape(1,-1))\n",
    "X_train_number_diagnoses = norm.transform(X_train['number_diagnoses'].values.reshape(1,-1)).reshape(-1,1)\n",
    "X_test_number_diagnoses = norm.transform(X_test['number_diagnoses'].values.reshape(1,-1)).reshape(-1,1)\n",
    "#X_cv_number_diagnoses = norm.transform(X_cv['number_diagnoses'].values.reshape(1,-1)).reshape(-1,1)"
   ]
  },
  {
   "cell_type": "markdown",
   "metadata": {
    "id": "65hHELAU2h13"
   },
   "source": [
    "### Concatenation (BOW)"
   ]
  },
  {
   "cell_type": "code",
   "execution_count": null,
   "metadata": {
    "colab": {
     "base_uri": "https://localhost:8080/",
     "height": 530
    },
    "id": "Fu3TDCcU2h15",
    "outputId": "f450dfaf-792d-48ad-e1f2-63479f1569aa"
   },
   "outputs": [
    {
     "data": {
      "text/html": [
       "<div>\n",
       "<style scoped>\n",
       "    .dataframe tbody tr th:only-of-type {\n",
       "        vertical-align: middle;\n",
       "    }\n",
       "\n",
       "    .dataframe tbody tr th {\n",
       "        vertical-align: top;\n",
       "    }\n",
       "\n",
       "    .dataframe thead th {\n",
       "        text-align: right;\n",
       "    }\n",
       "</style>\n",
       "<table border=\"1\" class=\"dataframe\">\n",
       "  <thead>\n",
       "    <tr style=\"text-align: right;\">\n",
       "      <th></th>\n",
       "      <th>age</th>\n",
       "      <th>admission_type_id</th>\n",
       "      <th>discharge_disposition_id</th>\n",
       "      <th>admission_source_id</th>\n",
       "      <th>time_in_hospital</th>\n",
       "      <th>num_lab_procedures</th>\n",
       "      <th>num_procedures</th>\n",
       "      <th>num_medications</th>\n",
       "      <th>number_outpatient</th>\n",
       "      <th>number_emergency</th>\n",
       "      <th>number_inpatient</th>\n",
       "      <th>number_diagnoses</th>\n",
       "      <th>procedure_per_med</th>\n",
       "      <th>num_med_up</th>\n",
       "      <th>num_med_used</th>\n",
       "      <th>count_encounter</th>\n",
       "      <th>gender_Female</th>\n",
       "      <th>gender_Male</th>\n",
       "      <th>gender_Unknown/Invalid</th>\n",
       "      <th>race_AfricanAmerican</th>\n",
       "      <th>race_Asian</th>\n",
       "      <th>race_Caucasian</th>\n",
       "      <th>race_Hispanic</th>\n",
       "      <th>race_Other</th>\n",
       "      <th>max_glu_serum_&gt;200</th>\n",
       "      <th>max_glu_serum_&gt;300</th>\n",
       "      <th>max_glu_serum_None</th>\n",
       "      <th>max_glu_serum_Norm</th>\n",
       "      <th>A1Cresult_&gt;7</th>\n",
       "      <th>A1Cresult_&gt;8</th>\n",
       "      <th>A1Cresult_None</th>\n",
       "      <th>A1Cresult_Norm</th>\n",
       "      <th>metformin_Down</th>\n",
       "      <th>metformin_No</th>\n",
       "      <th>metformin_Steady</th>\n",
       "      <th>metformin_Up</th>\n",
       "      <th>repaglinide_Down</th>\n",
       "      <th>repaglinide_No</th>\n",
       "      <th>repaglinide_Steady</th>\n",
       "      <th>repaglinide_Up</th>\n",
       "      <th>...</th>\n",
       "      <th>acarbose_Down</th>\n",
       "      <th>acarbose_No</th>\n",
       "      <th>acarbose_Steady</th>\n",
       "      <th>acarbose_Up</th>\n",
       "      <th>miglitol_Down</th>\n",
       "      <th>miglitol_No</th>\n",
       "      <th>miglitol_Steady</th>\n",
       "      <th>miglitol_Up</th>\n",
       "      <th>troglitazone_No</th>\n",
       "      <th>troglitazone_Steady</th>\n",
       "      <th>tolazamide_No</th>\n",
       "      <th>tolazamide_Steady</th>\n",
       "      <th>tolazamide_Up</th>\n",
       "      <th>examide_No</th>\n",
       "      <th>citoglipton_No</th>\n",
       "      <th>insulin_Down</th>\n",
       "      <th>insulin_No</th>\n",
       "      <th>insulin_Steady</th>\n",
       "      <th>insulin_Up</th>\n",
       "      <th>glyburide-metformin_Down</th>\n",
       "      <th>glyburide-metformin_No</th>\n",
       "      <th>glyburide-metformin_Steady</th>\n",
       "      <th>glyburide-metformin_Up</th>\n",
       "      <th>glipizide-metformin_No</th>\n",
       "      <th>glipizide-metformin_Steady</th>\n",
       "      <th>glimepiride-pioglitazone_No</th>\n",
       "      <th>glimepiride-pioglitazone_Steady</th>\n",
       "      <th>metformin-rosiglitazone_No</th>\n",
       "      <th>metformin-rosiglitazone_Steady</th>\n",
       "      <th>metformin-pioglitazone_No</th>\n",
       "      <th>metformin-pioglitazone_Steady</th>\n",
       "      <th>change_Ch</th>\n",
       "      <th>change_No</th>\n",
       "      <th>diabetesMed_No</th>\n",
       "      <th>diabetesMed_Yes</th>\n",
       "      <th>change_Ch</th>\n",
       "      <th>change_No</th>\n",
       "      <th>diabetesMed_No</th>\n",
       "      <th>diabetesMed_Yes</th>\n",
       "      <th>text</th>\n",
       "    </tr>\n",
       "  </thead>\n",
       "  <tbody>\n",
       "    <tr>\n",
       "      <th>35582</th>\n",
       "      <td>85.0</td>\n",
       "      <td>1</td>\n",
       "      <td>3</td>\n",
       "      <td>7</td>\n",
       "      <td>3</td>\n",
       "      <td>43</td>\n",
       "      <td>0</td>\n",
       "      <td>9</td>\n",
       "      <td>0</td>\n",
       "      <td>0</td>\n",
       "      <td>0</td>\n",
       "      <td>9</td>\n",
       "      <td>4.777778</td>\n",
       "      <td>0</td>\n",
       "      <td>1</td>\n",
       "      <td>1</td>\n",
       "      <td>1</td>\n",
       "      <td>0</td>\n",
       "      <td>0</td>\n",
       "      <td>0</td>\n",
       "      <td>0</td>\n",
       "      <td>1</td>\n",
       "      <td>0</td>\n",
       "      <td>0</td>\n",
       "      <td>0</td>\n",
       "      <td>0</td>\n",
       "      <td>1</td>\n",
       "      <td>0</td>\n",
       "      <td>0</td>\n",
       "      <td>0</td>\n",
       "      <td>1</td>\n",
       "      <td>0</td>\n",
       "      <td>0</td>\n",
       "      <td>1</td>\n",
       "      <td>0</td>\n",
       "      <td>0</td>\n",
       "      <td>0</td>\n",
       "      <td>1</td>\n",
       "      <td>0</td>\n",
       "      <td>0</td>\n",
       "      <td>...</td>\n",
       "      <td>0</td>\n",
       "      <td>1</td>\n",
       "      <td>0</td>\n",
       "      <td>0</td>\n",
       "      <td>0</td>\n",
       "      <td>1</td>\n",
       "      <td>0</td>\n",
       "      <td>0</td>\n",
       "      <td>1</td>\n",
       "      <td>0</td>\n",
       "      <td>1</td>\n",
       "      <td>0</td>\n",
       "      <td>0</td>\n",
       "      <td>1</td>\n",
       "      <td>1</td>\n",
       "      <td>1</td>\n",
       "      <td>0</td>\n",
       "      <td>0</td>\n",
       "      <td>0</td>\n",
       "      <td>0</td>\n",
       "      <td>1</td>\n",
       "      <td>0</td>\n",
       "      <td>0</td>\n",
       "      <td>1</td>\n",
       "      <td>0</td>\n",
       "      <td>1</td>\n",
       "      <td>0</td>\n",
       "      <td>1</td>\n",
       "      <td>0</td>\n",
       "      <td>1</td>\n",
       "      <td>0</td>\n",
       "      <td>1</td>\n",
       "      <td>0</td>\n",
       "      <td>0</td>\n",
       "      <td>1</td>\n",
       "      <td>1</td>\n",
       "      <td>0</td>\n",
       "      <td>0</td>\n",
       "      <td>1</td>\n",
       "      <td>acute illdefined cerebrovascular disease cereb...</td>\n",
       "    </tr>\n",
       "    <tr>\n",
       "      <th>55196</th>\n",
       "      <td>65.0</td>\n",
       "      <td>1</td>\n",
       "      <td>1</td>\n",
       "      <td>7</td>\n",
       "      <td>2</td>\n",
       "      <td>66</td>\n",
       "      <td>1</td>\n",
       "      <td>13</td>\n",
       "      <td>0</td>\n",
       "      <td>0</td>\n",
       "      <td>1</td>\n",
       "      <td>9</td>\n",
       "      <td>5.153846</td>\n",
       "      <td>0</td>\n",
       "      <td>3</td>\n",
       "      <td>3</td>\n",
       "      <td>1</td>\n",
       "      <td>0</td>\n",
       "      <td>0</td>\n",
       "      <td>0</td>\n",
       "      <td>0</td>\n",
       "      <td>1</td>\n",
       "      <td>0</td>\n",
       "      <td>0</td>\n",
       "      <td>0</td>\n",
       "      <td>0</td>\n",
       "      <td>1</td>\n",
       "      <td>0</td>\n",
       "      <td>0</td>\n",
       "      <td>0</td>\n",
       "      <td>1</td>\n",
       "      <td>0</td>\n",
       "      <td>0</td>\n",
       "      <td>0</td>\n",
       "      <td>1</td>\n",
       "      <td>0</td>\n",
       "      <td>0</td>\n",
       "      <td>1</td>\n",
       "      <td>0</td>\n",
       "      <td>0</td>\n",
       "      <td>...</td>\n",
       "      <td>0</td>\n",
       "      <td>1</td>\n",
       "      <td>0</td>\n",
       "      <td>0</td>\n",
       "      <td>0</td>\n",
       "      <td>1</td>\n",
       "      <td>0</td>\n",
       "      <td>0</td>\n",
       "      <td>1</td>\n",
       "      <td>0</td>\n",
       "      <td>1</td>\n",
       "      <td>0</td>\n",
       "      <td>0</td>\n",
       "      <td>1</td>\n",
       "      <td>1</td>\n",
       "      <td>0</td>\n",
       "      <td>0</td>\n",
       "      <td>1</td>\n",
       "      <td>0</td>\n",
       "      <td>0</td>\n",
       "      <td>1</td>\n",
       "      <td>0</td>\n",
       "      <td>0</td>\n",
       "      <td>1</td>\n",
       "      <td>0</td>\n",
       "      <td>1</td>\n",
       "      <td>0</td>\n",
       "      <td>1</td>\n",
       "      <td>0</td>\n",
       "      <td>1</td>\n",
       "      <td>0</td>\n",
       "      <td>1</td>\n",
       "      <td>0</td>\n",
       "      <td>0</td>\n",
       "      <td>1</td>\n",
       "      <td>1</td>\n",
       "      <td>0</td>\n",
       "      <td>0</td>\n",
       "      <td>1</td>\n",
       "      <td>septicemia acute kidney failure diabetes renal...</td>\n",
       "    </tr>\n",
       "    <tr>\n",
       "      <th>47517</th>\n",
       "      <td>75.0</td>\n",
       "      <td>1</td>\n",
       "      <td>1</td>\n",
       "      <td>7</td>\n",
       "      <td>2</td>\n",
       "      <td>43</td>\n",
       "      <td>0</td>\n",
       "      <td>16</td>\n",
       "      <td>0</td>\n",
       "      <td>0</td>\n",
       "      <td>0</td>\n",
       "      <td>7</td>\n",
       "      <td>2.687500</td>\n",
       "      <td>1</td>\n",
       "      <td>1</td>\n",
       "      <td>1</td>\n",
       "      <td>0</td>\n",
       "      <td>1</td>\n",
       "      <td>0</td>\n",
       "      <td>1</td>\n",
       "      <td>0</td>\n",
       "      <td>0</td>\n",
       "      <td>0</td>\n",
       "      <td>0</td>\n",
       "      <td>0</td>\n",
       "      <td>0</td>\n",
       "      <td>1</td>\n",
       "      <td>0</td>\n",
       "      <td>0</td>\n",
       "      <td>0</td>\n",
       "      <td>1</td>\n",
       "      <td>0</td>\n",
       "      <td>0</td>\n",
       "      <td>1</td>\n",
       "      <td>0</td>\n",
       "      <td>0</td>\n",
       "      <td>0</td>\n",
       "      <td>1</td>\n",
       "      <td>0</td>\n",
       "      <td>0</td>\n",
       "      <td>...</td>\n",
       "      <td>0</td>\n",
       "      <td>1</td>\n",
       "      <td>0</td>\n",
       "      <td>0</td>\n",
       "      <td>0</td>\n",
       "      <td>1</td>\n",
       "      <td>0</td>\n",
       "      <td>0</td>\n",
       "      <td>1</td>\n",
       "      <td>0</td>\n",
       "      <td>1</td>\n",
       "      <td>0</td>\n",
       "      <td>0</td>\n",
       "      <td>1</td>\n",
       "      <td>1</td>\n",
       "      <td>0</td>\n",
       "      <td>0</td>\n",
       "      <td>0</td>\n",
       "      <td>1</td>\n",
       "      <td>0</td>\n",
       "      <td>1</td>\n",
       "      <td>0</td>\n",
       "      <td>0</td>\n",
       "      <td>1</td>\n",
       "      <td>0</td>\n",
       "      <td>1</td>\n",
       "      <td>0</td>\n",
       "      <td>1</td>\n",
       "      <td>0</td>\n",
       "      <td>1</td>\n",
       "      <td>0</td>\n",
       "      <td>1</td>\n",
       "      <td>0</td>\n",
       "      <td>0</td>\n",
       "      <td>1</td>\n",
       "      <td>1</td>\n",
       "      <td>0</td>\n",
       "      <td>0</td>\n",
       "      <td>1</td>\n",
       "      <td>symptoms involving respiratory system chest sy...</td>\n",
       "    </tr>\n",
       "    <tr>\n",
       "      <th>91186</th>\n",
       "      <td>55.0</td>\n",
       "      <td>2</td>\n",
       "      <td>1</td>\n",
       "      <td>7</td>\n",
       "      <td>8</td>\n",
       "      <td>74</td>\n",
       "      <td>0</td>\n",
       "      <td>28</td>\n",
       "      <td>0</td>\n",
       "      <td>1</td>\n",
       "      <td>1</td>\n",
       "      <td>9</td>\n",
       "      <td>2.642857</td>\n",
       "      <td>0</td>\n",
       "      <td>3</td>\n",
       "      <td>3</td>\n",
       "      <td>1</td>\n",
       "      <td>0</td>\n",
       "      <td>0</td>\n",
       "      <td>0</td>\n",
       "      <td>0</td>\n",
       "      <td>1</td>\n",
       "      <td>0</td>\n",
       "      <td>0</td>\n",
       "      <td>0</td>\n",
       "      <td>0</td>\n",
       "      <td>1</td>\n",
       "      <td>0</td>\n",
       "      <td>0</td>\n",
       "      <td>1</td>\n",
       "      <td>0</td>\n",
       "      <td>0</td>\n",
       "      <td>0</td>\n",
       "      <td>1</td>\n",
       "      <td>0</td>\n",
       "      <td>0</td>\n",
       "      <td>0</td>\n",
       "      <td>1</td>\n",
       "      <td>0</td>\n",
       "      <td>0</td>\n",
       "      <td>...</td>\n",
       "      <td>0</td>\n",
       "      <td>1</td>\n",
       "      <td>0</td>\n",
       "      <td>0</td>\n",
       "      <td>0</td>\n",
       "      <td>1</td>\n",
       "      <td>0</td>\n",
       "      <td>0</td>\n",
       "      <td>1</td>\n",
       "      <td>0</td>\n",
       "      <td>1</td>\n",
       "      <td>0</td>\n",
       "      <td>0</td>\n",
       "      <td>1</td>\n",
       "      <td>1</td>\n",
       "      <td>1</td>\n",
       "      <td>0</td>\n",
       "      <td>0</td>\n",
       "      <td>0</td>\n",
       "      <td>0</td>\n",
       "      <td>1</td>\n",
       "      <td>0</td>\n",
       "      <td>0</td>\n",
       "      <td>1</td>\n",
       "      <td>0</td>\n",
       "      <td>1</td>\n",
       "      <td>0</td>\n",
       "      <td>1</td>\n",
       "      <td>0</td>\n",
       "      <td>1</td>\n",
       "      <td>0</td>\n",
       "      <td>1</td>\n",
       "      <td>0</td>\n",
       "      <td>0</td>\n",
       "      <td>1</td>\n",
       "      <td>1</td>\n",
       "      <td>0</td>\n",
       "      <td>0</td>\n",
       "      <td>1</td>\n",
       "      <td>pneumonia organism unspecified chronic bronchi...</td>\n",
       "    </tr>\n",
       "    <tr>\n",
       "      <th>42131</th>\n",
       "      <td>25.0</td>\n",
       "      <td>1</td>\n",
       "      <td>7</td>\n",
       "      <td>7</td>\n",
       "      <td>1</td>\n",
       "      <td>25</td>\n",
       "      <td>0</td>\n",
       "      <td>7</td>\n",
       "      <td>0</td>\n",
       "      <td>5</td>\n",
       "      <td>3</td>\n",
       "      <td>2</td>\n",
       "      <td>3.571429</td>\n",
       "      <td>1</td>\n",
       "      <td>1</td>\n",
       "      <td>12</td>\n",
       "      <td>1</td>\n",
       "      <td>0</td>\n",
       "      <td>0</td>\n",
       "      <td>0</td>\n",
       "      <td>0</td>\n",
       "      <td>1</td>\n",
       "      <td>0</td>\n",
       "      <td>0</td>\n",
       "      <td>0</td>\n",
       "      <td>0</td>\n",
       "      <td>1</td>\n",
       "      <td>0</td>\n",
       "      <td>0</td>\n",
       "      <td>0</td>\n",
       "      <td>1</td>\n",
       "      <td>0</td>\n",
       "      <td>0</td>\n",
       "      <td>1</td>\n",
       "      <td>0</td>\n",
       "      <td>0</td>\n",
       "      <td>0</td>\n",
       "      <td>1</td>\n",
       "      <td>0</td>\n",
       "      <td>0</td>\n",
       "      <td>...</td>\n",
       "      <td>0</td>\n",
       "      <td>1</td>\n",
       "      <td>0</td>\n",
       "      <td>0</td>\n",
       "      <td>0</td>\n",
       "      <td>1</td>\n",
       "      <td>0</td>\n",
       "      <td>0</td>\n",
       "      <td>1</td>\n",
       "      <td>0</td>\n",
       "      <td>1</td>\n",
       "      <td>0</td>\n",
       "      <td>0</td>\n",
       "      <td>1</td>\n",
       "      <td>1</td>\n",
       "      <td>0</td>\n",
       "      <td>0</td>\n",
       "      <td>0</td>\n",
       "      <td>1</td>\n",
       "      <td>0</td>\n",
       "      <td>1</td>\n",
       "      <td>0</td>\n",
       "      <td>0</td>\n",
       "      <td>1</td>\n",
       "      <td>0</td>\n",
       "      <td>1</td>\n",
       "      <td>0</td>\n",
       "      <td>1</td>\n",
       "      <td>0</td>\n",
       "      <td>1</td>\n",
       "      <td>0</td>\n",
       "      <td>1</td>\n",
       "      <td>0</td>\n",
       "      <td>0</td>\n",
       "      <td>1</td>\n",
       "      <td>1</td>\n",
       "      <td>0</td>\n",
       "      <td>0</td>\n",
       "      <td>1</td>\n",
       "      <td>diabetes ketoacidosis type juvenile type not s...</td>\n",
       "    </tr>\n",
       "  </tbody>\n",
       "</table>\n",
       "<p>5 rows × 112 columns</p>\n",
       "</div>"
      ],
      "text/plain": [
       "        age  ...                                               text\n",
       "35582  85.0  ...  acute illdefined cerebrovascular disease cereb...\n",
       "55196  65.0  ...  septicemia acute kidney failure diabetes renal...\n",
       "47517  75.0  ...  symptoms involving respiratory system chest sy...\n",
       "91186  55.0  ...  pneumonia organism unspecified chronic bronchi...\n",
       "42131  25.0  ...  diabetes ketoacidosis type juvenile type not s...\n",
       "\n",
       "[5 rows x 112 columns]"
      ]
     },
     "execution_count": 29,
     "metadata": {
      "tags": []
     },
     "output_type": "execute_result"
    }
   ],
   "source": [
    "X_train.head()"
   ]
  },
  {
   "cell_type": "code",
   "execution_count": 17,
   "metadata": {
    "id": "U0ymdCqJ2h16"
   },
   "outputs": [],
   "source": [
    "X_train_categorical = X_train.drop(['age','time_in_hospital', 'num_lab_procedures', 'num_procedures',\n",
    "                                    'num_medications', 'number_outpatient', 'number_emergency',\n",
    "                                    'number_inpatient', 'number_diagnoses', 'text'], axis=1)\n",
    "X_test_categorical = X_test.drop(['age','time_in_hospital', 'num_lab_procedures', 'num_procedures',\n",
    "                                    'num_medications', 'number_outpatient', 'number_emergency',\n",
    "                                    'number_inpatient', 'number_diagnoses', 'text'], axis=1)\n",
    "#X_cv_categorical = X_cv.drop(['age','time_in_hospital', 'num_lab_procedures', 'num_procedures',\n",
    "#                                    'num_medications', 'number_outpatient', 'number_emergency',\n",
    "#                                    'number_inpatient', 'number_diagnoses', 'text'], axis=1)"
   ]
  },
  {
   "cell_type": "code",
   "execution_count": null,
   "metadata": {
    "colab": {
     "base_uri": "https://localhost:8080/"
    },
    "id": "z3L0wp-O2h16",
    "outputId": "64acb4ee-2e9b-4f13-df8b-d392ba42267f"
   },
   "outputs": [
    {
     "data": {
      "text/plain": [
       "(71234, 102)"
      ]
     },
     "execution_count": 25,
     "metadata": {
      "tags": []
     },
     "output_type": "execute_result"
    }
   ],
   "source": [
    "X_train_categorical.shape"
   ]
  },
  {
   "cell_type": "markdown",
   "metadata": {
    "id": "3sIQCm2-2h16"
   },
   "source": [
    "### Concatenation including text (BoW)"
   ]
  },
  {
   "cell_type": "code",
   "execution_count": null,
   "metadata": {
    "colab": {
     "base_uri": "https://localhost:8080/"
    },
    "id": "ayEXdTUa2h16",
    "outputId": "cac4e6af-42ef-481e-b55e-ebbb50554eaf"
   },
   "outputs": [
    {
     "name": "stdout",
     "output_type": "stream",
     "text": [
      "Final Data matrix\n",
      "(71234, 211) (71234,)\n",
      "(30530, 211) (30530,)\n",
      "====================================================================================================\n"
     ]
    }
   ],
   "source": [
    "from scipy.sparse import hstack\n",
    "X_tr_bow = hstack((X_train_categorical, X_train_txt_bow, X_train_age, X_train_time_in_hospital, X_train_num_lab_procedures,\n",
    "                  X_train_num_procedures, X_train_num_medications, X_train_number_outpatient, X_train_number_emergency,\n",
    "                  X_train_number_inpatient, X_train_number_diagnoses )).tocsr()\n",
    "#X_cr_bow = hstack(( X_cv_categorical, X_cv_txt_bow, X_cv_age, X_cv_time_in_hospital, X_cv_num_lab_procedures,\n",
    "#                  X_cv_num_procedures, X_cv_num_medications, X_cv_number_outpatient, X_cv_number_emergency,\n",
    "#                  X_cv_number_inpatient, X_cv_number_diagnoses )).tocsr()\n",
    "X_te_bow = hstack(( X_test_categorical, X_test_txt_bow, X_test_age, X_test_time_in_hospital, X_test_num_lab_procedures,\n",
    "                  X_test_num_procedures, X_test_num_medications, X_test_number_outpatient, X_test_number_emergency,\n",
    "                  X_test_number_inpatient, X_test_number_diagnoses )).tocsr()\n",
    "\n",
    "print(\"Final Data matrix\")\n",
    "print(X_tr_bow.shape, y_train.shape)\n",
    "#print(X_cr_bow.shape, y_cv.shape)\n",
    "print(X_te_bow.shape, y_test.shape)\n",
    "print(\"=\"*100)"
   ]
  },
  {
   "cell_type": "markdown",
   "metadata": {
    "id": "KGdhddA72h17"
   },
   "source": [
    "### Concatenation including text (TfIDF)"
   ]
  },
  {
   "cell_type": "code",
   "execution_count": null,
   "metadata": {
    "colab": {
     "base_uri": "https://localhost:8080/"
    },
    "id": "flDCHXqC2h17",
    "outputId": "20ac7864-e596-4434-caad-0b8879c00e69"
   },
   "outputs": [
    {
     "name": "stdout",
     "output_type": "stream",
     "text": [
      "Final Data matrix\n",
      "(71234, 211) (71234,)\n",
      "(30530, 211) (30530,)\n",
      "====================================================================================================\n"
     ]
    }
   ],
   "source": [
    "from scipy.sparse import hstack\n",
    "X_tr_tf = hstack((X_train_categorical, X_train_txt_tf, X_train_age, X_train_time_in_hospital, X_train_num_lab_procedures,\n",
    "                  X_train_num_procedures, X_train_num_medications, X_train_number_outpatient, X_train_number_emergency,\n",
    "                  X_train_number_inpatient, X_train_number_diagnoses )).tocsr()\n",
    "#X_cr_tf = hstack(( X_cv_categorical, X_cv_txt_tf, X_cv_age, X_cv_time_in_hospital, X_cv_num_lab_procedures,\n",
    "#                  X_cv_num_procedures, X_cv_num_medications, X_cv_number_outpatient, X_cv_number_emergency,\n",
    "#                  X_cv_number_inpatient, X_cv_number_diagnoses )).tocsr()\n",
    "X_te_tf = hstack(( X_test_categorical, X_test_txt_tf, X_test_age, X_test_time_in_hospital, X_test_num_lab_procedures,\n",
    "                  X_test_num_procedures, X_test_num_medications, X_test_number_outpatient, X_test_number_emergency,\n",
    "                  X_test_number_inpatient, X_test_number_diagnoses )).tocsr()\n",
    "\n",
    "print(\"Final Data matrix\")\n",
    "print(X_tr_tf.shape, y_train.shape)\n",
    "#print(X_cr_tf.shape, y_cv.shape)\n",
    "print(X_te_tf.shape, y_test.shape)\n",
    "print(\"=\"*100)"
   ]
  },
  {
   "cell_type": "markdown",
   "metadata": {
    "id": "oj7GofrW2h17"
   },
   "source": [
    "### Concatenation without text"
   ]
  },
  {
   "cell_type": "code",
   "execution_count": null,
   "metadata": {
    "colab": {
     "base_uri": "https://localhost:8080/"
    },
    "id": "Gx-wMaF82h17",
    "outputId": "8ac9e50c-f016-4870-830a-2ea19d9cb3a4"
   },
   "outputs": [
    {
     "name": "stdout",
     "output_type": "stream",
     "text": [
      "Final Data matrix\n",
      "(71234, 111) (71234,)\n",
      "(30530, 111) (30530,)\n",
      "====================================================================================================\n"
     ]
    }
   ],
   "source": [
    "from scipy.sparse import hstack\n",
    "X_tr = np.hstack((X_train_categorical, X_train_age, X_train_time_in_hospital, X_train_num_lab_procedures,\n",
    "              X_train_num_procedures, X_train_num_medications, X_train_number_outpatient, X_train_number_emergency,\n",
    "              X_train_number_inpatient, X_train_number_diagnoses))\n",
    "#X_cr_tf = hstack(( X_cv_categorical, X_cv_txt_tf, X_cv_age, X_cv_time_in_hospital, X_cv_num_lab_procedures,\n",
    "#                  X_cv_num_procedures, X_cv_num_medications, X_cv_number_outpatient, X_cv_number_emergency,\n",
    "#                  X_cv_number_inpatient, X_cv_number_diagnoses )).tocsr()\n",
    "X_te = np.hstack(( X_test_categorical, X_test_age, X_test_time_in_hospital, X_test_num_lab_procedures,\n",
    "                  X_test_num_procedures, X_test_num_medications, X_test_number_outpatient, X_test_number_emergency,\n",
    "                  X_test_number_inpatient, X_test_number_diagnoses ))\n",
    "\n",
    "print(\"Final Data matrix\")\n",
    "print(X_tr.shape, y_train.shape)\n",
    "#print(X_cr_tf.shape, y_cv.shape)\n",
    "print(X_te.shape, y_test.shape)\n",
    "print(\"=\"*100)"
   ]
  },
  {
   "cell_type": "markdown",
   "metadata": {
    "id": "tnp-N6oy2h18"
   },
   "source": [
    "# Modelling"
   ]
  },
  {
   "cell_type": "code",
   "execution_count": 18,
   "metadata": {
    "id": "H2Ne4Ra_2h18"
   },
   "outputs": [],
   "source": [
    "from imblearn.pipeline import Pipeline, make_pipeline\n",
    "from sklearn.model_selection import cross_val_score\n",
    "from sklearn.model_selection import KFold"
   ]
  },
  {
   "cell_type": "code",
   "execution_count": 19,
   "metadata": {
    "id": "dYgYCDLo2h18"
   },
   "outputs": [],
   "source": [
    "#ref: https://www.kaggle.com/qianchao/smote-with-imbalance-data\n",
    "import itertools\n",
    "\n",
    "def plot_confusion_matrix(cm, classes,\n",
    "                          normalize=False,\n",
    "                          title='Confusion matrix',\n",
    "                          cmap=plt.cm.Blues):\n",
    "    \"\"\"\n",
    "    This function prints and plots the confusion matrix.\n",
    "    Normalization can be applied by setting `normalize=True`.\n",
    "    \"\"\"\n",
    "    plt.imshow(cm, interpolation='nearest', cmap=cmap)\n",
    "    plt.title(title)\n",
    "    plt.colorbar()\n",
    "    tick_marks = np.arange(len(classes))\n",
    "    plt.xticks(tick_marks, classes, rotation=0)\n",
    "    plt.yticks(tick_marks, classes)\n",
    "\n",
    "    if normalize:\n",
    "        cm = cm.astype('float') / cm.sum(axis=1)[:, np.newaxis]\n",
    "        #print(\"Normalized confusion matrix\")\n",
    "    else:\n",
    "        1#print('Confusion matrix, without normalization')\n",
    "\n",
    "    #print(cm)\n",
    "\n",
    "    thresh = cm.max() / 2.\n",
    "    for i, j in itertools.product(range(cm.shape[0]), range(cm.shape[1])):\n",
    "        plt.text(j, i, cm[i, j],\n",
    "                 horizontalalignment=\"center\",\n",
    "                 color=\"white\" if cm[i, j] > thresh else \"black\")\n",
    "\n",
    "    plt.tight_layout()\n",
    "    plt.ylabel('True label')\n",
    "    plt.xlabel('Predicted label')"
   ]
  },
  {
   "cell_type": "markdown",
   "metadata": {
    "id": "1miPJZST2h18"
   },
   "source": [
    "### Logistic reg without text"
   ]
  },
  {
   "cell_type": "code",
   "execution_count": null,
   "metadata": {
    "colab": {
     "base_uri": "https://localhost:8080/"
    },
    "id": "XS3NT80v2h18",
    "outputId": "b693d82d-9e2d-4d7a-8e88-f00924307ed1"
   },
   "outputs": [
    {
     "name": "stdout",
     "output_type": "stream",
     "text": [
      "Before OverSampling, counts of label '1': 7950\n",
      "Before OverSampling, counts of label '0': 63284 \n",
      "\n"
     ]
    },
    {
     "name": "stderr",
     "output_type": "stream",
     "text": [
      "/usr/local/lib/python3.6/dist-packages/sklearn/utils/deprecation.py:87: FutureWarning: Function safe_indexing is deprecated; safe_indexing is deprecated in version 0.22 and will be removed in version 0.24.\n",
      "  warnings.warn(msg, category=FutureWarning)\n"
     ]
    },
    {
     "name": "stdout",
     "output_type": "stream",
     "text": [
      "After SMOTE, the shape of train_X: (126568, 111)\n",
      "After SMOTE, the shape of train_y: (126568,) \n",
      "\n",
      "After SMOTE, counts of label '1': 63284\n",
      "After SMOTE, counts of label '0': 63284\n"
     ]
    }
   ],
   "source": [
    "from imblearn.over_sampling import SMOTE\n",
    "#ref: https://www.kaggle.com/qianchao/smote-with-imbalance-data\n",
    "print(\"Before OverSampling, counts of label '1': {}\".format(sum(y_train==1)))\n",
    "print(\"Before OverSampling, counts of label '0': {} \\n\".format(sum(y_train==0)))\n",
    "\n",
    "sm = SMOTE(random_state=2)\n",
    "X_train_res, y_train_res = sm.fit_sample(X_tr, y_train.ravel())\n",
    "\n",
    "\n",
    "print('After SMOTE, the shape of train_X: {}'.format(X_train_res.shape))\n",
    "print('After SMOTE, the shape of train_y: {} \\n'.format(y_train_res.shape))\n",
    "\n",
    "print(\"After SMOTE, counts of label '1': {}\".format(sum(y_train_res==1)))\n",
    "print(\"After SMOTE, counts of label '0': {}\".format(sum(y_train_res==0)))"
   ]
  },
  {
   "cell_type": "code",
   "execution_count": null,
   "metadata": {
    "colab": {
     "base_uri": "https://localhost:8080/"
    },
    "id": "WH_eI1NP2h19",
    "outputId": "1d1de8ab-c823-4ee5-f6d7-3a5678228f14"
   },
   "outputs": [
    {
     "name": "stderr",
     "output_type": "stream",
     "text": [
      "/usr/local/lib/python3.6/dist-packages/sklearn/linear_model/_logistic.py:940: ConvergenceWarning: lbfgs failed to converge (status=1):\n",
      "STOP: TOTAL NO. of ITERATIONS REACHED LIMIT.\n",
      "\n",
      "Increase the number of iterations (max_iter) or scale the data as shown in:\n",
      "    https://scikit-learn.org/stable/modules/preprocessing.html\n",
      "Please also refer to the documentation for alternative solver options:\n",
      "    https://scikit-learn.org/stable/modules/linear_model.html#logistic-regression\n",
      "  extra_warning_msg=_LOGISTIC_SOLVER_CONVERGENCE_MSG)\n"
     ]
    }
   ],
   "source": [
    "from sklearn.model_selection import GridSearchCV\n",
    "from sklearn.linear_model import LogisticRegression\n",
    "from sklearn.metrics import confusion_matrix, precision_recall_curve, auc, roc_auc_score, roc_curve, recall_score, classification_report, f1_score\n",
    "\n",
    "\n",
    "lr = LogisticRegression(fit_intercept=True).fit(X_train_res, y_train_res)\n"
   ]
  },
  {
   "cell_type": "code",
   "execution_count": null,
   "metadata": {
    "colab": {
     "base_uri": "https://localhost:8080/",
     "height": 395
    },
    "id": "0Nr4-lwc2h19",
    "outputId": "aeef291b-de43-412c-a102-a19746ad3adf"
   },
   "outputs": [
    {
     "name": "stdout",
     "output_type": "stream",
     "text": [
      "Roc-Auc : 0.70\n",
      "Accuracy : 0.73\n",
      "Precision : 0.22\n",
      "Recall : 0.55\n",
      "Macro f1 : 0.57\n"
     ]
    },
    {
     "data": {
      "image/png": "[encoded data removed]",
      "text/plain": [
       "<Figure size 432x288 with 2 Axes>"
      ]
     },
     "metadata": {
      "needs_background": "light",
      "tags": []
     },
     "output_type": "display_data"
    }
   ],
   "source": [
    "from sklearn.metrics import accuracy_score, precision_score, recall_score\n",
    "y_test_pred = lr.predict(X_te)\n",
    "\n",
    "c_matrix_test = confusion_matrix(y_test, y_test_pred)\n",
    "\n",
    "y_test_score = lr.predict_proba(X_te)[:,1]\n",
    "\n",
    "print(\"Roc-Auc : {0:.2f}\".format(roc_auc_score(y_test, y_test_score)))\n",
    "print(\"Accuracy : {0:.2f}\".format(accuracy_score(y_test, y_test_pred)))\n",
    "print(\"Precision : {0:.2f}\".format(precision_score(y_test, y_test_pred)))\n",
    "print(\"Recall : {0:.2f}\".format(recall_score(y_test, y_test_pred)))\n",
    "print(\"Macro f1 : {0:.2f}\".format(f1_score(y_test, y_test_pred, average='macro')))\n",
    "\n",
    "class_names = [0,1]\n",
    "plt.figure()\n",
    "plot_confusion_matrix(c_matrix_test , classes=class_names, title='Confusion matrix')\n",
    "plt.show()"
   ]
  },
  {
   "cell_type": "markdown",
   "metadata": {
    "id": "ETc3dQAq2h19"
   },
   "source": [
    "### Decision Tree without text"
   ]
  },
  {
   "cell_type": "code",
   "execution_count": null,
   "metadata": {
    "colab": {
     "base_uri": "https://localhost:8080/",
     "height": 395
    },
    "id": "76AFwSRD2h1-",
    "outputId": "079913e7-4a3e-4951-e224-4d7902533125"
   },
   "outputs": [
    {
     "name": "stdout",
     "output_type": "stream",
     "text": [
      "Roc-Auc : 0.48\n",
      "Accuracy : 0.25\n",
      "Precision : 0.11\n",
      "Recall : 0.79\n",
      "Macro f1 : 0.25\n"
     ]
    },
    {
     "data": {
      "image/png": "[encoded data removed]",
      "text/plain": [
       "<Figure size 432x288 with 2 Axes>"
      ]
     },
     "metadata": {
      "needs_background": "light",
      "tags": []
     },
     "output_type": "display_data"
    }
   ],
   "source": [
    "from sklearn.tree import DecisionTreeClassifier\n",
    "dt = DecisionTreeClassifier(max_depth=28, criterion = \"entropy\", min_samples_split=10)\n",
    "dt.fit(X_train_res, y_train_res)\n",
    "\n",
    "\n",
    "y_test_pred = dt.predict(X_te)\n",
    "\n",
    "c_matrix_test = confusion_matrix(y_test, y_test_pred)\n",
    "y_test_score = dt.predict_proba(X_te)[:,1]\n",
    "\n",
    "print(\"Roc-Auc : {0:.2f}\".format(roc_auc_score(y_test, y_test_score)))\n",
    "\n",
    "print(\"Accuracy : {0:.2f}\".format(accuracy_score(y_test, y_test_pred)))\n",
    "print(\"Precision : {0:.2f}\".format(precision_score(y_test, y_test_pred)))\n",
    "print(\"Recall : {0:.2f}\".format(recall_score(y_test, y_test_pred)))\n",
    "print(\"Macro f1 : {0:.2f}\".format(f1_score(y_test, y_test_pred, average='macro')))\n",
    "\n",
    "\n",
    "class_names = [0,1]\n",
    "plt.figure()\n",
    "plot_confusion_matrix(c_matrix_test , classes=class_names, title='Confusion matrix')\n",
    "plt.show()"
   ]
  },
  {
   "cell_type": "markdown",
   "metadata": {
    "id": "R79_J4E62h1-"
   },
   "source": [
    "### Random Forest without text"
   ]
  },
  {
   "cell_type": "code",
   "execution_count": null,
   "metadata": {
    "colab": {
     "base_uri": "https://localhost:8080/",
     "height": 395
    },
    "id": "dpvajUf-2h1-",
    "outputId": "82c39dbd-1ed8-4921-f61e-dce07fe36edd"
   },
   "outputs": [
    {
     "name": "stdout",
     "output_type": "stream",
     "text": [
      "Roc-Auc : 0.66\n",
      "Accuracy : 0.79\n",
      "Precision : 0.20\n",
      "Recall : 0.28\n",
      "Macro f1 : 0.56\n"
     ]
    },
    {
     "data": {
      "image/png": "[encoded data removed]",
      "text/plain": [
       "<Figure size 432x288 with 2 Axes>"
      ]
     },
     "metadata": {
      "needs_background": "light",
      "tags": []
     },
     "output_type": "display_data"
    }
   ],
   "source": [
    "from sklearn.ensemble import RandomForestClassifier\n",
    "rf = RandomForestClassifier(n_estimators = 10, max_depth=25, criterion = \"gini\", min_samples_split=10)\n",
    "rf.fit(X_train_res, y_train_res)\n",
    "\n",
    "y_test_pred = rf.predict(X_te)\n",
    "\n",
    "c_matrix_test = confusion_matrix(y_test, y_test_pred)\n",
    "\n",
    "y_test_score = rf.predict_proba(X_te)[:,1]\n",
    "\n",
    "print(\"Roc-Auc : {0:.2f}\".format(roc_auc_score(y_test, y_test_score)))\n",
    "\n",
    "print(\"Accuracy : {0:.2f}\".format(accuracy_score(y_test, y_test_pred)))\n",
    "print(\"Precision : {0:.2f}\".format(precision_score(y_test, y_test_pred)))\n",
    "print(\"Recall : {0:.2f}\".format(recall_score(y_test, y_test_pred)))\n",
    "print(\"Macro f1 : {0:.2f}\".format(f1_score(y_test, y_test_pred, average='macro')))\n",
    "\n",
    "\n",
    "class_names = [0,1]\n",
    "plt.figure()\n",
    "plot_confusion_matrix(c_matrix_test , classes=class_names, title='Confusion matrix')\n",
    "plt.show()"
   ]
  },
  {
   "cell_type": "markdown",
   "metadata": {
    "id": "8HkT8PLW2h1-"
   },
   "source": [
    "### XGBoost without text"
   ]
  },
  {
   "cell_type": "code",
   "execution_count": null,
   "metadata": {
    "colab": {
     "base_uri": "https://localhost:8080/",
     "height": 395
    },
    "id": "PL2uP6rF2h1_",
    "outputId": "0252f5b7-cdea-4584-85e4-923618bc04c1"
   },
   "outputs": [
    {
     "name": "stdout",
     "output_type": "stream",
     "text": [
      "Roc-Auc : 0.61\n",
      "Accuracy : 0.43\n",
      "Precision : 0.14\n",
      "Recall : 0.77\n",
      "Macro f1 : 0.39\n"
     ]
    },
    {
     "data": {
      "image/png": "[encoded data removed]",
      "text/plain": [
       "<Figure size 432x288 with 2 Axes>"
      ]
     },
     "metadata": {
      "needs_background": "light",
      "tags": []
     },
     "output_type": "display_data"
    }
   ],
   "source": [
    "import xgboost as xgb\n",
    "xg = xgb.XGBClassifier(learning_rate=0.25, n_estimators=84)\n",
    "xg.fit(X_train_res, y_train_res)\n",
    "\n",
    "y_test_pred = xg.predict(X_te)\n",
    "\n",
    "c_matrix_test = confusion_matrix(y_test, y_test_pred)\n",
    "\n",
    "y_test_score = xg.predict_proba(X_te)[:,1]\n",
    "\n",
    "print(\"Roc-Auc : {0:.2f}\".format(roc_auc_score(y_test, y_test_score)))\n",
    "\n",
    "print(\"Accuracy : {0:.2f}\".format(accuracy_score(y_test, y_test_pred)))\n",
    "print(\"Precision : {0:.2f}\".format(precision_score(y_test, y_test_pred)))\n",
    "print(\"Recall : {0:.2f}\".format(recall_score(y_test, y_test_pred)))\n",
    "print(\"Macro f1 : {0:.2f}\".format(f1_score(y_test, y_test_pred, average='macro')))\n",
    "\n",
    "\n",
    "class_names = [0,1]\n",
    "plt.figure()\n",
    "plot_confusion_matrix(c_matrix_test , classes=class_names, title='Confusion matrix')\n",
    "plt.show()"
   ]
  },
  {
   "cell_type": "markdown",
   "metadata": {
    "id": "G8w5mE8x2h1_"
   },
   "source": [
    "### Logistic reg with BOW"
   ]
  },
  {
   "cell_type": "code",
   "execution_count": null,
   "metadata": {
    "colab": {
     "base_uri": "https://localhost:8080/"
    },
    "id": "PfEtKrLk2h1_",
    "outputId": "86b9f551-357b-45c6-adc5-6f5a5d153dca"
   },
   "outputs": [
    {
     "name": "stderr",
     "output_type": "stream",
     "text": [
      "/usr/local/lib/python3.6/dist-packages/sklearn/linear_model/_logistic.py:940: ConvergenceWarning: lbfgs failed to converge (status=1):\n",
      "STOP: TOTAL NO. of ITERATIONS REACHED LIMIT.\n",
      "\n",
      "Increase the number of iterations (max_iter) or scale the data as shown in:\n",
      "    https://scikit-learn.org/stable/modules/preprocessing.html\n",
      "Please also refer to the documentation for alternative solver options:\n",
      "    https://scikit-learn.org/stable/modules/linear_model.html#logistic-regression\n",
      "  extra_warning_msg=_LOGISTIC_SOLVER_CONVERGENCE_MSG)\n"
     ]
    }
   ],
   "source": [
    "from sklearn.model_selection import GridSearchCV\n",
    "from sklearn.linear_model import LogisticRegression\n",
    "from sklearn.metrics import confusion_matrix, precision_recall_curve, auc, roc_auc_score, roc_curve, recall_score, classification_report\n",
    "\n",
    "lr = LogisticRegression(fit_intercept=True).fit(X_tr_bow, y_train)\n"
   ]
  },
  {
   "cell_type": "code",
   "execution_count": null,
   "metadata": {
    "colab": {
     "base_uri": "https://localhost:8080/",
     "height": 395
    },
    "id": "DJ0rfnow2h2A",
    "outputId": "df25ea22-4626-4c0d-e37f-167e23ca46d7"
   },
   "outputs": [
    {
     "name": "stdout",
     "output_type": "stream",
     "text": [
      "Roc-Auc : 0.71\n",
      "Accuracy : 0.89\n",
      "Precision : 0.42\n",
      "Recall : 0.04\n",
      "Macro f1 : 0.51\n"
     ]
    },
    {
     "data": {
      "image/png": "[encoded data removed]",
      "text/plain": [
       "<Figure size 432x288 with 2 Axes>"
      ]
     },
     "metadata": {
      "needs_background": "light",
      "tags": []
     },
     "output_type": "display_data"
    }
   ],
   "source": [
    "from sklearn.metrics import accuracy_score, precision_score, recall_score\n",
    "y_test_pred = lr.predict(X_te_bow)\n",
    "\n",
    "c_matrix_test = confusion_matrix(y_test, y_test_pred)\n",
    "\n",
    "y_test_score = lr.predict_proba(X_te_bow)[:,1]\n",
    "\n",
    "print(\"Roc-Auc : {0:.2f}\".format(roc_auc_score(y_test, y_test_score)))\n",
    "print(\"Accuracy : {0:.2f}\".format(accuracy_score(y_test, y_test_pred)))\n",
    "print(\"Precision : {0:.2f}\".format(precision_score(y_test, y_test_pred)))\n",
    "print(\"Recall : {0:.2f}\".format(recall_score(y_test, y_test_pred)))\n",
    "print(\"Macro f1 : {0:.2f}\".format(f1_score(y_test, y_test_pred, average='macro')))\n",
    "\n",
    "\n",
    "class_names = [0,1]\n",
    "plt.figure()\n",
    "plot_confusion_matrix(c_matrix_test , classes=class_names, title='Confusion matrix')\n",
    "plt.show()"
   ]
  },
  {
   "cell_type": "markdown",
   "metadata": {
    "id": "D8C4aWuS2h2A"
   },
   "source": [
    "### Decision Tree with BoW"
   ]
  },
  {
   "cell_type": "code",
   "execution_count": null,
   "metadata": {
    "colab": {
     "base_uri": "https://localhost:8080/"
    },
    "id": "X8F8sF1z2h2B",
    "outputId": "b976738b-8aa6-48c6-a439-e4681dfee079"
   },
   "outputs": [
    {
     "data": {
      "text/plain": [
       "DecisionTreeClassifier(ccp_alpha=0.0, class_weight=None, criterion='entropy',\n",
       "                       max_depth=28, max_features=None, max_leaf_nodes=None,\n",
       "                       min_impurity_decrease=0.0, min_impurity_split=None,\n",
       "                       min_samples_leaf=1, min_samples_split=10,\n",
       "                       min_weight_fraction_leaf=0.0, presort='deprecated',\n",
       "                       random_state=None, splitter='best')"
      ]
     },
     "execution_count": 48,
     "metadata": {
      "tags": []
     },
     "output_type": "execute_result"
    }
   ],
   "source": [
    "from sklearn.tree import DecisionTreeClassifier\n",
    "dt = DecisionTreeClassifier(max_depth=28, criterion = \"entropy\", min_samples_split=10)\n",
    "dt.fit(X_tr_bow, y_train)"
   ]
  },
  {
   "cell_type": "code",
   "execution_count": null,
   "metadata": {
    "colab": {
     "base_uri": "https://localhost:8080/",
     "height": 395
    },
    "id": "OKlrN9yJ2h2B",
    "outputId": "6213c75d-73aa-40e9-a05a-f7f912aeed9d"
   },
   "outputs": [
    {
     "name": "stdout",
     "output_type": "stream",
     "text": [
      "Roc-Auc : 0.58\n",
      "Accuracy : 0.76\n",
      "Precision : 0.17\n",
      "Recall : 0.30\n",
      "Macro f1 : 0.54\n"
     ]
    },
    {
     "data": {
      "image/png": "[encoded data removed]",
      "text/plain": [
       "<Figure size 432x288 with 2 Axes>"
      ]
     },
     "metadata": {
      "needs_background": "light",
      "tags": []
     },
     "output_type": "display_data"
    }
   ],
   "source": [
    "\n",
    "y_test_pred = dt.predict(X_te_bow)\n",
    "\n",
    "c_matrix_test = confusion_matrix(y_test, y_test_pred)\n",
    "y_test_score = dt.predict_proba(X_te_bow)[:,1]\n",
    "\n",
    "print(\"Roc-Auc : {0:.2f}\".format(roc_auc_score(y_test, y_test_score)))\n",
    "\n",
    "print(\"Accuracy : {0:.2f}\".format(accuracy_score(y_test, y_test_pred)))\n",
    "print(\"Precision : {0:.2f}\".format(precision_score(y_test, y_test_pred)))\n",
    "print(\"Recall : {0:.2f}\".format(recall_score(y_test, y_test_pred)))\n",
    "print(\"Macro f1 : {0:.2f}\".format(f1_score(y_test, y_test_pred, average='macro')))\n",
    "\n",
    "class_names = [0,1]\n",
    "plt.figure()\n",
    "plot_confusion_matrix(c_matrix_test , classes=class_names, title='Confusion matrix')\n",
    "plt.show()"
   ]
  },
  {
   "cell_type": "markdown",
   "metadata": {
    "id": "KZDP984M2h2B"
   },
   "source": [
    "### Random Forest with BoW"
   ]
  },
  {
   "cell_type": "code",
   "execution_count": null,
   "metadata": {
    "colab": {
     "base_uri": "https://localhost:8080/"
    },
    "id": "9YcBti4e2h2C",
    "outputId": "eae1e90f-906d-4e71-d557-f4fb0714db1b"
   },
   "outputs": [
    {
     "data": {
      "text/plain": [
       "RandomForestClassifier(bootstrap=True, ccp_alpha=0.0, class_weight=None,\n",
       "                       criterion='gini', max_depth=25, max_features='auto',\n",
       "                       max_leaf_nodes=None, max_samples=None,\n",
       "                       min_impurity_decrease=0.0, min_impurity_split=None,\n",
       "                       min_samples_leaf=1, min_samples_split=10,\n",
       "                       min_weight_fraction_leaf=0.0, n_estimators=10,\n",
       "                       n_jobs=None, oob_score=False, random_state=None,\n",
       "                       verbose=0, warm_start=False)"
      ]
     },
     "execution_count": 50,
     "metadata": {
      "tags": []
     },
     "output_type": "execute_result"
    }
   ],
   "source": [
    "from sklearn.ensemble import RandomForestClassifier\n",
    "rf = RandomForestClassifier(n_estimators = 10, max_depth=25, criterion = \"gini\", min_samples_split=10)\n",
    "rf.fit(X_tr_bow, y_train)"
   ]
  },
  {
   "cell_type": "code",
   "execution_count": null,
   "metadata": {
    "colab": {
     "base_uri": "https://localhost:8080/",
     "height": 395
    },
    "id": "cnwx828H2h2C",
    "outputId": "3ef65304-169b-411c-ea31-d48b6bf3cf7c"
   },
   "outputs": [
    {
     "name": "stdout",
     "output_type": "stream",
     "text": [
      "Roc-Auc : 0.69\n",
      "Accuracy : 0.88\n",
      "Precision : 0.30\n",
      "Recall : 0.03\n",
      "Macro f1 : 0.50\n"
     ]
    },
    {
     "data": {
      "image/png": "[encoded data removed]",
      "text/plain": [
       "<Figure size 432x288 with 2 Axes>"
      ]
     },
     "metadata": {
      "needs_background": "light",
      "tags": []
     },
     "output_type": "display_data"
    }
   ],
   "source": [
    "y_test_pred = rf.predict(X_te_bow)\n",
    "\n",
    "c_matrix_test = confusion_matrix(y_test, y_test_pred)\n",
    "\n",
    "y_test_score = rf.predict_proba(X_te_bow)[:,1]\n",
    "\n",
    "print(\"Roc-Auc : {0:.2f}\".format(roc_auc_score(y_test, y_test_score)))\n",
    "\n",
    "print(\"Accuracy : {0:.2f}\".format(accuracy_score(y_test, y_test_pred)))\n",
    "print(\"Precision : {0:.2f}\".format(precision_score(y_test, y_test_pred)))\n",
    "print(\"Recall : {0:.2f}\".format(recall_score(y_test, y_test_pred)))\n",
    "print(\"Macro f1 : {0:.2f}\".format(f1_score(y_test, y_test_pred, average='macro')))\n",
    "\n",
    "class_names = [0,1]\n",
    "plt.figure()\n",
    "plot_confusion_matrix(c_matrix_test , classes=class_names, title='Confusion matrix')\n",
    "plt.show()"
   ]
  },
  {
   "cell_type": "markdown",
   "metadata": {
    "id": "gh2lUD6B2h2C"
   },
   "source": [
    "### XGBoost with BoW"
   ]
  },
  {
   "cell_type": "code",
   "execution_count": null,
   "metadata": {
    "colab": {
     "base_uri": "https://localhost:8080/",
     "height": 395
    },
    "id": "5VFjp3fS2h2C",
    "outputId": "01a2c496-f177-43aa-c4cc-4e75f4fd0d0d"
   },
   "outputs": [
    {
     "name": "stdout",
     "output_type": "stream",
     "text": [
      "Roc-Auc : 0.78\n",
      "Accuracy : 0.89\n",
      "Precision : 0.45\n",
      "Recall : 0.03\n",
      "Macro f1 : 0.50\n"
     ]
    },
    {
     "data": {
      "image/png": "[encoded data removed]",
      "text/plain": [
       "<Figure size 432x288 with 2 Axes>"
      ]
     },
     "metadata": {
      "needs_background": "light",
      "tags": []
     },
     "output_type": "display_data"
    }
   ],
   "source": [
    "\n",
    "xg = xgb.XGBClassifier(learning_rate=0.25, n_estimators=84)\n",
    "xg.fit(X_tr_bow, y_train)\n",
    "\n",
    "y_test_pred = xg.predict(X_te_bow)\n",
    "\n",
    "c_matrix_test = confusion_matrix(y_test, y_test_pred)\n",
    "\n",
    "y_test_score = xg.predict_proba(X_te_bow)[:,1]\n",
    "\n",
    "print(\"Roc-Auc : {0:.2f}\".format(roc_auc_score(y_test, y_test_score)))\n",
    "\n",
    "print(\"Accuracy : {0:.2f}\".format(accuracy_score(y_test, y_test_pred)))\n",
    "print(\"Precision : {0:.2f}\".format(precision_score(y_test, y_test_pred)))\n",
    "print(\"Recall : {0:.2f}\".format(recall_score(y_test, y_test_pred)))\n",
    "print(\"Macro f1 : {0:.2f}\".format(f1_score(y_test, y_test_pred, average='macro')))\n",
    "\n",
    "class_names = [0,1]\n",
    "plt.figure()\n",
    "plot_confusion_matrix(c_matrix_test , classes=class_names, title='Confusion matrix')\n",
    "plt.show()"
   ]
  },
  {
   "cell_type": "markdown",
   "metadata": {
    "id": "bSNFJzOE2h2D"
   },
   "source": [
    "### Logistic Regression with Tfidf"
   ]
  },
  {
   "cell_type": "code",
   "execution_count": null,
   "metadata": {
    "colab": {
     "base_uri": "https://localhost:8080/",
     "height": 530
    },
    "id": "kEmWpm8i2h2E",
    "outputId": "20aa7d52-086c-4039-ca6d-35bc0882a286"
   },
   "outputs": [
    {
     "name": "stderr",
     "output_type": "stream",
     "text": [
      "/usr/local/lib/python3.6/dist-packages/sklearn/linear_model/_logistic.py:940: ConvergenceWarning: lbfgs failed to converge (status=1):\n",
      "STOP: TOTAL NO. of ITERATIONS REACHED LIMIT.\n",
      "\n",
      "Increase the number of iterations (max_iter) or scale the data as shown in:\n",
      "    https://scikit-learn.org/stable/modules/preprocessing.html\n",
      "Please also refer to the documentation for alternative solver options:\n",
      "    https://scikit-learn.org/stable/modules/linear_model.html#logistic-regression\n",
      "  extra_warning_msg=_LOGISTIC_SOLVER_CONVERGENCE_MSG)\n"
     ]
    },
    {
     "name": "stdout",
     "output_type": "stream",
     "text": [
      "Roc-Auc : 0.71\n",
      "Accuracy : 0.89\n",
      "Precision : 0.42\n",
      "Recall : 0.04\n",
      "Macro f1 : 0.51\n"
     ]
    },
    {
     "data": {
      "image/png": "[encoded data removed]",
      "text/plain": [
       "<Figure size 432x288 with 2 Axes>"
      ]
     },
     "metadata": {
      "needs_background": "light",
      "tags": []
     },
     "output_type": "display_data"
    }
   ],
   "source": [
    "\n",
    "lr = LogisticRegression(fit_intercept=True).fit(X_tr_tf, y_train)\n",
    "\n",
    "y_test_pred = lr.predict(X_te_tf)\n",
    "\n",
    "c_matrix_test = confusion_matrix(y_test, y_test_pred)\n",
    "\n",
    "y_test_score = lr.predict_proba(X_te_tf)[:,1]\n",
    "\n",
    "print(\"Roc-Auc : {0:.2f}\".format(roc_auc_score(y_test, y_test_score)))\n",
    "print(\"Accuracy : {0:.2f}\".format(accuracy_score(y_test, y_test_pred)))\n",
    "print(\"Precision : {0:.2f}\".format(precision_score(y_test, y_test_pred)))\n",
    "print(\"Recall : {0:.2f}\".format(recall_score(y_test, y_test_pred)))\n",
    "print(\"Macro f1 : {0:.2f}\".format(f1_score(y_test, y_test_pred, average='macro')))\n",
    "\n",
    "\n",
    "class_names = [0,1]\n",
    "plt.figure()\n",
    "plot_confusion_matrix(c_matrix_test , classes=class_names, title='Confusion matrix')\n",
    "plt.show()"
   ]
  },
  {
   "cell_type": "markdown",
   "metadata": {
    "id": "Z5oPYvth2h2E"
   },
   "source": [
    "### Decision Tree with Tfidf"
   ]
  },
  {
   "cell_type": "code",
   "execution_count": null,
   "metadata": {
    "colab": {
     "base_uri": "https://localhost:8080/"
    },
    "id": "PRAjaDsx2h2E",
    "outputId": "3374ef28-cad8-4604-df12-bf0408ec7322"
   },
   "outputs": [
    {
     "data": {
      "text/plain": [
       "DecisionTreeClassifier(ccp_alpha=0.0, class_weight=None, criterion='entropy',\n",
       "                       max_depth=28, max_features=None, max_leaf_nodes=None,\n",
       "                       min_impurity_decrease=0.0, min_impurity_split=None,\n",
       "                       min_samples_leaf=1, min_samples_split=10,\n",
       "                       min_weight_fraction_leaf=0.0, presort='deprecated',\n",
       "                       random_state=None, splitter='best')"
      ]
     },
     "execution_count": 54,
     "metadata": {
      "tags": []
     },
     "output_type": "execute_result"
    }
   ],
   "source": [
    "from sklearn.tree import DecisionTreeClassifier\n",
    "dt = DecisionTreeClassifier(max_depth=28, criterion = \"entropy\", min_samples_split=10)\n",
    "dt.fit(X_tr_tf, y_train)"
   ]
  },
  {
   "cell_type": "code",
   "execution_count": null,
   "metadata": {
    "colab": {
     "base_uri": "https://localhost:8080/",
     "height": 395
    },
    "id": "9UCGbr-C2h2E",
    "outputId": "a4ce2cd4-3b1e-4dcc-9fcb-42185355848c"
   },
   "outputs": [
    {
     "name": "stdout",
     "output_type": "stream",
     "text": [
      "Roc-Auc : 0.58\n",
      "Accuracy : 0.80\n",
      "Precision : 0.18\n",
      "Recall : 0.23\n",
      "Macro f1 : 0.54\n"
     ]
    },
    {
     "data": {
      "image/png": "[encoded data removed]",
      "text/plain": [
       "<Figure size 432x288 with 2 Axes>"
      ]
     },
     "metadata": {
      "needs_background": "light",
      "tags": []
     },
     "output_type": "display_data"
    }
   ],
   "source": [
    "\n",
    "y_test_pred = dt.predict(X_te_tf)\n",
    "\n",
    "c_matrix_test = confusion_matrix(y_test, y_test_pred)\n",
    "y_test_score = dt.predict_proba(X_te_tf)[:,1]\n",
    "\n",
    "print(\"Roc-Auc : {0:.2f}\".format(roc_auc_score(y_test, y_test_score)))\n",
    "\n",
    "print(\"Accuracy : {0:.2f}\".format(accuracy_score(y_test, y_test_pred)))\n",
    "print(\"Precision : {0:.2f}\".format(precision_score(y_test, y_test_pred)))\n",
    "print(\"Recall : {0:.2f}\".format(recall_score(y_test, y_test_pred)))\n",
    "print(\"Macro f1 : {0:.2f}\".format(f1_score(y_test, y_test_pred, average='macro')))\n",
    "\n",
    "\n",
    "class_names = [0,1]\n",
    "plt.figure()\n",
    "plot_confusion_matrix(c_matrix_test , classes=class_names, title='Confusion matrix')\n",
    "plt.show()"
   ]
  },
  {
   "cell_type": "markdown",
   "metadata": {
    "id": "LakcQNe82h2F"
   },
   "source": [
    "### Random Forest with Tfidf"
   ]
  },
  {
   "cell_type": "code",
   "execution_count": null,
   "metadata": {
    "colab": {
     "base_uri": "https://localhost:8080/"
    },
    "id": "HxleHS5D2h2F",
    "outputId": "b6dc8bcc-d121-48e5-c46a-9de3a2ce6e2c"
   },
   "outputs": [
    {
     "data": {
      "text/plain": [
       "RandomForestClassifier(bootstrap=True, ccp_alpha=0.0, class_weight=None,\n",
       "                       criterion='gini', max_depth=25, max_features='auto',\n",
       "                       max_leaf_nodes=None, max_samples=None,\n",
       "                       min_impurity_decrease=0.0, min_impurity_split=None,\n",
       "                       min_samples_leaf=1, min_samples_split=10,\n",
       "                       min_weight_fraction_leaf=0.0, n_estimators=10,\n",
       "                       n_jobs=None, oob_score=False, random_state=None,\n",
       "                       verbose=0, warm_start=False)"
      ]
     },
     "execution_count": 56,
     "metadata": {
      "tags": []
     },
     "output_type": "execute_result"
    }
   ],
   "source": [
    "\n",
    "rf = RandomForestClassifier(n_estimators = 10, max_depth=25, criterion = \"gini\", min_samples_split=10)\n",
    "rf.fit(X_tr_tf, y_train)"
   ]
  },
  {
   "cell_type": "code",
   "execution_count": null,
   "metadata": {
    "colab": {
     "base_uri": "https://localhost:8080/",
     "height": 395
    },
    "id": "fNBcw7SJ2h2F",
    "outputId": "1ccd5ad4-155d-4574-87e4-746b0cbdd539"
   },
   "outputs": [
    {
     "name": "stdout",
     "output_type": "stream",
     "text": [
      "Roc-Auc : 0.68\n",
      "Accuracy : 0.89\n",
      "Precision : 0.33\n",
      "Recall : 0.03\n",
      "Macro f1 : 0.49\n"
     ]
    },
    {
     "data": {
      "image/png": "[encoded data removed]",
      "text/plain": [
       "<Figure size 432x288 with 2 Axes>"
      ]
     },
     "metadata": {
      "needs_background": "light",
      "tags": []
     },
     "output_type": "display_data"
    }
   ],
   "source": [
    "y_test_pred = rf.predict(X_te_tf)\n",
    "\n",
    "c_matrix_test = confusion_matrix(y_test, y_test_pred)\n",
    "\n",
    "y_test_score = rf.predict_proba(X_te_tf)[:,1]\n",
    "\n",
    "print(\"Roc-Auc : {0:.2f}\".format(roc_auc_score(y_test, y_test_score)))\n",
    "\n",
    "print(\"Accuracy : {0:.2f}\".format(accuracy_score(y_test, y_test_pred)))\n",
    "print(\"Precision : {0:.2f}\".format(precision_score(y_test, y_test_pred)))\n",
    "print(\"Recall : {0:.2f}\".format(recall_score(y_test, y_test_pred)))\n",
    "print(\"Macro f1 : {0:.2f}\".format(f1_score(y_test, y_test_pred, average='macro')))\n",
    "\n",
    "\n",
    "class_names = [0,1]\n",
    "plt.figure()\n",
    "plot_confusion_matrix(c_matrix_test , classes=class_names, title='Confusion matrix')\n",
    "plt.show()"
   ]
  },
  {
   "cell_type": "markdown",
   "metadata": {
    "id": "Rs-qa5kW2h2F"
   },
   "source": [
    "### XGBoost with TfIDF"
   ]
  },
  {
   "cell_type": "code",
   "execution_count": null,
   "metadata": {
    "colab": {
     "base_uri": "https://localhost:8080/",
     "height": 395
    },
    "id": "swslXsKr2h2G",
    "outputId": "a4a4852e-686b-4cbe-d9e8-e783b53b2f77"
   },
   "outputs": [
    {
     "name": "stdout",
     "output_type": "stream",
     "text": [
      "Roc-Auc : 0.78\n",
      "Accuracy : 0.89\n",
      "Precision : 0.44\n",
      "Recall : 0.03\n",
      "Macro f1 : 0.50\n"
     ]
    },
    {
     "data": {
      "image/png": "[encoded data removed]",
      "text/plain": [
       "<Figure size 432x288 with 2 Axes>"
      ]
     },
     "metadata": {
      "needs_background": "light",
      "tags": []
     },
     "output_type": "display_data"
    }
   ],
   "source": [
    "\n",
    "xg = xgb.XGBClassifier(learning_rate=0.25, n_estimators=84)\n",
    "xg.fit(X_tr_tf, y_train)\n",
    "\n",
    "y_test_pred = xg.predict(X_te_tf)\n",
    "\n",
    "c_matrix_test = confusion_matrix(y_test, y_test_pred)\n",
    "\n",
    "y_test_score = xg.predict_proba(X_te_tf)[:,1]\n",
    "\n",
    "print(\"Roc-Auc : {0:.2f}\".format(roc_auc_score(y_test, y_test_score)))\n",
    "\n",
    "print(\"Accuracy : {0:.2f}\".format(accuracy_score(y_test, y_test_pred)))\n",
    "print(\"Precision : {0:.2f}\".format(precision_score(y_test, y_test_pred)))\n",
    "print(\"Recall : {0:.2f}\".format(recall_score(y_test, y_test_pred)))\n",
    "print(\"Macro f1 : {0:.2f}\".format(f1_score(y_test, y_test_pred, average='macro')))\n",
    "\n",
    "\n",
    "class_names = [0,1]\n",
    "plt.figure()\n",
    "plot_confusion_matrix(c_matrix_test , classes=class_names, title='Confusion matrix')\n",
    "plt.show()"
   ]
  },
  {
   "cell_type": "code",
   "execution_count": null,
   "metadata": {
    "id": "dGSWkWGQ7j4Q"
   },
   "outputs": [],
   "source": []
  },
  {
   "cell_type": "markdown",
   "metadata": {
    "id": "7TIz0xM273Rk"
   },
   "source": [
    "#**LSTM and MLP**"
   ]
  },
  {
   "cell_type": "code",
   "execution_count": 20,
   "metadata": {
    "colab": {
     "base_uri": "https://localhost:8080/",
     "height": 530
    },
    "id": "HvWE1kr78sIP",
    "outputId": "f5168e70-de02-4d1d-f6eb-d6e284c87d21"
   },
   "outputs": [
    {
     "data": {
      "text/html": [
       "<div>\n",
       "<style scoped>\n",
       "    .dataframe tbody tr th:only-of-type {\n",
       "        vertical-align: middle;\n",
       "    }\n",
       "\n",
       "    .dataframe tbody tr th {\n",
       "        vertical-align: top;\n",
       "    }\n",
       "\n",
       "    .dataframe thead th {\n",
       "        text-align: right;\n",
       "    }\n",
       "</style>\n",
       "<table border=\"1\" class=\"dataframe\">\n",
       "  <thead>\n",
       "    <tr style=\"text-align: right;\">\n",
       "      <th></th>\n",
       "      <th>age</th>\n",
       "      <th>admission_type_id</th>\n",
       "      <th>discharge_disposition_id</th>\n",
       "      <th>admission_source_id</th>\n",
       "      <th>time_in_hospital</th>\n",
       "      <th>num_lab_procedures</th>\n",
       "      <th>num_procedures</th>\n",
       "      <th>num_medications</th>\n",
       "      <th>number_outpatient</th>\n",
       "      <th>number_emergency</th>\n",
       "      <th>number_inpatient</th>\n",
       "      <th>number_diagnoses</th>\n",
       "      <th>procedure_per_med</th>\n",
       "      <th>num_med_up</th>\n",
       "      <th>num_med_used</th>\n",
       "      <th>count_encounter</th>\n",
       "      <th>gender_Female</th>\n",
       "      <th>gender_Male</th>\n",
       "      <th>gender_Unknown/Invalid</th>\n",
       "      <th>race_AfricanAmerican</th>\n",
       "      <th>race_Asian</th>\n",
       "      <th>race_Caucasian</th>\n",
       "      <th>race_Hispanic</th>\n",
       "      <th>race_Other</th>\n",
       "      <th>max_glu_serum_&gt;200</th>\n",
       "      <th>max_glu_serum_&gt;300</th>\n",
       "      <th>max_glu_serum_None</th>\n",
       "      <th>max_glu_serum_Norm</th>\n",
       "      <th>A1Cresult_&gt;7</th>\n",
       "      <th>A1Cresult_&gt;8</th>\n",
       "      <th>A1Cresult_None</th>\n",
       "      <th>A1Cresult_Norm</th>\n",
       "      <th>metformin_Down</th>\n",
       "      <th>metformin_No</th>\n",
       "      <th>metformin_Steady</th>\n",
       "      <th>metformin_Up</th>\n",
       "      <th>repaglinide_Down</th>\n",
       "      <th>repaglinide_No</th>\n",
       "      <th>repaglinide_Steady</th>\n",
       "      <th>repaglinide_Up</th>\n",
       "      <th>...</th>\n",
       "      <th>acarbose_Down</th>\n",
       "      <th>acarbose_No</th>\n",
       "      <th>acarbose_Steady</th>\n",
       "      <th>acarbose_Up</th>\n",
       "      <th>miglitol_Down</th>\n",
       "      <th>miglitol_No</th>\n",
       "      <th>miglitol_Steady</th>\n",
       "      <th>miglitol_Up</th>\n",
       "      <th>troglitazone_No</th>\n",
       "      <th>troglitazone_Steady</th>\n",
       "      <th>tolazamide_No</th>\n",
       "      <th>tolazamide_Steady</th>\n",
       "      <th>tolazamide_Up</th>\n",
       "      <th>examide_No</th>\n",
       "      <th>citoglipton_No</th>\n",
       "      <th>insulin_Down</th>\n",
       "      <th>insulin_No</th>\n",
       "      <th>insulin_Steady</th>\n",
       "      <th>insulin_Up</th>\n",
       "      <th>glyburide-metformin_Down</th>\n",
       "      <th>glyburide-metformin_No</th>\n",
       "      <th>glyburide-metformin_Steady</th>\n",
       "      <th>glyburide-metformin_Up</th>\n",
       "      <th>glipizide-metformin_No</th>\n",
       "      <th>glipizide-metformin_Steady</th>\n",
       "      <th>glimepiride-pioglitazone_No</th>\n",
       "      <th>glimepiride-pioglitazone_Steady</th>\n",
       "      <th>metformin-rosiglitazone_No</th>\n",
       "      <th>metformin-rosiglitazone_Steady</th>\n",
       "      <th>metformin-pioglitazone_No</th>\n",
       "      <th>metformin-pioglitazone_Steady</th>\n",
       "      <th>change_Ch</th>\n",
       "      <th>change_No</th>\n",
       "      <th>diabetesMed_No</th>\n",
       "      <th>diabetesMed_Yes</th>\n",
       "      <th>change_Ch</th>\n",
       "      <th>change_No</th>\n",
       "      <th>diabetesMed_No</th>\n",
       "      <th>diabetesMed_Yes</th>\n",
       "      <th>text</th>\n",
       "    </tr>\n",
       "  </thead>\n",
       "  <tbody>\n",
       "    <tr>\n",
       "      <th>35582</th>\n",
       "      <td>85.0</td>\n",
       "      <td>1</td>\n",
       "      <td>3</td>\n",
       "      <td>7</td>\n",
       "      <td>3</td>\n",
       "      <td>43</td>\n",
       "      <td>0</td>\n",
       "      <td>9</td>\n",
       "      <td>0</td>\n",
       "      <td>0</td>\n",
       "      <td>0</td>\n",
       "      <td>9</td>\n",
       "      <td>4.777778</td>\n",
       "      <td>0</td>\n",
       "      <td>1</td>\n",
       "      <td>1</td>\n",
       "      <td>1</td>\n",
       "      <td>0</td>\n",
       "      <td>0</td>\n",
       "      <td>0</td>\n",
       "      <td>0</td>\n",
       "      <td>1</td>\n",
       "      <td>0</td>\n",
       "      <td>0</td>\n",
       "      <td>0</td>\n",
       "      <td>0</td>\n",
       "      <td>1</td>\n",
       "      <td>0</td>\n",
       "      <td>0</td>\n",
       "      <td>0</td>\n",
       "      <td>1</td>\n",
       "      <td>0</td>\n",
       "      <td>0</td>\n",
       "      <td>1</td>\n",
       "      <td>0</td>\n",
       "      <td>0</td>\n",
       "      <td>0</td>\n",
       "      <td>1</td>\n",
       "      <td>0</td>\n",
       "      <td>0</td>\n",
       "      <td>...</td>\n",
       "      <td>0</td>\n",
       "      <td>1</td>\n",
       "      <td>0</td>\n",
       "      <td>0</td>\n",
       "      <td>0</td>\n",
       "      <td>1</td>\n",
       "      <td>0</td>\n",
       "      <td>0</td>\n",
       "      <td>1</td>\n",
       "      <td>0</td>\n",
       "      <td>1</td>\n",
       "      <td>0</td>\n",
       "      <td>0</td>\n",
       "      <td>1</td>\n",
       "      <td>1</td>\n",
       "      <td>1</td>\n",
       "      <td>0</td>\n",
       "      <td>0</td>\n",
       "      <td>0</td>\n",
       "      <td>0</td>\n",
       "      <td>1</td>\n",
       "      <td>0</td>\n",
       "      <td>0</td>\n",
       "      <td>1</td>\n",
       "      <td>0</td>\n",
       "      <td>1</td>\n",
       "      <td>0</td>\n",
       "      <td>1</td>\n",
       "      <td>0</td>\n",
       "      <td>1</td>\n",
       "      <td>0</td>\n",
       "      <td>1</td>\n",
       "      <td>0</td>\n",
       "      <td>0</td>\n",
       "      <td>1</td>\n",
       "      <td>1</td>\n",
       "      <td>0</td>\n",
       "      <td>0</td>\n",
       "      <td>1</td>\n",
       "      <td>acute illdefined cerebrovascular disease cereb...</td>\n",
       "    </tr>\n",
       "    <tr>\n",
       "      <th>55196</th>\n",
       "      <td>65.0</td>\n",
       "      <td>1</td>\n",
       "      <td>1</td>\n",
       "      <td>7</td>\n",
       "      <td>2</td>\n",
       "      <td>66</td>\n",
       "      <td>1</td>\n",
       "      <td>13</td>\n",
       "      <td>0</td>\n",
       "      <td>0</td>\n",
       "      <td>1</td>\n",
       "      <td>9</td>\n",
       "      <td>5.153846</td>\n",
       "      <td>0</td>\n",
       "      <td>3</td>\n",
       "      <td>3</td>\n",
       "      <td>1</td>\n",
       "      <td>0</td>\n",
       "      <td>0</td>\n",
       "      <td>0</td>\n",
       "      <td>0</td>\n",
       "      <td>1</td>\n",
       "      <td>0</td>\n",
       "      <td>0</td>\n",
       "      <td>0</td>\n",
       "      <td>0</td>\n",
       "      <td>1</td>\n",
       "      <td>0</td>\n",
       "      <td>0</td>\n",
       "      <td>0</td>\n",
       "      <td>1</td>\n",
       "      <td>0</td>\n",
       "      <td>0</td>\n",
       "      <td>0</td>\n",
       "      <td>1</td>\n",
       "      <td>0</td>\n",
       "      <td>0</td>\n",
       "      <td>1</td>\n",
       "      <td>0</td>\n",
       "      <td>0</td>\n",
       "      <td>...</td>\n",
       "      <td>0</td>\n",
       "      <td>1</td>\n",
       "      <td>0</td>\n",
       "      <td>0</td>\n",
       "      <td>0</td>\n",
       "      <td>1</td>\n",
       "      <td>0</td>\n",
       "      <td>0</td>\n",
       "      <td>1</td>\n",
       "      <td>0</td>\n",
       "      <td>1</td>\n",
       "      <td>0</td>\n",
       "      <td>0</td>\n",
       "      <td>1</td>\n",
       "      <td>1</td>\n",
       "      <td>0</td>\n",
       "      <td>0</td>\n",
       "      <td>1</td>\n",
       "      <td>0</td>\n",
       "      <td>0</td>\n",
       "      <td>1</td>\n",
       "      <td>0</td>\n",
       "      <td>0</td>\n",
       "      <td>1</td>\n",
       "      <td>0</td>\n",
       "      <td>1</td>\n",
       "      <td>0</td>\n",
       "      <td>1</td>\n",
       "      <td>0</td>\n",
       "      <td>1</td>\n",
       "      <td>0</td>\n",
       "      <td>1</td>\n",
       "      <td>0</td>\n",
       "      <td>0</td>\n",
       "      <td>1</td>\n",
       "      <td>1</td>\n",
       "      <td>0</td>\n",
       "      <td>0</td>\n",
       "      <td>1</td>\n",
       "      <td>septicemia acute kidney failure diabetes renal...</td>\n",
       "    </tr>\n",
       "    <tr>\n",
       "      <th>47517</th>\n",
       "      <td>75.0</td>\n",
       "      <td>1</td>\n",
       "      <td>1</td>\n",
       "      <td>7</td>\n",
       "      <td>2</td>\n",
       "      <td>43</td>\n",
       "      <td>0</td>\n",
       "      <td>16</td>\n",
       "      <td>0</td>\n",
       "      <td>0</td>\n",
       "      <td>0</td>\n",
       "      <td>7</td>\n",
       "      <td>2.687500</td>\n",
       "      <td>1</td>\n",
       "      <td>1</td>\n",
       "      <td>1</td>\n",
       "      <td>0</td>\n",
       "      <td>1</td>\n",
       "      <td>0</td>\n",
       "      <td>1</td>\n",
       "      <td>0</td>\n",
       "      <td>0</td>\n",
       "      <td>0</td>\n",
       "      <td>0</td>\n",
       "      <td>0</td>\n",
       "      <td>0</td>\n",
       "      <td>1</td>\n",
       "      <td>0</td>\n",
       "      <td>0</td>\n",
       "      <td>0</td>\n",
       "      <td>1</td>\n",
       "      <td>0</td>\n",
       "      <td>0</td>\n",
       "      <td>1</td>\n",
       "      <td>0</td>\n",
       "      <td>0</td>\n",
       "      <td>0</td>\n",
       "      <td>1</td>\n",
       "      <td>0</td>\n",
       "      <td>0</td>\n",
       "      <td>...</td>\n",
       "      <td>0</td>\n",
       "      <td>1</td>\n",
       "      <td>0</td>\n",
       "      <td>0</td>\n",
       "      <td>0</td>\n",
       "      <td>1</td>\n",
       "      <td>0</td>\n",
       "      <td>0</td>\n",
       "      <td>1</td>\n",
       "      <td>0</td>\n",
       "      <td>1</td>\n",
       "      <td>0</td>\n",
       "      <td>0</td>\n",
       "      <td>1</td>\n",
       "      <td>1</td>\n",
       "      <td>0</td>\n",
       "      <td>0</td>\n",
       "      <td>0</td>\n",
       "      <td>1</td>\n",
       "      <td>0</td>\n",
       "      <td>1</td>\n",
       "      <td>0</td>\n",
       "      <td>0</td>\n",
       "      <td>1</td>\n",
       "      <td>0</td>\n",
       "      <td>1</td>\n",
       "      <td>0</td>\n",
       "      <td>1</td>\n",
       "      <td>0</td>\n",
       "      <td>1</td>\n",
       "      <td>0</td>\n",
       "      <td>1</td>\n",
       "      <td>0</td>\n",
       "      <td>0</td>\n",
       "      <td>1</td>\n",
       "      <td>1</td>\n",
       "      <td>0</td>\n",
       "      <td>0</td>\n",
       "      <td>1</td>\n",
       "      <td>symptoms involving respiratory system chest sy...</td>\n",
       "    </tr>\n",
       "    <tr>\n",
       "      <th>91186</th>\n",
       "      <td>55.0</td>\n",
       "      <td>2</td>\n",
       "      <td>1</td>\n",
       "      <td>7</td>\n",
       "      <td>8</td>\n",
       "      <td>74</td>\n",
       "      <td>0</td>\n",
       "      <td>28</td>\n",
       "      <td>0</td>\n",
       "      <td>1</td>\n",
       "      <td>1</td>\n",
       "      <td>9</td>\n",
       "      <td>2.642857</td>\n",
       "      <td>0</td>\n",
       "      <td>3</td>\n",
       "      <td>3</td>\n",
       "      <td>1</td>\n",
       "      <td>0</td>\n",
       "      <td>0</td>\n",
       "      <td>0</td>\n",
       "      <td>0</td>\n",
       "      <td>1</td>\n",
       "      <td>0</td>\n",
       "      <td>0</td>\n",
       "      <td>0</td>\n",
       "      <td>0</td>\n",
       "      <td>1</td>\n",
       "      <td>0</td>\n",
       "      <td>0</td>\n",
       "      <td>1</td>\n",
       "      <td>0</td>\n",
       "      <td>0</td>\n",
       "      <td>0</td>\n",
       "      <td>1</td>\n",
       "      <td>0</td>\n",
       "      <td>0</td>\n",
       "      <td>0</td>\n",
       "      <td>1</td>\n",
       "      <td>0</td>\n",
       "      <td>0</td>\n",
       "      <td>...</td>\n",
       "      <td>0</td>\n",
       "      <td>1</td>\n",
       "      <td>0</td>\n",
       "      <td>0</td>\n",
       "      <td>0</td>\n",
       "      <td>1</td>\n",
       "      <td>0</td>\n",
       "      <td>0</td>\n",
       "      <td>1</td>\n",
       "      <td>0</td>\n",
       "      <td>1</td>\n",
       "      <td>0</td>\n",
       "      <td>0</td>\n",
       "      <td>1</td>\n",
       "      <td>1</td>\n",
       "      <td>1</td>\n",
       "      <td>0</td>\n",
       "      <td>0</td>\n",
       "      <td>0</td>\n",
       "      <td>0</td>\n",
       "      <td>1</td>\n",
       "      <td>0</td>\n",
       "      <td>0</td>\n",
       "      <td>1</td>\n",
       "      <td>0</td>\n",
       "      <td>1</td>\n",
       "      <td>0</td>\n",
       "      <td>1</td>\n",
       "      <td>0</td>\n",
       "      <td>1</td>\n",
       "      <td>0</td>\n",
       "      <td>1</td>\n",
       "      <td>0</td>\n",
       "      <td>0</td>\n",
       "      <td>1</td>\n",
       "      <td>1</td>\n",
       "      <td>0</td>\n",
       "      <td>0</td>\n",
       "      <td>1</td>\n",
       "      <td>pneumonia organism unspecified chronic bronchi...</td>\n",
       "    </tr>\n",
       "    <tr>\n",
       "      <th>42131</th>\n",
       "      <td>25.0</td>\n",
       "      <td>1</td>\n",
       "      <td>7</td>\n",
       "      <td>7</td>\n",
       "      <td>1</td>\n",
       "      <td>25</td>\n",
       "      <td>0</td>\n",
       "      <td>7</td>\n",
       "      <td>0</td>\n",
       "      <td>5</td>\n",
       "      <td>3</td>\n",
       "      <td>2</td>\n",
       "      <td>3.571429</td>\n",
       "      <td>1</td>\n",
       "      <td>1</td>\n",
       "      <td>12</td>\n",
       "      <td>1</td>\n",
       "      <td>0</td>\n",
       "      <td>0</td>\n",
       "      <td>0</td>\n",
       "      <td>0</td>\n",
       "      <td>1</td>\n",
       "      <td>0</td>\n",
       "      <td>0</td>\n",
       "      <td>0</td>\n",
       "      <td>0</td>\n",
       "      <td>1</td>\n",
       "      <td>0</td>\n",
       "      <td>0</td>\n",
       "      <td>0</td>\n",
       "      <td>1</td>\n",
       "      <td>0</td>\n",
       "      <td>0</td>\n",
       "      <td>1</td>\n",
       "      <td>0</td>\n",
       "      <td>0</td>\n",
       "      <td>0</td>\n",
       "      <td>1</td>\n",
       "      <td>0</td>\n",
       "      <td>0</td>\n",
       "      <td>...</td>\n",
       "      <td>0</td>\n",
       "      <td>1</td>\n",
       "      <td>0</td>\n",
       "      <td>0</td>\n",
       "      <td>0</td>\n",
       "      <td>1</td>\n",
       "      <td>0</td>\n",
       "      <td>0</td>\n",
       "      <td>1</td>\n",
       "      <td>0</td>\n",
       "      <td>1</td>\n",
       "      <td>0</td>\n",
       "      <td>0</td>\n",
       "      <td>1</td>\n",
       "      <td>1</td>\n",
       "      <td>0</td>\n",
       "      <td>0</td>\n",
       "      <td>0</td>\n",
       "      <td>1</td>\n",
       "      <td>0</td>\n",
       "      <td>1</td>\n",
       "      <td>0</td>\n",
       "      <td>0</td>\n",
       "      <td>1</td>\n",
       "      <td>0</td>\n",
       "      <td>1</td>\n",
       "      <td>0</td>\n",
       "      <td>1</td>\n",
       "      <td>0</td>\n",
       "      <td>1</td>\n",
       "      <td>0</td>\n",
       "      <td>1</td>\n",
       "      <td>0</td>\n",
       "      <td>0</td>\n",
       "      <td>1</td>\n",
       "      <td>1</td>\n",
       "      <td>0</td>\n",
       "      <td>0</td>\n",
       "      <td>1</td>\n",
       "      <td>diabetes ketoacidosis type juvenile type not s...</td>\n",
       "    </tr>\n",
       "  </tbody>\n",
       "</table>\n",
       "<p>5 rows × 112 columns</p>\n",
       "</div>"
      ],
      "text/plain": [
       "        age  ...                                               text\n",
       "35582  85.0  ...  acute illdefined cerebrovascular disease cereb...\n",
       "55196  65.0  ...  septicemia acute kidney failure diabetes renal...\n",
       "47517  75.0  ...  symptoms involving respiratory system chest sy...\n",
       "91186  55.0  ...  pneumonia organism unspecified chronic bronchi...\n",
       "42131  25.0  ...  diabetes ketoacidosis type juvenile type not s...\n",
       "\n",
       "[5 rows x 112 columns]"
      ]
     },
     "execution_count": 20,
     "metadata": {
      "tags": []
     },
     "output_type": "execute_result"
    }
   ],
   "source": [
    "X_train.head()"
   ]
  },
  {
   "cell_type": "code",
   "execution_count": 21,
   "metadata": {
    "id": "SF38goLD7uhX"
   },
   "outputs": [],
   "source": [
    "from sklearn.feature_extraction.text import TfidfVectorizer\n",
    "from tqdm import tqdm\n",
    "from sklearn.preprocessing import OneHotEncoder"
   ]
  },
  {
   "cell_type": "code",
   "execution_count": 22,
   "metadata": {
    "id": "fOY5iCh77kHR"
   },
   "outputs": [],
   "source": [
    "#loading our glove vector:\n",
    "import pickle\n",
    "with open('drive/MyDrive/glove_vectors', 'rb') as f:\n",
    "  model = pickle.load(f)\n",
    "  glove_words = set(model.keys())"
   ]
  },
  {
   "cell_type": "code",
   "execution_count": 23,
   "metadata": {
    "id": "m9FXJGSf7kQx"
   },
   "outputs": [],
   "source": [
    "#https://keras.io/examples/nlp/pretrained_word_embeddings/\n",
    "from tensorflow.keras.layers.experimental.preprocessing import TextVectorization\n",
    "import tensorflow as tf\n",
    "vectorizer = TextVectorization(max_tokens=2000, output_sequence_length=50)\n",
    "text_ds = tf.data.Dataset.from_tensor_slices(X_train['text']).batch(100)\n",
    "vectorizer.adapt(text_ds)"
   ]
  },
  {
   "cell_type": "code",
   "execution_count": 24,
   "metadata": {
    "colab": {
     "base_uri": "https://localhost:8080/"
    },
    "id": "TAT-ABjn7kYs",
    "outputId": "7e7e2d64-2812-4b99-9bfe-580728f1738b"
   },
   "outputs": [
    {
     "data": {
      "text/plain": [
       "['', '[UNK]', 'care', 'discharged', 'home']"
      ]
     },
     "execution_count": 24,
     "metadata": {
      "tags": []
     },
     "output_type": "execute_result"
    }
   ],
   "source": [
    "vectorizer.get_vocabulary()[:5]"
   ]
  },
  {
   "cell_type": "code",
   "execution_count": 25,
   "metadata": {
    "id": "xkVYa06H87aq"
   },
   "outputs": [],
   "source": [
    "voc = vectorizer.get_vocabulary()\n",
    "word_index = dict(zip(voc, range(len(voc))))"
   ]
  },
  {
   "cell_type": "code",
   "execution_count": 26,
   "metadata": {
    "colab": {
     "base_uri": "https://localhost:8080/"
    },
    "id": "nDutHAfW87dN",
    "outputId": "aed40979-057a-436e-9dec-4e605d177158"
   },
   "outputs": [
    {
     "data": {
      "text/plain": [
       "1220"
      ]
     },
     "execution_count": 26,
     "metadata": {
      "tags": []
     },
     "output_type": "execute_result"
    }
   ],
   "source": [
    "len(voc)"
   ]
  },
  {
   "cell_type": "code",
   "execution_count": 27,
   "metadata": {
    "colab": {
     "base_uri": "https://localhost:8080/"
    },
    "id": "RgTBeI6287f6",
    "outputId": "6dcc195f-3d7c-49c2-e99b-8a15f9f8d217"
   },
   "outputs": [
    {
     "name": "stdout",
     "output_type": "stream",
     "text": [
      "Converted 723 words (497 misses)\n"
     ]
    }
   ],
   "source": [
    "#https://keras.io/examples/nlp/pretrained_word_embeddings/\n",
    "embeddings_index = model\n",
    "num_tokens = len(voc) + 2\n",
    "embedding_dim = 300\n",
    "hits = 0\n",
    "misses = 0\n",
    "# Preparing our embedding matrix\n",
    "embedding_matrix = np.zeros((num_tokens, embedding_dim))\n",
    "for word, i in word_index.items():\n",
    "  embedding_vector = embeddings_index.get(word)\n",
    "  if embedding_vector is not None:\n",
    "  # Words not found in embedding index will be all-zeros.\n",
    "    embedding_matrix[i] = embedding_vector\n",
    "    hits += 1\n",
    "  else:\n",
    "    misses += 1\n",
    "print(\"Converted %d words (%d misses)\" % (hits, misses))"
   ]
  },
  {
   "cell_type": "code",
   "execution_count": 28,
   "metadata": {
    "id": "qu_jCrJ787ms"
   },
   "outputs": [],
   "source": [
    "\n",
    "from tensorflow.keras.layers import Dense,Input,Activation,Dropout,Flatten,Embedding, LSTM, Concatenate, Conv1D, BatchNormalization\n",
    "from tensorflow.keras.models import Model\n",
    "import random as rn\n",
    "import tensorflow as tf\n",
    "from keras.callbacks import EarlyStopping, ModelCheckpoint"
   ]
  },
  {
   "cell_type": "code",
   "execution_count": 30,
   "metadata": {
    "colab": {
     "base_uri": "https://localhost:8080/"
    },
    "id": "raZSJPoO9beF",
    "outputId": "247397b8-d5f0-45c3-b49b-e7cce154d766"
   },
   "outputs": [
    {
     "name": "stdout",
     "output_type": "stream",
     "text": [
      "Model: \"model\"\n",
      "__________________________________________________________________________________________________\n",
      "Layer (type)                    Output Shape         Param #     Connected to                     \n",
      "==================================================================================================\n",
      "Text_input (InputLayer)         [(None, None)]       0                                            \n",
      "__________________________________________________________________________________________________\n",
      "embedding (Embedding)           (None, None, 300)    366600      Text_input[0][0]                 \n",
      "__________________________________________________________________________________________________\n",
      "lstm (LSTM)                     (None, 100)          160400      embedding[0][0]                  \n",
      "__________________________________________________________________________________________________\n",
      "others (InputLayer)             [(None, 111)]        0                                            \n",
      "__________________________________________________________________________________________________\n",
      "flatten (Flatten)               (None, 100)          0           lstm[0][0]                       \n",
      "__________________________________________________________________________________________________\n",
      "dense (Dense)                   (None, 16)           1792        others[0][0]                     \n",
      "__________________________________________________________________________________________________\n",
      "concatenate (Concatenate)       (None, 116)          0           flatten[0][0]                    \n",
      "                                                                 dense[0][0]                      \n",
      "__________________________________________________________________________________________________\n",
      "dense_1 (Dense)                 (None, 64)           7488        concatenate[0][0]                \n",
      "__________________________________________________________________________________________________\n",
      "batch_normalization (BatchNorma (None, 64)           256         dense_1[0][0]                    \n",
      "__________________________________________________________________________________________________\n",
      "dense_2 (Dense)                 (None, 64)           4160        batch_normalization[0][0]        \n",
      "__________________________________________________________________________________________________\n",
      "batch_normalization_1 (BatchNor (None, 64)           256         dense_2[0][0]                    \n",
      "__________________________________________________________________________________________________\n",
      "dense_3 (Dense)                 (None, 1)            65          batch_normalization_1[0][0]      \n",
      "==================================================================================================\n",
      "Total params: 541,017\n",
      "Trainable params: 174,161\n",
      "Non-trainable params: 366,856\n",
      "__________________________________________________________________________________________________\n"
     ]
    }
   ],
   "source": [
    "import os\n",
    "%reload_ext tensorboard\n",
    "os.environ['PYTHONHASHSEED'] = '0'\n",
    "tf.keras.backend.clear_session()\n",
    "!rm -rf ./logs/\n",
    "np.random.seed(0)\n",
    "rn.seed(0)\n",
    "batch_size=100\n",
    "#for essay\n",
    "input_txt = Input(shape=(None,), name='Text_input')\n",
    "embedding_txt = Embedding(num_tokens,embedding_dim, \n",
    "                          embeddings_initializer=tf.keras.initializers.Constant(embedding_matrix),\n",
    "                          trainable=False)(input_txt)\n",
    "lstm_txt = LSTM(100)(embedding_txt)\n",
    "flatten_txt = Flatten()(lstm_txt)\n",
    "\n",
    "#for other features\n",
    "input_others = Input(shape=(111,), name='others')\n",
    "dense_others = Dense(16,activation='relu', kernel_initializer=tf.keras.initializers.HeNormal())(input_others)\n",
    "\n",
    "\n",
    "#final concatenation = text + categorical + numerical\n",
    "input_final = Concatenate()([flatten_txt, dense_others])\n",
    "\n",
    "#adding a dense layer:\n",
    "dense1 = Dense(64,activation='relu', kernel_initializer=tf.keras.initializers.HeNormal())(input_final)\n",
    "#adding a normalization layer:\n",
    "norm1 = BatchNormalization()(dense1)\n",
    "#another dense layer\n",
    "dense2 = Dense(64,activation='relu', kernel_initializer=tf.keras.initializers.HeNormal())(norm1)\n",
    "#another normalization layer:\n",
    "norm2 = BatchNormalization()(dense2)\n",
    "#final output layer:\n",
    "output = Dense(1, activation='sigmoid', kernel_initializer=tf.keras.initializers.HeNormal())(norm2)\n",
    "\n",
    "model_1 = Model(inputs=[input_txt, input_others], outputs=output)\n",
    "model_1.summary()"
   ]
  },
  {
   "cell_type": "code",
   "execution_count": null,
   "metadata": {
    "colab": {
     "base_uri": "https://localhost:8080/",
     "height": 953
    },
    "id": "27AyhIIGnldV",
    "outputId": "2962003b-9a7b-4754-9f4d-81c589bde1c5"
   },
   "outputs": [
    {
     "data": {
      "image/png": "[encoded data removed]",
      "text/plain": [
       "<IPython.core.display.Image object>"
      ]
     },
     "execution_count": 147,
     "metadata": {
      "tags": []
     },
     "output_type": "execute_result"
    }
   ],
   "source": [
    "tf.keras.utils.plot_model(model_1)"
   ]
  },
  {
   "cell_type": "code",
   "execution_count": 31,
   "metadata": {
    "id": "-oHrpdmnI040"
   },
   "outputs": [],
   "source": [
    "#creating a callback function for our model which finds AUC, Recall and f1_score:\n",
    "import sklearn.metrics as sklm\n",
    "from sklearn.metrics import roc_auc_score, f1_score, recall_score\n",
    "class Metrics(tf.keras.callbacks.Callback):\n",
    "  def __init__(self,tr_data, val_data):\n",
    "    super().__init__()\n",
    "    self.validation_data = val_data\n",
    "    self.train_data = tr_data\n",
    "  def on_train_begin(self, logs={}):\n",
    "    self.auc_val = []\n",
    "    self.auc_train = []\n",
    "    self.recall_val = []\n",
    "    self.recall_tr = []\n",
    "    self.f1_val = []\n",
    "    self.f1_tr = []\n",
    "\n",
    "  def on_epoch_end(self, epoch, logs={}):\n",
    "    score_val = np.asarray(self.model.predict(self.validation_data[0]))\n",
    "    score_tr = np.asarray(self.model.predict(self.train_data[0]))\n",
    "    predict_val = np.round(np.asarray(self.model.predict(self.validation_data[0])))\n",
    "    predict_tr = np.round(np.asarray(self.model.predict(self.train_data[0])))\n",
    "    targ_val = self.validation_data[1]\n",
    "    targ_tr = self.train_data[1]\n",
    "    self.auc_val.append(sklm.roc_auc_score(targ_val, score_val))\n",
    "    self.auc_train.append(sklm.roc_auc_score(targ_tr, score_tr))\n",
    "    self.recall_val.append(recall_score(targ_val, predict_val))\n",
    "    self.recall_tr.append(recall_score(targ_tr, predict_tr))\n",
    "    self.f1_val.append(f1_score(targ_val, predict_val, average='macro'))\n",
    "    self.f1_tr.append(f1_score(targ_tr, predict_tr, average='macro'))\n",
    "    return"
   ]
  },
  {
   "cell_type": "code",
   "execution_count": 32,
   "metadata": {
    "id": "sgUPHXAP9blZ"
   },
   "outputs": [],
   "source": [
    "#getting our final text features after vectorization:\n",
    "X_tr_txt_lstm = vectorizer(np.array([[s] for s in X_train['text'].values])).numpy()\n",
    "X_te_txt_lstm = vectorizer(np.array([[s] for s in X_test['text'].values])).numpy()\n"
   ]
  },
  {
   "cell_type": "code",
   "execution_count": 33,
   "metadata": {
    "id": "_udSaNhQZX1k"
   },
   "outputs": [],
   "source": [
    "#stacking up all the features together into a dataframe:\n",
    "X_tr_lstm = pd.DataFrame(np.hstack([X_tr_txt_lstm, X_train_categorical, X_train_age, X_train_time_in_hospital, X_train_num_lab_procedures,\n",
    "                  X_train_num_procedures, X_train_num_medications, X_train_number_outpatient, X_train_number_emergency,\n",
    "                  X_train_number_inpatient, X_train_number_diagnoses]))\n",
    "\n",
    "X_te_lstm = pd.DataFrame(np.hstack([ X_te_txt_lstm, X_test_categorical, X_test_age, X_test_time_in_hospital, X_test_num_lab_procedures,\n",
    "                  X_test_num_procedures, X_test_num_medications, X_test_number_outpatient, X_test_number_emergency,\n",
    "                  X_test_number_inpatient, X_test_number_diagnoses])) \n",
    "\n",
    "    \n"
   ]
  },
  {
   "cell_type": "code",
   "execution_count": null,
   "metadata": {
    "colab": {
     "base_uri": "https://localhost:8080/"
    },
    "id": "fzobxByE3vpn",
    "outputId": "b1a00487-d9d9-4e22-e443-eeb402014455"
   },
   "outputs": [
    {
     "data": {
      "text/plain": [
       "(71234, 161)"
      ]
     },
     "execution_count": 75,
     "metadata": {
      "tags": []
     },
     "output_type": "execute_result"
    }
   ],
   "source": [
    "X_tr_lstm.shape"
   ]
  },
  {
   "cell_type": "code",
   "execution_count": null,
   "metadata": {
    "colab": {
     "base_uri": "https://localhost:8080/"
    },
    "id": "UPVEEavN3yGw",
    "outputId": "af643fc0-e784-45ac-ec2f-61400234ba60"
   },
   "outputs": [
    {
     "data": {
      "text/plain": [
       "(30530, 161)"
      ]
     },
     "execution_count": 77,
     "metadata": {
      "tags": []
     },
     "output_type": "execute_result"
    }
   ],
   "source": [
    "X_te_lstm.shape"
   ]
  },
  {
   "cell_type": "code",
   "execution_count": 34,
   "metadata": {
    "id": "KHM6h3IKbKYk"
   },
   "outputs": [],
   "source": [
    "\n",
    "\n",
    "#slicing out the text features, categorical features and numerical features so as to match our model input:\n",
    "X_tr_txt_lstm = X_tr_lstm.iloc[:,:50]\n",
    "X_tr_others = X_tr_lstm.iloc[:,50:161]\n",
    "\n",
    "X_te_txt_lstm = X_te_lstm.iloc[:,:50]\n",
    "X_te_others = X_te_lstm.iloc[:,50:161]\n"
   ]
  },
  {
   "cell_type": "code",
   "execution_count": 37,
   "metadata": {
    "colab": {
     "base_uri": "https://localhost:8080/"
    },
    "id": "SIhaMtBL9brP",
    "outputId": "b3b811a6-ed8d-415b-a02e-c8889672cdd9"
   },
   "outputs": [
    {
     "name": "stdout",
     "output_type": "stream",
     "text": [
      "Epoch 1/30\n",
      "713/713 [==============================] - 11s 12ms/step - loss: 0.6469 - accuracy: 0.6528 - val_loss: 0.4406 - val_accuracy: 0.8690\n"
     ]
    },
    {
     "name": "stderr",
     "output_type": "stream",
     "text": [
      "WARNING:absl:Found untraced functions such as lstm_cell_layer_call_and_return_conditional_losses, lstm_cell_layer_call_fn, lstm_cell_layer_call_fn, lstm_cell_layer_call_and_return_conditional_losses, lstm_cell_layer_call_and_return_conditional_losses while saving (showing 5 of 5). These functions will not be directly callable after loading.\n",
      "WARNING:absl:Found untraced functions such as lstm_cell_layer_call_and_return_conditional_losses, lstm_cell_layer_call_fn, lstm_cell_layer_call_fn, lstm_cell_layer_call_and_return_conditional_losses, lstm_cell_layer_call_and_return_conditional_losses while saving (showing 5 of 5). These functions will not be directly callable after loading.\n"
     ]
    },
    {
     "name": "stdout",
     "output_type": "stream",
     "text": [
      "INFO:tensorflow:Assets written to: drive/MyDrive/model_1/assets\n"
     ]
    },
    {
     "name": "stderr",
     "output_type": "stream",
     "text": [
      "INFO:tensorflow:Assets written to: drive/MyDrive/model_1/assets\n"
     ]
    },
    {
     "name": "stdout",
     "output_type": "stream",
     "text": [
      "Epoch 2/30\n",
      "713/713 [==============================] - 8s 11ms/step - loss: 0.4059 - accuracy: 0.8777 - val_loss: 0.3360 - val_accuracy: 0.8861\n"
     ]
    },
    {
     "name": "stderr",
     "output_type": "stream",
     "text": [
      "WARNING:absl:Found untraced functions such as lstm_cell_layer_call_and_return_conditional_losses, lstm_cell_layer_call_fn, lstm_cell_layer_call_fn, lstm_cell_layer_call_and_return_conditional_losses, lstm_cell_layer_call_and_return_conditional_losses while saving (showing 5 of 5). These functions will not be directly callable after loading.\n",
      "WARNING:absl:Found untraced functions such as lstm_cell_layer_call_and_return_conditional_losses, lstm_cell_layer_call_fn, lstm_cell_layer_call_fn, lstm_cell_layer_call_and_return_conditional_losses, lstm_cell_layer_call_and_return_conditional_losses while saving (showing 5 of 5). These functions will not be directly callable after loading.\n"
     ]
    },
    {
     "name": "stdout",
     "output_type": "stream",
     "text": [
      "INFO:tensorflow:Assets written to: drive/MyDrive/model_1/assets\n"
     ]
    },
    {
     "name": "stderr",
     "output_type": "stream",
     "text": [
      "INFO:tensorflow:Assets written to: drive/MyDrive/model_1/assets\n"
     ]
    },
    {
     "name": "stdout",
     "output_type": "stream",
     "text": [
      "Epoch 3/30\n",
      "713/713 [==============================] - 8s 11ms/step - loss: 0.3247 - accuracy: 0.8884 - val_loss: 0.3200 - val_accuracy: 0.8873\n"
     ]
    },
    {
     "name": "stderr",
     "output_type": "stream",
     "text": [
      "WARNING:absl:Found untraced functions such as lstm_cell_layer_call_and_return_conditional_losses, lstm_cell_layer_call_fn, lstm_cell_layer_call_fn, lstm_cell_layer_call_and_return_conditional_losses, lstm_cell_layer_call_and_return_conditional_losses while saving (showing 5 of 5). These functions will not be directly callable after loading.\n",
      "WARNING:absl:Found untraced functions such as lstm_cell_layer_call_and_return_conditional_losses, lstm_cell_layer_call_fn, lstm_cell_layer_call_fn, lstm_cell_layer_call_and_return_conditional_losses, lstm_cell_layer_call_and_return_conditional_losses while saving (showing 5 of 5). These functions will not be directly callable after loading.\n"
     ]
    },
    {
     "name": "stdout",
     "output_type": "stream",
     "text": [
      "INFO:tensorflow:Assets written to: drive/MyDrive/model_1/assets\n"
     ]
    },
    {
     "name": "stderr",
     "output_type": "stream",
     "text": [
      "INFO:tensorflow:Assets written to: drive/MyDrive/model_1/assets\n"
     ]
    },
    {
     "name": "stdout",
     "output_type": "stream",
     "text": [
      "Epoch 4/30\n",
      "713/713 [==============================] - 8s 11ms/step - loss: 0.3134 - accuracy: 0.8889 - val_loss: 0.3174 - val_accuracy: 0.8876\n"
     ]
    },
    {
     "name": "stderr",
     "output_type": "stream",
     "text": [
      "WARNING:absl:Found untraced functions such as lstm_cell_layer_call_and_return_conditional_losses, lstm_cell_layer_call_fn, lstm_cell_layer_call_fn, lstm_cell_layer_call_and_return_conditional_losses, lstm_cell_layer_call_and_return_conditional_losses while saving (showing 5 of 5). These functions will not be directly callable after loading.\n",
      "WARNING:absl:Found untraced functions such as lstm_cell_layer_call_and_return_conditional_losses, lstm_cell_layer_call_fn, lstm_cell_layer_call_fn, lstm_cell_layer_call_and_return_conditional_losses, lstm_cell_layer_call_and_return_conditional_losses while saving (showing 5 of 5). These functions will not be directly callable after loading.\n"
     ]
    },
    {
     "name": "stdout",
     "output_type": "stream",
     "text": [
      "INFO:tensorflow:Assets written to: drive/MyDrive/model_1/assets\n"
     ]
    },
    {
     "name": "stderr",
     "output_type": "stream",
     "text": [
      "INFO:tensorflow:Assets written to: drive/MyDrive/model_1/assets\n"
     ]
    },
    {
     "name": "stdout",
     "output_type": "stream",
     "text": [
      "Epoch 5/30\n",
      "713/713 [==============================] - 8s 11ms/step - loss: 0.3126 - accuracy: 0.8884 - val_loss: 0.3163 - val_accuracy: 0.8875\n"
     ]
    },
    {
     "name": "stderr",
     "output_type": "stream",
     "text": [
      "WARNING:absl:Found untraced functions such as lstm_cell_layer_call_and_return_conditional_losses, lstm_cell_layer_call_fn, lstm_cell_layer_call_fn, lstm_cell_layer_call_and_return_conditional_losses, lstm_cell_layer_call_and_return_conditional_losses while saving (showing 5 of 5). These functions will not be directly callable after loading.\n",
      "WARNING:absl:Found untraced functions such as lstm_cell_layer_call_and_return_conditional_losses, lstm_cell_layer_call_fn, lstm_cell_layer_call_fn, lstm_cell_layer_call_and_return_conditional_losses, lstm_cell_layer_call_and_return_conditional_losses while saving (showing 5 of 5). These functions will not be directly callable after loading.\n"
     ]
    },
    {
     "name": "stdout",
     "output_type": "stream",
     "text": [
      "INFO:tensorflow:Assets written to: drive/MyDrive/model_1/assets\n"
     ]
    },
    {
     "name": "stderr",
     "output_type": "stream",
     "text": [
      "INFO:tensorflow:Assets written to: drive/MyDrive/model_1/assets\n"
     ]
    },
    {
     "name": "stdout",
     "output_type": "stream",
     "text": [
      "Epoch 6/30\n",
      "713/713 [==============================] - 8s 11ms/step - loss: 0.3169 - accuracy: 0.8862 - val_loss: 0.3151 - val_accuracy: 0.8877\n"
     ]
    },
    {
     "name": "stderr",
     "output_type": "stream",
     "text": [
      "WARNING:absl:Found untraced functions such as lstm_cell_layer_call_and_return_conditional_losses, lstm_cell_layer_call_fn, lstm_cell_layer_call_fn, lstm_cell_layer_call_and_return_conditional_losses, lstm_cell_layer_call_and_return_conditional_losses while saving (showing 5 of 5). These functions will not be directly callable after loading.\n",
      "WARNING:absl:Found untraced functions such as lstm_cell_layer_call_and_return_conditional_losses, lstm_cell_layer_call_fn, lstm_cell_layer_call_fn, lstm_cell_layer_call_and_return_conditional_losses, lstm_cell_layer_call_and_return_conditional_losses while saving (showing 5 of 5). These functions will not be directly callable after loading.\n"
     ]
    },
    {
     "name": "stdout",
     "output_type": "stream",
     "text": [
      "INFO:tensorflow:Assets written to: drive/MyDrive/model_1/assets\n"
     ]
    },
    {
     "name": "stderr",
     "output_type": "stream",
     "text": [
      "INFO:tensorflow:Assets written to: drive/MyDrive/model_1/assets\n"
     ]
    },
    {
     "name": "stdout",
     "output_type": "stream",
     "text": [
      "Epoch 7/30\n",
      "713/713 [==============================] - 8s 11ms/step - loss: 0.3125 - accuracy: 0.8886 - val_loss: 0.3150 - val_accuracy: 0.8871\n"
     ]
    },
    {
     "name": "stderr",
     "output_type": "stream",
     "text": [
      "WARNING:absl:Found untraced functions such as lstm_cell_layer_call_and_return_conditional_losses, lstm_cell_layer_call_fn, lstm_cell_layer_call_fn, lstm_cell_layer_call_and_return_conditional_losses, lstm_cell_layer_call_and_return_conditional_losses while saving (showing 5 of 5). These functions will not be directly callable after loading.\n",
      "WARNING:absl:Found untraced functions such as lstm_cell_layer_call_and_return_conditional_losses, lstm_cell_layer_call_fn, lstm_cell_layer_call_fn, lstm_cell_layer_call_and_return_conditional_losses, lstm_cell_layer_call_and_return_conditional_losses while saving (showing 5 of 5). These functions will not be directly callable after loading.\n"
     ]
    },
    {
     "name": "stdout",
     "output_type": "stream",
     "text": [
      "INFO:tensorflow:Assets written to: drive/MyDrive/model_1/assets\n"
     ]
    },
    {
     "name": "stderr",
     "output_type": "stream",
     "text": [
      "INFO:tensorflow:Assets written to: drive/MyDrive/model_1/assets\n"
     ]
    },
    {
     "name": "stdout",
     "output_type": "stream",
     "text": [
      "Epoch 8/30\n",
      "713/713 [==============================] - 8s 11ms/step - loss: 0.3123 - accuracy: 0.8878 - val_loss: 0.3231 - val_accuracy: 0.8872\n",
      "Epoch 9/30\n",
      "713/713 [==============================] - 8s 11ms/step - loss: 0.3092 - accuracy: 0.8887 - val_loss: 0.3143 - val_accuracy: 0.8870\n"
     ]
    },
    {
     "name": "stderr",
     "output_type": "stream",
     "text": [
      "WARNING:absl:Found untraced functions such as lstm_cell_layer_call_and_return_conditional_losses, lstm_cell_layer_call_fn, lstm_cell_layer_call_fn, lstm_cell_layer_call_and_return_conditional_losses, lstm_cell_layer_call_and_return_conditional_losses while saving (showing 5 of 5). These functions will not be directly callable after loading.\n",
      "WARNING:absl:Found untraced functions such as lstm_cell_layer_call_and_return_conditional_losses, lstm_cell_layer_call_fn, lstm_cell_layer_call_fn, lstm_cell_layer_call_and_return_conditional_losses, lstm_cell_layer_call_and_return_conditional_losses while saving (showing 5 of 5). These functions will not be directly callable after loading.\n"
     ]
    },
    {
     "name": "stdout",
     "output_type": "stream",
     "text": [
      "INFO:tensorflow:Assets written to: drive/MyDrive/model_1/assets\n"
     ]
    },
    {
     "name": "stderr",
     "output_type": "stream",
     "text": [
      "INFO:tensorflow:Assets written to: drive/MyDrive/model_1/assets\n"
     ]
    },
    {
     "name": "stdout",
     "output_type": "stream",
     "text": [
      "Epoch 10/30\n",
      "713/713 [==============================] - 8s 11ms/step - loss: 0.3110 - accuracy: 0.8879 - val_loss: 0.3146 - val_accuracy: 0.8878\n",
      "Epoch 11/30\n",
      "713/713 [==============================] - 8s 11ms/step - loss: 0.3105 - accuracy: 0.8869 - val_loss: 0.3131 - val_accuracy: 0.8869\n"
     ]
    },
    {
     "name": "stderr",
     "output_type": "stream",
     "text": [
      "WARNING:absl:Found untraced functions such as lstm_cell_layer_call_and_return_conditional_losses, lstm_cell_layer_call_fn, lstm_cell_layer_call_fn, lstm_cell_layer_call_and_return_conditional_losses, lstm_cell_layer_call_and_return_conditional_losses while saving (showing 5 of 5). These functions will not be directly callable after loading.\n",
      "WARNING:absl:Found untraced functions such as lstm_cell_layer_call_and_return_conditional_losses, lstm_cell_layer_call_fn, lstm_cell_layer_call_fn, lstm_cell_layer_call_and_return_conditional_losses, lstm_cell_layer_call_and_return_conditional_losses while saving (showing 5 of 5). These functions will not be directly callable after loading.\n"
     ]
    },
    {
     "name": "stdout",
     "output_type": "stream",
     "text": [
      "INFO:tensorflow:Assets written to: drive/MyDrive/model_1/assets\n"
     ]
    },
    {
     "name": "stderr",
     "output_type": "stream",
     "text": [
      "INFO:tensorflow:Assets written to: drive/MyDrive/model_1/assets\n"
     ]
    },
    {
     "name": "stdout",
     "output_type": "stream",
     "text": [
      "Epoch 12/30\n",
      "713/713 [==============================] - 7s 10ms/step - loss: 0.3048 - accuracy: 0.8891 - val_loss: 0.3128 - val_accuracy: 0.8872\n"
     ]
    },
    {
     "name": "stderr",
     "output_type": "stream",
     "text": [
      "WARNING:absl:Found untraced functions such as lstm_cell_layer_call_and_return_conditional_losses, lstm_cell_layer_call_fn, lstm_cell_layer_call_fn, lstm_cell_layer_call_and_return_conditional_losses, lstm_cell_layer_call_and_return_conditional_losses while saving (showing 5 of 5). These functions will not be directly callable after loading.\n",
      "WARNING:absl:Found untraced functions such as lstm_cell_layer_call_and_return_conditional_losses, lstm_cell_layer_call_fn, lstm_cell_layer_call_fn, lstm_cell_layer_call_and_return_conditional_losses, lstm_cell_layer_call_and_return_conditional_losses while saving (showing 5 of 5). These functions will not be directly callable after loading.\n"
     ]
    },
    {
     "name": "stdout",
     "output_type": "stream",
     "text": [
      "INFO:tensorflow:Assets written to: drive/MyDrive/model_1/assets\n"
     ]
    },
    {
     "name": "stderr",
     "output_type": "stream",
     "text": [
      "INFO:tensorflow:Assets written to: drive/MyDrive/model_1/assets\n"
     ]
    },
    {
     "name": "stdout",
     "output_type": "stream",
     "text": [
      "Epoch 13/30\n",
      "713/713 [==============================] - 8s 11ms/step - loss: 0.3041 - accuracy: 0.8899 - val_loss: 0.3285 - val_accuracy: 0.8826\n",
      "Epoch 14/30\n",
      "713/713 [==============================] - 8s 11ms/step - loss: 0.3061 - accuracy: 0.8884 - val_loss: 0.3151 - val_accuracy: 0.8878\n",
      "Epoch 15/30\n",
      "713/713 [==============================] - 8s 11ms/step - loss: 0.3080 - accuracy: 0.8883 - val_loss: 0.3163 - val_accuracy: 0.8870\n"
     ]
    },
    {
     "data": {
      "text/plain": [
       "<tensorflow.python.keras.callbacks.History at 0x7f6beffafb70>"
      ]
     },
     "execution_count": 37,
     "metadata": {
      "tags": []
     },
     "output_type": "execute_result"
    }
   ],
   "source": [
    "#preparing our final input:\n",
    "X_tr = [X_tr_txt_lstm, X_tr_others]\n",
    "X_te = [ X_te_txt_lstm, X_te_others]\n",
    "\n",
    "#adding the callback function of Metrics and finally compiling the model:\n",
    "mc_callback = ModelCheckpoint(filepath='drive/MyDrive/model_1', save_best_only=True)\n",
    "es_callback = tf.keras.callbacks.EarlyStopping(monitor='val_loss', patience=3)\n",
    "callbacks = [Metrics((X_tr, y_train), (X_te, y_test)), mc_callback, es_callback]\n",
    "model_1.compile(optimizer=tf.keras.optimizers.RMSprop(lr=0.0001), loss='binary_crossentropy',metrics=['accuracy'])\n",
    "model_1.fit(X_tr, y_train, batch_size=100,epochs= 30, validation_data=(X_te, y_test), callbacks=callbacks )    \n"
   ]
  },
  {
   "cell_type": "code",
   "execution_count": 43,
   "metadata": {
    "colab": {
     "base_uri": "https://localhost:8080/",
     "height": 311
    },
    "id": "olRg4YfVpktx",
    "outputId": "1f19e0f5-2360-4ca7-f8fe-182c53b27588"
   },
   "outputs": [
    {
     "data": {
      "image/png": "[encoded data removed]",
      "text/plain": [
       "<Figure size 432x288 with 2 Axes>"
      ]
     },
     "metadata": {
      "needs_background": "light",
      "tags": []
     },
     "output_type": "display_data"
    }
   ],
   "source": [
    "from sklearn.metrics import confusion_matrix\n",
    "y_test_pred = np.round(np.asarray(model_1.predict(X_te)))\n",
    "cm1=confusion_matrix(y_test,y_test_pred)\n",
    "class_names = [0,1]\n",
    "plt.figure()\n",
    "plot_confusion_matrix(cm1 , classes=class_names, title='Confusion matrix')\n",
    "plt.show()"
   ]
  },
  {
   "cell_type": "code",
   "execution_count": 39,
   "metadata": {
    "colab": {
     "base_uri": "https://localhost:8080/",
     "height": 295
    },
    "id": "zuPNKRBsZPla",
    "outputId": "96050930-f43a-4ec9-bd84-2965a03516d2"
   },
   "outputs": [
    {
     "data": {
      "image/png": "[encoded data removed]",
      "text/plain": [
       "<Figure size 432x288 with 1 Axes>"
      ]
     },
     "metadata": {
      "needs_background": "light",
      "tags": []
     },
     "output_type": "display_data"
    }
   ],
   "source": [
    "import matplotlib.pyplot as plt\n",
    "\n",
    "auc_train = callbacks[0].auc_train\n",
    "auc_val = callbacks[0].auc_val\n",
    "plt.plot(list(range(15)), auc_train)\n",
    "plt.plot(list(range(15)), auc_val)\n",
    "plt.title('model_1 AUC')\n",
    "plt.legend(['train', 'val'], loc='upper left')\n",
    "plt.ylabel('AUC')\n",
    "plt.xlabel('epoch')\n",
    "plt.show()"
   ]
  },
  {
   "cell_type": "code",
   "execution_count": 44,
   "metadata": {
    "colab": {
     "base_uri": "https://localhost:8080/"
    },
    "id": "iYsrsgUor9my",
    "outputId": "fcb67fdc-8300-4981-a6c5-ddb0fa69d746"
   },
   "outputs": [
    {
     "data": {
      "text/plain": [
       "[0.6928074543193802,\n",
       " 0.7111285345550102,\n",
       " 0.7254964152964967,\n",
       " 0.7299449070790481,\n",
       " 0.7338074705409087,\n",
       " 0.7363267475117783,\n",
       " 0.7393466139279774,\n",
       " 0.7248248342750099,\n",
       " 0.7401733437519048,\n",
       " 0.7439276807247367,\n",
       " 0.7439777791679884,\n",
       " 0.745182619944812,\n",
       " 0.725139817618292,\n",
       " 0.7422219529094978,\n",
       " 0.7429587771568976]"
      ]
     },
     "execution_count": 44,
     "metadata": {
      "tags": []
     },
     "output_type": "execute_result"
    }
   ],
   "source": [
    "callbacks[0].auc_val"
   ]
  },
  {
   "cell_type": "code",
   "execution_count": 46,
   "metadata": {
    "colab": {
     "base_uri": "https://localhost:8080/",
     "height": 295
    },
    "id": "8SGDJl3W9bv4",
    "outputId": "9c60cf02-9982-4611-eea8-aa44e57c509e"
   },
   "outputs": [
    {
     "data": {
      "image/png": "[encoded data removed]",
      "text/plain": [
       "<Figure size 432x288 with 1 Axes>"
      ]
     },
     "metadata": {
      "needs_background": "light",
      "tags": []
     },
     "output_type": "display_data"
    }
   ],
   "source": [
    "\n",
    "recall_tr = callbacks[0].recall_tr\n",
    "recall_val = callbacks[0].recall_val\n",
    "plt.plot(list(range(15)), recall_tr)\n",
    "plt.plot(list(range(15)), recall_val)\n",
    "plt.title('model_1 recall')\n",
    "plt.legend(['train', 'val'], loc='upper left')\n",
    "plt.ylabel('recall')\n",
    "plt.xlabel('epoch')\n",
    "plt.show()"
   ]
  },
  {
   "cell_type": "code",
   "execution_count": 47,
   "metadata": {
    "colab": {
     "base_uri": "https://localhost:8080/"
    },
    "id": "ka8HaVLVsJGm",
    "outputId": "64d16930-260d-4f17-834d-97f3b18af8f4"
   },
   "outputs": [
    {
     "data": {
      "text/plain": [
       "[0.1358966832990901,\n",
       " 0.034634575873202234,\n",
       " 0.02289404167889639,\n",
       " 0.018197828001174053,\n",
       " 0.014969181097739948,\n",
       " 0.013208100968594072,\n",
       " 0.015849721162312886,\n",
       " 0.025242148517757558,\n",
       " 0.02054593484003522,\n",
       " 0.00968594071030232,\n",
       " 0.026122688582330494,\n",
       " 0.025535661872615203,\n",
       " 0.0701496918109774,\n",
       " 0.01937188142060464,\n",
       " 0.029938362195479896]"
      ]
     },
     "execution_count": 47,
     "metadata": {
      "tags": []
     },
     "output_type": "execute_result"
    }
   ],
   "source": [
    "callbacks[0].recall_val"
   ]
  },
  {
   "cell_type": "code",
   "execution_count": 48,
   "metadata": {
    "colab": {
     "base_uri": "https://localhost:8080/",
     "height": 295
    },
    "id": "DuCiDkKh9bzW",
    "outputId": "d9091fa2-3c48-4426-e611-7426adc595ca"
   },
   "outputs": [
    {
     "data": {
      "image/png": "[encoded data removed]",
      "text/plain": [
       "<Figure size 432x288 with 1 Axes>"
      ]
     },
     "metadata": {
      "needs_background": "light",
      "tags": []
     },
     "output_type": "display_data"
    }
   ],
   "source": [
    "f1_tr = callbacks[0].f1_tr\n",
    "f1_val = callbacks[0].f1_val\n",
    "plt.plot(list(range(15)), f1_tr)\n",
    "plt.plot(list(range(15)), f1_val)\n",
    "plt.title('model_1 f1')\n",
    "plt.legend(['train', 'val'], loc='upper left')\n",
    "plt.ylabel('macro f1 score')\n",
    "plt.xlabel('epoch')\n",
    "plt.show()"
   ]
  },
  {
   "cell_type": "code",
   "execution_count": 49,
   "metadata": {
    "colab": {
     "base_uri": "https://localhost:8080/"
    },
    "id": "sJ7ghEDQsRq-",
    "outputId": "4c695758-bfe2-48b3-9c41-61d5501d3c75"
   },
   "outputs": [
    {
     "data": {
      "text/plain": [
       "[0.5583906635517442,\n",
       " 0.5014825923641025,\n",
       " 0.4917284824179138,\n",
       " 0.4875939182476981,\n",
       " 0.48454809012636435,\n",
       " 0.48301726429937936,\n",
       " 0.48521856657483836,\n",
       " 0.49382196958615887,\n",
       " 0.4894682944075249,\n",
       " 0.47971787677938355,\n",
       " 0.494431966754617,\n",
       " 0.4940683696635839,\n",
       " 0.527374505778942,\n",
       " 0.4887739071451852,\n",
       " 0.4978654903365405]"
      ]
     },
     "execution_count": 49,
     "metadata": {
      "tags": []
     },
     "output_type": "execute_result"
    }
   ],
   "source": [
    "callbacks[0].f1_val"
   ]
  },
  {
   "cell_type": "markdown",
   "metadata": {
    "id": "6CbCbhbOGKh7"
   },
   "source": [
    "# Model-2 (LSTM-Conv1D)"
   ]
  },
  {
   "cell_type": "code",
   "execution_count": 50,
   "metadata": {
    "colab": {
     "base_uri": "https://localhost:8080/"
    },
    "id": "n6jp2LIXGJej",
    "outputId": "5b0863de-9220-4529-94b5-74266e529e9c"
   },
   "outputs": [
    {
     "name": "stdout",
     "output_type": "stream",
     "text": [
      "Model: \"model\"\n",
      "__________________________________________________________________________________________________\n",
      "Layer (type)                    Output Shape         Param #     Connected to                     \n",
      "==================================================================================================\n",
      "categorical (InputLayer)        [(None, 102, 1)]     0                                            \n",
      "__________________________________________________________________________________________________\n",
      "numerical (InputLayer)          [(None, 9, 1)]       0                                            \n",
      "__________________________________________________________________________________________________\n",
      "conv_cat1 (Conv1D)              (None, 102, 64)      256         categorical[0][0]                \n",
      "__________________________________________________________________________________________________\n",
      "conv_num1 (Conv1D)              (None, 9, 64)        256         numerical[0][0]                  \n",
      "__________________________________________________________________________________________________\n",
      "Text_input (InputLayer)         [(None, None)]       0                                            \n",
      "__________________________________________________________________________________________________\n",
      "batch_normalization (BatchNorma (None, 102, 64)      256         conv_cat1[0][0]                  \n",
      "__________________________________________________________________________________________________\n",
      "batch_normalization_2 (BatchNor (None, 9, 64)        256         conv_num1[0][0]                  \n",
      "__________________________________________________________________________________________________\n",
      "embedding (Embedding)           (None, None, 300)    366600      Text_input[0][0]                 \n",
      "__________________________________________________________________________________________________\n",
      "conv_cat2 (Conv1D)              (None, 102, 64)      12352       batch_normalization[0][0]        \n",
      "__________________________________________________________________________________________________\n",
      "conv_num2 (Conv1D)              (None, 9, 64)        12352       batch_normalization_2[0][0]      \n",
      "__________________________________________________________________________________________________\n",
      "lstm (LSTM)                     (None, 100)          160400      embedding[0][0]                  \n",
      "__________________________________________________________________________________________________\n",
      "batch_normalization_1 (BatchNor (None, 102, 64)      256         conv_cat2[0][0]                  \n",
      "__________________________________________________________________________________________________\n",
      "batch_normalization_3 (BatchNor (None, 9, 64)        256         conv_num2[0][0]                  \n",
      "__________________________________________________________________________________________________\n",
      "flatten (Flatten)               (None, 100)          0           lstm[0][0]                       \n",
      "__________________________________________________________________________________________________\n",
      "flatten_1 (Flatten)             (None, 6528)         0           batch_normalization_1[0][0]      \n",
      "__________________________________________________________________________________________________\n",
      "flatten_2 (Flatten)             (None, 576)          0           batch_normalization_3[0][0]      \n",
      "__________________________________________________________________________________________________\n",
      "concatenate (Concatenate)       (None, 7204)         0           flatten[0][0]                    \n",
      "                                                                 flatten_1[0][0]                  \n",
      "                                                                 flatten_2[0][0]                  \n",
      "__________________________________________________________________________________________________\n",
      "dense (Dense)                   (None, 64)           461120      concatenate[0][0]                \n",
      "__________________________________________________________________________________________________\n",
      "batch_normalization_4 (BatchNor (None, 64)           256         dense[0][0]                      \n",
      "__________________________________________________________________________________________________\n",
      "dense_1 (Dense)                 (None, 64)           4160        batch_normalization_4[0][0]      \n",
      "__________________________________________________________________________________________________\n",
      "batch_normalization_5 (BatchNor (None, 64)           256         dense_1[0][0]                    \n",
      "__________________________________________________________________________________________________\n",
      "dense_2 (Dense)                 (None, 64)           4160        batch_normalization_5[0][0]      \n",
      "__________________________________________________________________________________________________\n",
      "dense_3 (Dense)                 (None, 64)           4160        dense_2[0][0]                    \n",
      "__________________________________________________________________________________________________\n",
      "dense_4 (Dense)                 (None, 1)            65          dense_3[0][0]                    \n",
      "==================================================================================================\n",
      "Total params: 1,027,417\n",
      "Trainable params: 660,049\n",
      "Non-trainable params: 367,368\n",
      "__________________________________________________________________________________________________\n"
     ]
    }
   ],
   "source": [
    "import os\n",
    "%reload_ext tensorboard\n",
    "os.environ['PYTHONHASHSEED'] = '0'\n",
    "tf.keras.backend.clear_session()\n",
    "!rm -rf ./logs/\n",
    "np.random.seed(0)\n",
    "rn.seed(0)\n",
    "batch_size=100\n",
    "#for essay\n",
    "input_txt = Input(shape=(None,), name='Text_input')\n",
    "embedding_txt = Embedding(num_tokens,embedding_dim, \n",
    "                          embeddings_initializer=tf.keras.initializers.Constant(embedding_matrix),\n",
    "                          trainable=False)(input_txt)\n",
    "lstm_txt = LSTM(100)(embedding_txt)\n",
    "flatten_txt = Flatten()(lstm_txt)\n",
    "\n",
    "#for categorical\n",
    "input_cat = Input(shape=(102,1), name='categorical')\n",
    "conv_cat1 = Conv1D(filters=64,kernel_size=3,strides=1,padding='same',activation='relu',name='conv_cat1')(input_cat)\n",
    "norm_cat1 = BatchNormalization()(conv_cat1)\n",
    "conv_cat2 = Conv1D(filters=64,kernel_size=3,strides=1,padding='same',activation='relu',name='conv_cat2')(norm_cat1)\n",
    "norm_cat2 = BatchNormalization()(conv_cat2)\n",
    "flatten_cat = Flatten()(norm_cat2)\n",
    "\n",
    "#dense_cat = Dense(16,activation='relu', kernel_initializer=tf.keras.initializers.HeNormal())(conv_cat)\n",
    "\n",
    "#for numerical\n",
    "input_num = Input(shape=(9,1), name='numerical')\n",
    "conv_num1 = Conv1D(filters=64,kernel_size=3,strides=1,padding='same',activation='relu',name='conv_num1')(input_num)\n",
    "norm_num1 = BatchNormalization()(conv_num1)\n",
    "conv_num2 = Conv1D(filters=64,kernel_size=3,strides=1,padding='same',activation='relu',name='conv_num2')(norm_num1)\n",
    "norm_num2 = BatchNormalization()(conv_num2)\n",
    "flatten_num = Flatten()(norm_num2)\n",
    "#dense_num = Dense(16,activation='relu', kernel_initializer=tf.keras.initializers.HeNormal())(conv_num)\n",
    "\n",
    "#final concatenation = text + categorical + numerical\n",
    "input_final = Concatenate()([flatten_txt, flatten_cat, flatten_num])\n",
    "\n",
    "#adding a dense layer:\n",
    "dense1 = Dense(64,activation='relu', kernel_initializer=tf.keras.initializers.HeNormal())(input_final)\n",
    "#adding a normalization layer:\n",
    "norm1 = BatchNormalization()(dense1)\n",
    "#another dense layer\n",
    "dense2 = Dense(64,activation='relu', kernel_initializer=tf.keras.initializers.HeNormal())(norm1)\n",
    "#another normalization layer:\n",
    "norm2 = BatchNormalization()(dense2)\n",
    "\n",
    "#another dense layer\n",
    "dense3 = Dense(64,activation='relu', kernel_initializer=tf.keras.initializers.HeNormal())(norm2)\n",
    "#another dense layer\n",
    "dense4 = Dense(64,activation='relu', kernel_initializer=tf.keras.initializers.HeNormal())(dense3)\n",
    "#final output layer:\n",
    "output = Dense(1, activation='sigmoid', kernel_initializer=tf.keras.initializers.HeNormal())(dense4)\n",
    "\n",
    "model_2 = Model(inputs=[input_txt, input_cat, input_num], outputs=output)\n",
    "model_2.summary()"
   ]
  },
  {
   "cell_type": "code",
   "execution_count": null,
   "metadata": {
    "colab": {
     "base_uri": "https://localhost:8080/",
     "height": 1000
    },
    "id": "k4-t8QxeKTqr",
    "outputId": "d1c7fc19-bf63-42d1-cb17-1e6307b5b553"
   },
   "outputs": [
    {
     "data": {
      "image/png": "[encoded data removed]",
      "text/plain": [
       "<IPython.core.display.Image object>"
      ]
     },
     "execution_count": 74,
     "metadata": {
      "tags": []
     },
     "output_type": "execute_result"
    }
   ],
   "source": [
    "tf.keras.utils.plot_model(model_2)"
   ]
  },
  {
   "cell_type": "code",
   "execution_count": 54,
   "metadata": {
    "id": "I6x5KywrrZLE"
   },
   "outputs": [],
   "source": [
    "\n",
    "\n",
    "#slicing out the text features, categorical features and numerical features so as to match our model input:\n",
    "X_tr_txt_lstm = X_tr_lstm.iloc[:,:50]\n",
    "X_tr_categorical = X_tr_lstm.iloc[:,50:152]\n",
    "X_tr_num = X_tr_lstm.iloc[:,152:161]\n",
    "\n",
    "X_te_txt_lstm = X_te_lstm.iloc[:,:50]\n",
    "X_te_categorical = X_te_lstm.iloc[:,50:152]\n",
    "X_te_num = X_te_lstm.iloc[:,152:161]\n"
   ]
  },
  {
   "cell_type": "code",
   "execution_count": 56,
   "metadata": {
    "colab": {
     "base_uri": "https://localhost:8080/"
    },
    "id": "AX0eeJJgKHad",
    "outputId": "422d913c-2a2a-48c8-ce92-6a6be1f56125"
   },
   "outputs": [
    {
     "name": "stdout",
     "output_type": "stream",
     "text": [
      "Epoch 1/30\n",
      "713/713 [==============================] - 14s 15ms/step - loss: 0.3368 - accuracy: 0.8866 - val_loss: 0.3248 - val_accuracy: 0.8884\n"
     ]
    },
    {
     "name": "stderr",
     "output_type": "stream",
     "text": [
      "WARNING:absl:Found untraced functions such as lstm_cell_layer_call_and_return_conditional_losses, lstm_cell_layer_call_fn, lstm_cell_layer_call_fn, lstm_cell_layer_call_and_return_conditional_losses, lstm_cell_layer_call_and_return_conditional_losses while saving (showing 5 of 5). These functions will not be directly callable after loading.\n",
      "WARNING:absl:Found untraced functions such as lstm_cell_layer_call_and_return_conditional_losses, lstm_cell_layer_call_fn, lstm_cell_layer_call_fn, lstm_cell_layer_call_and_return_conditional_losses, lstm_cell_layer_call_and_return_conditional_losses while saving (showing 5 of 5). These functions will not be directly callable after loading.\n"
     ]
    },
    {
     "name": "stdout",
     "output_type": "stream",
     "text": [
      "INFO:tensorflow:Assets written to: drive/MyDrive/model_2/assets\n"
     ]
    },
    {
     "name": "stderr",
     "output_type": "stream",
     "text": [
      "INFO:tensorflow:Assets written to: drive/MyDrive/model_2/assets\n"
     ]
    },
    {
     "name": "stdout",
     "output_type": "stream",
     "text": [
      "Epoch 2/30\n",
      "713/713 [==============================] - 10s 14ms/step - loss: 0.3137 - accuracy: 0.8864 - val_loss: 0.3128 - val_accuracy: 0.8874\n"
     ]
    },
    {
     "name": "stderr",
     "output_type": "stream",
     "text": [
      "WARNING:absl:Found untraced functions such as lstm_cell_layer_call_and_return_conditional_losses, lstm_cell_layer_call_fn, lstm_cell_layer_call_fn, lstm_cell_layer_call_and_return_conditional_losses, lstm_cell_layer_call_and_return_conditional_losses while saving (showing 5 of 5). These functions will not be directly callable after loading.\n",
      "WARNING:absl:Found untraced functions such as lstm_cell_layer_call_and_return_conditional_losses, lstm_cell_layer_call_fn, lstm_cell_layer_call_fn, lstm_cell_layer_call_and_return_conditional_losses, lstm_cell_layer_call_and_return_conditional_losses while saving (showing 5 of 5). These functions will not be directly callable after loading.\n"
     ]
    },
    {
     "name": "stdout",
     "output_type": "stream",
     "text": [
      "INFO:tensorflow:Assets written to: drive/MyDrive/model_2/assets\n"
     ]
    },
    {
     "name": "stderr",
     "output_type": "stream",
     "text": [
      "INFO:tensorflow:Assets written to: drive/MyDrive/model_2/assets\n"
     ]
    },
    {
     "name": "stdout",
     "output_type": "stream",
     "text": [
      "Epoch 3/30\n",
      "713/713 [==============================] - 10s 14ms/step - loss: 0.3038 - accuracy: 0.8898 - val_loss: 0.3120 - val_accuracy: 0.8877\n"
     ]
    },
    {
     "name": "stderr",
     "output_type": "stream",
     "text": [
      "WARNING:absl:Found untraced functions such as lstm_cell_layer_call_and_return_conditional_losses, lstm_cell_layer_call_fn, lstm_cell_layer_call_fn, lstm_cell_layer_call_and_return_conditional_losses, lstm_cell_layer_call_and_return_conditional_losses while saving (showing 5 of 5). These functions will not be directly callable after loading.\n",
      "WARNING:absl:Found untraced functions such as lstm_cell_layer_call_and_return_conditional_losses, lstm_cell_layer_call_fn, lstm_cell_layer_call_fn, lstm_cell_layer_call_and_return_conditional_losses, lstm_cell_layer_call_and_return_conditional_losses while saving (showing 5 of 5). These functions will not be directly callable after loading.\n"
     ]
    },
    {
     "name": "stdout",
     "output_type": "stream",
     "text": [
      "INFO:tensorflow:Assets written to: drive/MyDrive/model_2/assets\n"
     ]
    },
    {
     "name": "stderr",
     "output_type": "stream",
     "text": [
      "INFO:tensorflow:Assets written to: drive/MyDrive/model_2/assets\n"
     ]
    },
    {
     "name": "stdout",
     "output_type": "stream",
     "text": [
      "Epoch 4/30\n",
      "713/713 [==============================] - 10s 14ms/step - loss: 0.2968 - accuracy: 0.8903 - val_loss: 0.3082 - val_accuracy: 0.8877\n"
     ]
    },
    {
     "name": "stderr",
     "output_type": "stream",
     "text": [
      "WARNING:absl:Found untraced functions such as lstm_cell_layer_call_and_return_conditional_losses, lstm_cell_layer_call_fn, lstm_cell_layer_call_fn, lstm_cell_layer_call_and_return_conditional_losses, lstm_cell_layer_call_and_return_conditional_losses while saving (showing 5 of 5). These functions will not be directly callable after loading.\n",
      "WARNING:absl:Found untraced functions such as lstm_cell_layer_call_and_return_conditional_losses, lstm_cell_layer_call_fn, lstm_cell_layer_call_fn, lstm_cell_layer_call_and_return_conditional_losses, lstm_cell_layer_call_and_return_conditional_losses while saving (showing 5 of 5). These functions will not be directly callable after loading.\n"
     ]
    },
    {
     "name": "stdout",
     "output_type": "stream",
     "text": [
      "INFO:tensorflow:Assets written to: drive/MyDrive/model_2/assets\n"
     ]
    },
    {
     "name": "stderr",
     "output_type": "stream",
     "text": [
      "INFO:tensorflow:Assets written to: drive/MyDrive/model_2/assets\n"
     ]
    },
    {
     "name": "stdout",
     "output_type": "stream",
     "text": [
      "Epoch 5/30\n",
      "713/713 [==============================] - 9s 13ms/step - loss: 0.2975 - accuracy: 0.8898 - val_loss: 0.3137 - val_accuracy: 0.8864\n",
      "Epoch 6/30\n",
      "713/713 [==============================] - 10s 14ms/step - loss: 0.2988 - accuracy: 0.8872 - val_loss: 0.3082 - val_accuracy: 0.8869\n",
      "Epoch 7/30\n",
      "713/713 [==============================] - 10s 14ms/step - loss: 0.2926 - accuracy: 0.8904 - val_loss: 0.3111 - val_accuracy: 0.8864\n"
     ]
    },
    {
     "data": {
      "text/plain": [
       "<tensorflow.python.keras.callbacks.History at 0x7f6bee0bfe48>"
      ]
     },
     "execution_count": 56,
     "metadata": {
      "tags": []
     },
     "output_type": "execute_result"
    }
   ],
   "source": [
    "#preparing our final input:\n",
    "X_tr = [X_tr_txt_lstm, X_tr_categorical, X_tr_num]\n",
    "X_te = [ X_te_txt_lstm, X_te_categorical,X_te_num]\n",
    "\n",
    "#adding the callback function of Metrics and finally compiling the model:\n",
    "mc_callback = ModelCheckpoint(filepath='drive/MyDrive/model_2', save_best_only=True)\n",
    "es_callback = tf.keras.callbacks.EarlyStopping(monitor='val_loss', patience=3)\n",
    "callbacks = [Metrics((X_tr, y_train), (X_te, y_test)), mc_callback, es_callback]\n",
    "model_2.compile(optimizer=tf.keras.optimizers.Adam(lr=0.0001), loss='binary_crossentropy',metrics=['accuracy'])\n",
    "model_2.fit(X_tr, y_train, batch_size=100,epochs= 30, validation_data=(X_te, y_test), callbacks=callbacks ) "
   ]
  },
  {
   "cell_type": "code",
   "execution_count": 57,
   "metadata": {
    "colab": {
     "base_uri": "https://localhost:8080/",
     "height": 311
    },
    "id": "11yMJFI3snTs",
    "outputId": "303b7b1b-ca3c-443d-eccc-4d9d4f6aab17"
   },
   "outputs": [
    {
     "data": {
      "image/png": "[encoded data removed]",
      "text/plain": [
       "<Figure size 432x288 with 2 Axes>"
      ]
     },
     "metadata": {
      "needs_background": "light",
      "tags": []
     },
     "output_type": "display_data"
    }
   ],
   "source": [
    "from sklearn.metrics import confusion_matrix\n",
    "y_test_pred = np.round(np.asarray(model_2.predict(X_te)))\n",
    "cm2=confusion_matrix(y_test,y_test_pred)\n",
    "class_names = [0,1]\n",
    "plt.figure()\n",
    "plot_confusion_matrix(cm2 , classes=class_names, title='Confusion matrix')\n",
    "plt.show()"
   ]
  },
  {
   "cell_type": "code",
   "execution_count": 58,
   "metadata": {
    "colab": {
     "base_uri": "https://localhost:8080/",
     "height": 295
    },
    "id": "1axHXIZNTDNT",
    "outputId": "783516ad-c62e-49b0-df94-82f03d56ff6e"
   },
   "outputs": [
    {
     "data": {
      "image/png": "[encoded data removed]",
      "text/plain": [
       "<Figure size 432x288 with 1 Axes>"
      ]
     },
     "metadata": {
      "needs_background": "light",
      "tags": []
     },
     "output_type": "display_data"
    }
   ],
   "source": [
    "import matplotlib.pyplot as plt\n",
    "\n",
    "auc_train = callbacks[0].auc_train\n",
    "auc_val = callbacks[0].auc_val\n",
    "plt.plot(list(range(7)), auc_train)\n",
    "plt.plot(list(range(7)), auc_val)\n",
    "plt.title('model_2 AUC')\n",
    "plt.legend(['train', 'val'], loc='upper left')\n",
    "plt.ylabel('AUC')\n",
    "plt.xlabel('epoch')\n",
    "plt.show()"
   ]
  },
  {
   "cell_type": "code",
   "execution_count": 59,
   "metadata": {
    "colab": {
     "base_uri": "https://localhost:8080/"
    },
    "id": "EmHKCXxXTQJo",
    "outputId": "65cd40ca-fad4-4bc7-c9e2-4681f7352588"
   },
   "outputs": [
    {
     "data": {
      "text/plain": [
       "[0.6979922887896112,\n",
       " 0.7425498301495581,\n",
       " 0.7438107807499609,\n",
       " 0.7592220661355507,\n",
       " 0.7409770290494463,\n",
       " 0.7590978020846039,\n",
       " 0.7549234530524345]"
      ]
     },
     "execution_count": 59,
     "metadata": {
      "tags": []
     },
     "output_type": "execute_result"
    }
   ],
   "source": [
    "callbacks[0].auc_val"
   ]
  },
  {
   "cell_type": "code",
   "execution_count": 60,
   "metadata": {
    "colab": {
     "base_uri": "https://localhost:8080/",
     "height": 295
    },
    "id": "DVP_HCb4TQSX",
    "outputId": "8dc97873-9c86-4dbd-ce75-a78cf4e87992"
   },
   "outputs": [
    {
     "data": {
      "image/png": "[encoded data removed]",
      "text/plain": [
       "<Figure size 432x288 with 1 Axes>"
      ]
     },
     "metadata": {
      "needs_background": "light",
      "tags": []
     },
     "output_type": "display_data"
    }
   ],
   "source": [
    "\n",
    "recall_tr = callbacks[0].recall_tr\n",
    "recall_val = callbacks[0].recall_val\n",
    "plt.plot(list(range(7)), recall_tr)\n",
    "plt.plot(list(range(7)), recall_val)\n",
    "plt.title('model_2 recall')\n",
    "plt.legend(['train', 'val'], loc='upper left')\n",
    "plt.ylabel('recall')\n",
    "plt.xlabel('epoch')\n",
    "plt.show()"
   ]
  },
  {
   "cell_type": "code",
   "execution_count": 61,
   "metadata": {
    "colab": {
     "base_uri": "https://localhost:8080/"
    },
    "id": "gQ2hN2-6TQYT",
    "outputId": "f743e6ce-e660-4b1b-b183-a8b2ed7293c2"
   },
   "outputs": [
    {
     "data": {
      "text/plain": [
       "[0.008511887290871734,\n",
       " 0.017610801291458762,\n",
       " 0.0184913413560317,\n",
       " 0.0067508071617258586,\n",
       " 0.01408864103316701,\n",
       " 0.015556207807455239,\n",
       " 0.046962136777223364]"
      ]
     },
     "execution_count": 61,
     "metadata": {
      "tags": []
     },
     "output_type": "execute_result"
    }
   ],
   "source": [
    "callbacks[0].recall_val"
   ]
  },
  {
   "cell_type": "code",
   "execution_count": 62,
   "metadata": {
    "colab": {
     "base_uri": "https://localhost:8080/",
     "height": 295
    },
    "id": "c4fANJbKTQb1",
    "outputId": "d4d7b243-39e9-42e5-c82e-c0639fd1bdf5"
   },
   "outputs": [
    {
     "data": {
      "image/png": "[encoded data removed]",
      "text/plain": [
       "<Figure size 432x288 with 1 Axes>"
      ]
     },
     "metadata": {
      "needs_background": "light",
      "tags": []
     },
     "output_type": "display_data"
    }
   ],
   "source": [
    "f1_tr = callbacks[0].f1_tr\n",
    "f1_val = callbacks[0].f1_val\n",
    "plt.plot(list(range(7)), f1_tr)\n",
    "plt.plot(list(range(7)), f1_val)\n",
    "plt.title('model_2 f1')\n",
    "plt.legend(['train', 'val'], loc='upper left')\n",
    "plt.ylabel('macro f1 score')\n",
    "plt.xlabel('epoch')\n",
    "plt.show()"
   ]
  },
  {
   "cell_type": "code",
   "execution_count": 63,
   "metadata": {
    "colab": {
     "base_uri": "https://localhost:8080/"
    },
    "id": "PvZjOYsCTQfn",
    "outputId": "e1186752-045f-4656-ad76-5c82427e864c"
   },
   "outputs": [
    {
     "data": {
      "text/plain": [
       "[0.47878057840103677,\n",
       " 0.48695484040569775,\n",
       " 0.4879067202741864,\n",
       " 0.476845326551991,\n",
       " 0.48330939373794524,\n",
       " 0.4848662587731533,\n",
       " 0.51198248576667]"
      ]
     },
     "execution_count": 63,
     "metadata": {
      "tags": []
     },
     "output_type": "execute_result"
    }
   ],
   "source": [
    "callbacks[0].f1_val"
   ]
  },
  {
   "cell_type": "markdown",
   "metadata": {
    "id": "Kl7wWvZc7gIf"
   },
   "source": [
    "# MLP (Without Text)"
   ]
  },
  {
   "cell_type": "code",
   "execution_count": 64,
   "metadata": {
    "colab": {
     "base_uri": "https://localhost:8080/"
    },
    "id": "93qZrmiUTQio",
    "outputId": "9553e224-d9fd-449e-87db-3d9f02171a1b"
   },
   "outputs": [
    {
     "name": "stdout",
     "output_type": "stream",
     "text": [
      "Model: \"model\"\n",
      "__________________________________________________________________________________________________\n",
      "Layer (type)                    Output Shape         Param #     Connected to                     \n",
      "==================================================================================================\n",
      "categorical (InputLayer)        [(None, 102, 1)]     0                                            \n",
      "__________________________________________________________________________________________________\n",
      "numerical (InputLayer)          [(None, 9, 1)]       0                                            \n",
      "__________________________________________________________________________________________________\n",
      "conv_cat1 (Conv1D)              (None, 102, 64)      256         categorical[0][0]                \n",
      "__________________________________________________________________________________________________\n",
      "conv_num1 (Conv1D)              (None, 9, 64)        256         numerical[0][0]                  \n",
      "__________________________________________________________________________________________________\n",
      "batch_normalization (BatchNorma (None, 102, 64)      256         conv_cat1[0][0]                  \n",
      "__________________________________________________________________________________________________\n",
      "batch_normalization_3 (BatchNor (None, 9, 64)        256         conv_num1[0][0]                  \n",
      "__________________________________________________________________________________________________\n",
      "flatten (Flatten)               (None, 6528)         0           batch_normalization[0][0]        \n",
      "__________________________________________________________________________________________________\n",
      "flatten_1 (Flatten)             (None, 576)          0           batch_normalization_3[0][0]      \n",
      "__________________________________________________________________________________________________\n",
      "concatenate (Concatenate)       (None, 7104)         0           flatten[0][0]                    \n",
      "                                                                 flatten_1[0][0]                  \n",
      "__________________________________________________________________________________________________\n",
      "dense (Dense)                   (None, 64)           454720      concatenate[0][0]                \n",
      "__________________________________________________________________________________________________\n",
      "batch_normalization_4 (BatchNor (None, 64)           256         dense[0][0]                      \n",
      "__________________________________________________________________________________________________\n",
      "dense_1 (Dense)                 (None, 64)           4160        batch_normalization_4[0][0]      \n",
      "__________________________________________________________________________________________________\n",
      "batch_normalization_5 (BatchNor (None, 64)           256         dense_1[0][0]                    \n",
      "__________________________________________________________________________________________________\n",
      "dense_2 (Dense)                 (None, 64)           4160        batch_normalization_5[0][0]      \n",
      "__________________________________________________________________________________________________\n",
      "dense_3 (Dense)                 (None, 64)           4160        dense_2[0][0]                    \n",
      "__________________________________________________________________________________________________\n",
      "dense_4 (Dense)                 (None, 64)           4160        dense_3[0][0]                    \n",
      "__________________________________________________________________________________________________\n",
      "dense_5 (Dense)                 (None, 64)           4160        dense_4[0][0]                    \n",
      "__________________________________________________________________________________________________\n",
      "dense_6 (Dense)                 (None, 1)            65          dense_5[0][0]                    \n",
      "==================================================================================================\n",
      "Total params: 477,121\n",
      "Trainable params: 476,609\n",
      "Non-trainable params: 512\n",
      "__________________________________________________________________________________________________\n"
     ]
    }
   ],
   "source": [
    "import os\n",
    "%reload_ext tensorboard\n",
    "os.environ['PYTHONHASHSEED'] = '0'\n",
    "tf.keras.backend.clear_session()\n",
    "!rm -rf ./logs/\n",
    "np.random.seed(0)\n",
    "rn.seed(0)\n",
    "batch_size=100\n",
    "\n",
    "#for categorical\n",
    "input_cat = Input(shape=(102,1), name='categorical')\n",
    "conv_cat1 = Conv1D(filters=64,kernel_size=3,strides=1,padding='same',activation='relu',name='conv_cat1')(input_cat)\n",
    "norm_cat1 = BatchNormalization()(conv_cat1)\n",
    "conv_cat2 = Conv1D(filters=64,kernel_size=3,strides=1,padding='same',activation='relu',name='conv_cat2')(norm_cat1)\n",
    "norm_cat2 = BatchNormalization()(conv_cat2)\n",
    "flatten_cat = Flatten()(norm_cat1)\n",
    "\n",
    "#dense_cat = Dense(16,activation='relu', kernel_initializer=tf.keras.initializers.HeNormal())(conv_cat)\n",
    "\n",
    "#for numerical\n",
    "input_num = Input(shape=(9,1), name='numerical')\n",
    "conv_num1 = Conv1D(filters=64,kernel_size=3,strides=1,padding='same',activation='relu',name='conv_num1')(input_num)\n",
    "norm_num1 = BatchNormalization()(conv_num1)\n",
    "conv_num2 = Conv1D(filters=64,kernel_size=3,strides=1,padding='same',activation='relu',name='conv_num2')(norm_num1)\n",
    "norm_num2 = BatchNormalization()(conv_num1)\n",
    "flatten_num = Flatten()(norm_num2)\n",
    "#dense_num = Dense(16,activation='relu', kernel_initializer=tf.keras.initializers.HeNormal())(conv_num)\n",
    "\n",
    "#final concatenation = categorical + numerical\n",
    "input_final = Concatenate()([flatten_cat, flatten_num])\n",
    "\n",
    "#adding a dense layer:\n",
    "dense1 = Dense(64,activation='relu', kernel_initializer=tf.keras.initializers.HeNormal())(input_final)\n",
    "#adding a normalization layer:\n",
    "norm1 = BatchNormalization()(dense1)\n",
    "#another dense layer\n",
    "dense2 = Dense(64,activation='relu', kernel_initializer=tf.keras.initializers.HeNormal())(norm1)\n",
    "#another normalization layer:\n",
    "norm2 = BatchNormalization()(dense2)\n",
    "\n",
    "#another dense layer\n",
    "dense3 = Dense(64,activation='relu', kernel_initializer=tf.keras.initializers.HeNormal())(norm2)\n",
    "#another dense layer\n",
    "dense4 = Dense(64,activation='relu', kernel_initializer=tf.keras.initializers.HeNormal())(dense3)\n",
    "#final output layer:\n",
    "dense5 = Dense(64,activation='relu', kernel_initializer=tf.keras.initializers.HeNormal())(dense4)\n",
    "dense6 = Dense(64,activation='relu', kernel_initializer=tf.keras.initializers.HeNormal())(dense5)\n",
    "output = Dense(1, activation='sigmoid', kernel_initializer=tf.keras.initializers.HeNormal())(dense6)\n",
    "\n",
    "model_3 = Model(inputs=[input_cat, input_num], outputs=output)\n",
    "model_3.summary()"
   ]
  },
  {
   "cell_type": "code",
   "execution_count": null,
   "metadata": {
    "colab": {
     "base_uri": "https://localhost:8080/",
     "height": 1000
    },
    "id": "TYiaXvyM7_om",
    "outputId": "6d2ab758-e5dc-41ae-9fa2-eb9a12a4e3af"
   },
   "outputs": [
    {
     "data": {
      "image/png": "[encoded data removed]",
      "text/plain": [
       "<IPython.core.display.Image object>"
      ]
     },
     "execution_count": 35,
     "metadata": {
      "tags": []
     },
     "output_type": "execute_result"
    }
   ],
   "source": [
    "tf.keras.utils.plot_model(model_3)"
   ]
  },
  {
   "cell_type": "code",
   "execution_count": 65,
   "metadata": {
    "id": "V3jRQzEi9Lwy"
   },
   "outputs": [],
   "source": [
    "#stacking up all the features together into a dataframe:\n",
    "X_tr_mlp = pd.DataFrame(np.hstack([X_train_categorical, X_train_age, X_train_time_in_hospital, X_train_num_lab_procedures,\n",
    "                  X_train_num_procedures, X_train_num_medications, X_train_number_outpatient, X_train_number_emergency,\n",
    "                  X_train_number_inpatient, X_train_number_diagnoses]))\n",
    "\n",
    "X_te_mlp = pd.DataFrame(np.hstack([ X_test_categorical, X_test_age, X_test_time_in_hospital, X_test_num_lab_procedures,\n",
    "                  X_test_num_procedures, X_test_num_medications, X_test_number_outpatient, X_test_number_emergency,\n",
    "                  X_test_number_inpatient, X_test_number_diagnoses])) \n",
    "\n",
    "    \n"
   ]
  },
  {
   "cell_type": "code",
   "execution_count": null,
   "metadata": {
    "colab": {
     "base_uri": "https://localhost:8080/"
    },
    "id": "Uwqv9bg19-IX",
    "outputId": "f92cb17e-59b3-4f12-f221-79b18b121f7d"
   },
   "outputs": [
    {
     "data": {
      "text/plain": [
       "(71234, 111)"
      ]
     },
     "execution_count": 37,
     "metadata": {
      "tags": []
     },
     "output_type": "execute_result"
    }
   ],
   "source": [
    "X_tr_mlp.shape"
   ]
  },
  {
   "cell_type": "code",
   "execution_count": 66,
   "metadata": {
    "colab": {
     "base_uri": "https://localhost:8080/"
    },
    "id": "Wgvl20xo7_we",
    "outputId": "c05fc9be-fd2a-4979-bb2e-98c72c3ef5ce"
   },
   "outputs": [
    {
     "name": "stdout",
     "output_type": "stream",
     "text": [
      "Before OverSampling, counts of label '1': 7950\n",
      "Before OverSampling, counts of label '0': 63284 \n",
      "\n"
     ]
    },
    {
     "name": "stderr",
     "output_type": "stream",
     "text": [
      "/usr/local/lib/python3.6/dist-packages/sklearn/utils/deprecation.py:87: FutureWarning: Function safe_indexing is deprecated; safe_indexing is deprecated in version 0.22 and will be removed in version 0.24.\n",
      "  warnings.warn(msg, category=FutureWarning)\n"
     ]
    },
    {
     "name": "stdout",
     "output_type": "stream",
     "text": [
      "After SMOTE, the shape of train_X: (126568, 111)\n",
      "After SMOTE, the shape of train_y: (126568,) \n",
      "\n",
      "After SMOTE, counts of label '1': 63284\n",
      "After SMOTE, counts of label '0': 63284\n"
     ]
    }
   ],
   "source": [
    "#https://www.kaggle.com/qianchao/smote-with-imbalance-data\n",
    "print(\"Before OverSampling, counts of label '1': {}\".format(sum(y_train==1)))\n",
    "print(\"Before OverSampling, counts of label '0': {} \\n\".format(sum(y_train==0)))\n",
    "\n",
    "sm = SMOTE(random_state=2)\n",
    "X_train_res, y_train_res = sm.fit_sample(X_tr_mlp, y_train.ravel())\n",
    "\n",
    "\n",
    "print('After SMOTE, the shape of train_X: {}'.format(X_train_res.shape))\n",
    "print('After SMOTE, the shape of train_y: {} \\n'.format(y_train_res.shape))\n",
    "\n",
    "print(\"After SMOTE, counts of label '1': {}\".format(sum(y_train_res==1)))\n",
    "print(\"After SMOTE, counts of label '0': {}\".format(sum(y_train_res==0)))"
   ]
  },
  {
   "cell_type": "code",
   "execution_count": null,
   "metadata": {
    "colab": {
     "base_uri": "https://localhost:8080/"
    },
    "id": "K09pBiAi-EAy",
    "outputId": "02730cdd-cb4d-4ffa-e4ae-e315bdb5fead"
   },
   "outputs": [
    {
     "data": {
      "text/plain": [
       "(126568, 111)"
      ]
     },
     "execution_count": 107,
     "metadata": {
      "tags": []
     },
     "output_type": "execute_result"
    }
   ],
   "source": [
    "X_train_res.shape"
   ]
  },
  {
   "cell_type": "code",
   "execution_count": 67,
   "metadata": {
    "id": "DKUIZC1t8jJ7"
   },
   "outputs": [],
   "source": [
    "\n",
    "\n",
    "#slicing out the text features, categorical features and numerical features so as to match our model input:\n",
    "\n",
    "X_tr_categorical = X_train_res[:,:102]\n",
    "X_tr_num = X_train_res[:,102:111]\n",
    "\n",
    "X_te_categorical = X_te_mlp.iloc[:,:102]\n",
    "X_te_num = X_te_mlp.iloc[:,102:111]"
   ]
  },
  {
   "cell_type": "code",
   "execution_count": 69,
   "metadata": {
    "colab": {
     "base_uri": "https://localhost:8080/"
    },
    "id": "70c16P6G7_1N",
    "outputId": "06e7d2f3-bf28-42c1-d121-9a4f7273c36b"
   },
   "outputs": [
    {
     "name": "stdout",
     "output_type": "stream",
     "text": [
      "Epoch 1/30\n",
      "1266/1266 [==============================] - 9s 6ms/step - loss: 0.5712 - accuracy: 0.6970 - val_loss: 0.7046 - val_accuracy: 0.5952\n",
      "INFO:tensorflow:Assets written to: drive/MyDrive/model_3/assets\n"
     ]
    },
    {
     "name": "stderr",
     "output_type": "stream",
     "text": [
      "INFO:tensorflow:Assets written to: drive/MyDrive/model_3/assets\n"
     ]
    },
    {
     "name": "stdout",
     "output_type": "stream",
     "text": [
      "Epoch 2/30\n",
      "1266/1266 [==============================] - 8s 6ms/step - loss: 0.4104 - accuracy: 0.7910 - val_loss: 2.1072 - val_accuracy: 0.2301\n",
      "Epoch 3/30\n",
      "1266/1266 [==============================] - 8s 6ms/step - loss: 0.3908 - accuracy: 0.8047 - val_loss: 0.3865 - val_accuracy: 0.8226\n",
      "INFO:tensorflow:Assets written to: drive/MyDrive/model_3/assets\n"
     ]
    },
    {
     "name": "stderr",
     "output_type": "stream",
     "text": [
      "INFO:tensorflow:Assets written to: drive/MyDrive/model_3/assets\n"
     ]
    },
    {
     "name": "stdout",
     "output_type": "stream",
     "text": [
      "Epoch 4/30\n",
      "1266/1266 [==============================] - 8s 6ms/step - loss: 0.3722 - accuracy: 0.8142 - val_loss: 0.4126 - val_accuracy: 0.7841\n",
      "Epoch 5/30\n",
      "1266/1266 [==============================] - 8s 6ms/step - loss: 0.3653 - accuracy: 0.8181 - val_loss: 0.4458 - val_accuracy: 0.7622\n",
      "Epoch 6/30\n",
      "1266/1266 [==============================] - 8s 7ms/step - loss: 0.3566 - accuracy: 0.8228 - val_loss: 0.4111 - val_accuracy: 0.8198\n"
     ]
    },
    {
     "data": {
      "text/plain": [
       "<tensorflow.python.keras.callbacks.History at 0x7f6bbb8842e8>"
      ]
     },
     "execution_count": 69,
     "metadata": {
      "tags": []
     },
     "output_type": "execute_result"
    }
   ],
   "source": [
    "#preparing our final input:\n",
    "X_tr = [X_tr_categorical, X_tr_num]\n",
    "X_te = [X_te_categorical, X_te_num]\n",
    "\n",
    "#adding the callback function of Metrics and finally compiling the model:\n",
    "mc_callback = ModelCheckpoint(filepath='drive/MyDrive/model_3', save_best_only=True)\n",
    "es_callback = tf.keras.callbacks.EarlyStopping(monitor='val_loss', patience=3)\n",
    "callbacks = [Metrics((X_tr, y_train_res), (X_te, y_test)), mc_callback, es_callback]\n",
    "\n",
    "model_3.compile(optimizer=tf.keras.optimizers.Adam(lr=0.0001), loss='binary_crossentropy',metrics=['accuracy'])\n",
    "model_3.fit(X_tr, y_train_res, batch_size=100,epochs= 30, validation_data=(X_te, y_test), callbacks=callbacks ) "
   ]
  },
  {
   "cell_type": "code",
   "execution_count": 71,
   "metadata": {
    "colab": {
     "base_uri": "https://localhost:8080/",
     "height": 311
    },
    "id": "pEtjXs7fthK7",
    "outputId": "068a992c-f3e9-43a3-d5a5-b2bbb9e09a84"
   },
   "outputs": [
    {
     "data": {
      "image/png": "[encoded data removed]",
      "text/plain": [
       "<Figure size 432x288 with 2 Axes>"
      ]
     },
     "metadata": {
      "needs_background": "light",
      "tags": []
     },
     "output_type": "display_data"
    }
   ],
   "source": [
    "from sklearn.metrics import confusion_matrix\n",
    "y_test_pred = np.round(np.asarray(model_3.predict(X_te)))\n",
    "cm3=confusion_matrix(y_test,y_test_pred)\n",
    "class_names = [0,1]\n",
    "plt.figure()\n",
    "plot_confusion_matrix(cm3 , classes=class_names, title='Confusion matrix')\n",
    "plt.show()"
   ]
  },
  {
   "cell_type": "code",
   "execution_count": 73,
   "metadata": {
    "colab": {
     "base_uri": "https://localhost:8080/",
     "height": 295
    },
    "id": "MzHamz8Z7_5Q",
    "outputId": "ea7d29b4-de5f-4371-ae62-76140023fe9a"
   },
   "outputs": [
    {
     "data": {
      "image/png": "[encoded data removed]",
      "text/plain": [
       "<Figure size 432x288 with 1 Axes>"
      ]
     },
     "metadata": {
      "needs_background": "light",
      "tags": []
     },
     "output_type": "display_data"
    }
   ],
   "source": [
    "import matplotlib.pyplot as plt\n",
    "\n",
    "auc_train = callbacks[0].auc_train\n",
    "auc_val = callbacks[0].auc_val\n",
    "plt.plot(list(range(6)), auc_train)\n",
    "plt.plot(list(range(6)), auc_val)\n",
    "plt.title('model_3 AUC')\n",
    "plt.legend(['train', 'val'], loc='upper left')\n",
    "plt.ylabel('AUC')\n",
    "plt.xlabel('epoch')\n",
    "plt.show()"
   ]
  },
  {
   "cell_type": "code",
   "execution_count": 74,
   "metadata": {
    "colab": {
     "base_uri": "https://localhost:8080/"
    },
    "id": "peGHwGzXAf_3",
    "outputId": "d9135216-f3fd-4bc1-ddbf-368e6a9fff07"
   },
   "outputs": [
    {
     "data": {
      "text/plain": [
       "[0.664125649168204,\n",
       " 0.6111251971838257,\n",
       " 0.7187482269539234,\n",
       " 0.7095866019740421,\n",
       " 0.7153080184206007,\n",
       " 0.6950029391916361]"
      ]
     },
     "execution_count": 74,
     "metadata": {
      "tags": []
     },
     "output_type": "execute_result"
    }
   ],
   "source": [
    "callbacks[0].auc_val"
   ]
  },
  {
   "cell_type": "code",
   "execution_count": 75,
   "metadata": {
    "colab": {
     "base_uri": "https://localhost:8080/",
     "height": 295
    },
    "id": "rlBB2Mf2AgJT",
    "outputId": "95aafae5-b58c-421c-99bc-4062639c76c3"
   },
   "outputs": [
    {
     "data": {
      "image/png": "[encoded data removed]",
      "text/plain": [
       "<Figure size 432x288 with 1 Axes>"
      ]
     },
     "metadata": {
      "needs_background": "light",
      "tags": []
     },
     "output_type": "display_data"
    }
   ],
   "source": [
    "\n",
    "recall_tr = callbacks[0].recall_tr\n",
    "recall_val = callbacks[0].recall_val\n",
    "plt.plot(list(range(6)), recall_tr)\n",
    "plt.plot(list(range(6)), recall_val)\n",
    "plt.title('model_3 recall')\n",
    "plt.legend(['train', 'val'], loc='upper left')\n",
    "plt.ylabel('recall')\n",
    "plt.xlabel('epoch')\n",
    "plt.show()"
   ]
  },
  {
   "cell_type": "code",
   "execution_count": 76,
   "metadata": {
    "colab": {
     "base_uri": "https://localhost:8080/"
    },
    "id": "kl-2YSJfAgQq",
    "outputId": "1229cefa-4c28-46ae-d50b-60fbdf5456c8"
   },
   "outputs": [
    {
     "data": {
      "text/plain": [
       "[0.6668623422365718,\n",
       " 0.9289697681244496,\n",
       " 0.25242148517757557,\n",
       " 0.3372468447314353,\n",
       " 0.4223657176401526,\n",
       " 0.2582917522747285]"
      ]
     },
     "execution_count": 76,
     "metadata": {
      "tags": []
     },
     "output_type": "execute_result"
    }
   ],
   "source": [
    "callbacks[0].recall_val"
   ]
  },
  {
   "cell_type": "code",
   "execution_count": null,
   "metadata": {
    "colab": {
     "base_uri": "https://localhost:8080/"
    },
    "id": "CIoHwQVOC_tb",
    "outputId": "8370fe9e-23bc-4fad-d3f0-0b9f39f5732c"
   },
   "outputs": [
    {
     "data": {
      "text/plain": [
       "0.2956266510126211"
      ]
     },
     "execution_count": 47,
     "metadata": {
      "tags": []
     },
     "output_type": "execute_result"
    }
   ],
   "source": [
    "np.mean(callbacks[0].recall_val)"
   ]
  },
  {
   "cell_type": "code",
   "execution_count": 77,
   "metadata": {
    "colab": {
     "base_uri": "https://localhost:8080/",
     "height": 295
    },
    "id": "UsJXx8ITAgZA",
    "outputId": "744d860b-4700-4c78-9d15-90cb7d10cf30"
   },
   "outputs": [
    {
     "data": {
      "image/png": "[encoded data removed]",
      "text/plain": [
       "<Figure size 432x288 with 1 Axes>"
      ]
     },
     "metadata": {
      "needs_background": "light",
      "tags": []
     },
     "output_type": "display_data"
    }
   ],
   "source": [
    "f1_tr = callbacks[0].f1_tr\n",
    "f1_val = callbacks[0].f1_val\n",
    "plt.plot(list(range(6)), f1_tr)\n",
    "plt.plot(list(range(6)), f1_val)\n",
    "plt.title('model_3 f1')\n",
    "plt.legend(['train', 'val'], loc='upper left')\n",
    "plt.ylabel('macro f1 score')\n",
    "plt.xlabel('epoch')\n",
    "plt.show()"
   ]
  },
  {
   "cell_type": "code",
   "execution_count": 78,
   "metadata": {
    "colab": {
     "base_uri": "https://localhost:8080/"
    },
    "id": "5m-Vq3sRAgd9",
    "outputId": "79797d21-ea6f-4705-b901-c4a5f06d563b"
   },
   "outputs": [
    {
     "data": {
      "text/plain": [
       "[0.49447017258318016,\n",
       " 0.22967073104085234,\n",
       " 0.5702697787394758,\n",
       " 0.5660936073993235,\n",
       " 0.5706304972380155,\n",
       " 0.5700160795649529]"
      ]
     },
     "execution_count": 78,
     "metadata": {
      "tags": []
     },
     "output_type": "execute_result"
    }
   ],
   "source": [
    "callbacks[0].f1_val"
   ]
  },
  {
   "cell_type": "markdown",
   "metadata": {
    "id": "2Lbl0seNsEfo"
   },
   "source": [
    "# Model_4 (Simple MLP)"
   ]
  },
  {
   "cell_type": "code",
   "execution_count": 79,
   "metadata": {
    "colab": {
     "base_uri": "https://localhost:8080/"
    },
    "id": "zPgdmcfasCSy",
    "outputId": "459c4547-02dc-4ca6-c1b6-d57b98b052a0"
   },
   "outputs": [
    {
     "name": "stdout",
     "output_type": "stream",
     "text": [
      "Model: \"model\"\n",
      "_________________________________________________________________\n",
      "Layer (type)                 Output Shape              Param #   \n",
      "=================================================================\n",
      "input (InputLayer)           [(None, 111)]             0         \n",
      "_________________________________________________________________\n",
      "dense (Dense)                (None, 16)                1792      \n",
      "_________________________________________________________________\n",
      "batch_normalization (BatchNo (None, 16)                64        \n",
      "_________________________________________________________________\n",
      "dense_1 (Dense)              (None, 16)                272       \n",
      "_________________________________________________________________\n",
      "batch_normalization_1 (Batch (None, 16)                64        \n",
      "_________________________________________________________________\n",
      "dense_6 (Dense)              (None, 1)                 17        \n",
      "=================================================================\n",
      "Total params: 2,209\n",
      "Trainable params: 2,145\n",
      "Non-trainable params: 64\n",
      "_________________________________________________________________\n"
     ]
    }
   ],
   "source": [
    "import os\n",
    "%reload_ext tensorboard\n",
    "os.environ['PYTHONHASHSEED'] = '0'\n",
    "tf.keras.backend.clear_session()\n",
    "!rm -rf ./logs/\n",
    "np.random.seed(0)\n",
    "rn.seed(0)\n",
    "batch_size=100\n",
    "\n",
    "#final concatenation = categorical + numerical\n",
    "input = Input(shape=(111,), name='input')\n",
    "\n",
    "#adding a dense layer:\n",
    "dense1 = Dense(16,activation='relu', kernel_initializer=tf.keras.initializers.GlorotNormal())(input)\n",
    "#adding a normalization layer:\n",
    "norm1 = BatchNormalization()(dense1)\n",
    "#another dense layer\n",
    "dense2 = Dense(16,activation='relu', kernel_initializer=tf.keras.initializers.GlorotNormal())(norm1)\n",
    "#another normalization layer:\n",
    "norm2 = BatchNormalization()(dense2)\n",
    "\n",
    "#another dense layer\n",
    "dense3 = Dense(16,activation='sigmoid', kernel_initializer=tf.keras.initializers.GlorotNormal())(norm2)\n",
    "#another dense layer\n",
    "dense4 = Dense(16,activation='relu', kernel_initializer=tf.keras.initializers.GlorotNormal())(dense3)\n",
    "#final output layer:\n",
    "dense5 = Dense(16,activation='relu', kernel_initializer=tf.keras.initializers.HeNormal())(dense4)\n",
    "dense6 = Dense(16,activation='relu', kernel_initializer=tf.keras.initializers.HeNormal())(dense5)\n",
    "\n",
    "\n",
    "output = Dense(1, activation='sigmoid', kernel_initializer=tf.keras.initializers.GlorotNormal())(norm2)\n",
    "\n",
    "model_4 = Model(inputs=input, outputs=output)\n",
    "model_4.summary()"
   ]
  },
  {
   "cell_type": "code",
   "execution_count": null,
   "metadata": {
    "colab": {
     "base_uri": "https://localhost:8080/",
     "height": 564
    },
    "id": "c3yGj-f7sCXv",
    "outputId": "b2181522-9207-4472-a6d7-969fe50faad4"
   },
   "outputs": [
    {
     "data": {
      "image/png": "[encoded data removed]",
      "text/plain": [
       "<IPython.core.display.Image object>"
      ]
     },
     "execution_count": 137,
     "metadata": {
      "tags": []
     },
     "output_type": "execute_result"
    }
   ],
   "source": [
    "tf.keras.utils.plot_model(model_4)"
   ]
  },
  {
   "cell_type": "code",
   "execution_count": null,
   "metadata": {
    "id": "HkR_aWvvsCa6"
   },
   "outputs": [],
   "source": []
  },
  {
   "cell_type": "code",
   "execution_count": 80,
   "metadata": {
    "colab": {
     "base_uri": "https://localhost:8080/"
    },
    "id": "5HXEKEgPsCfP",
    "outputId": "ef83ac61-c031-46f9-cfe6-86f79b3cd3db"
   },
   "outputs": [
    {
     "name": "stdout",
     "output_type": "stream",
     "text": [
      "Epoch 1/30\n",
      "2532/2532 [==============================] - 11s 4ms/step - loss: 0.7460 - accuracy: 0.5760 - val_loss: 0.6455 - val_accuracy: 0.6637\n",
      "INFO:tensorflow:Assets written to: drive/MyDrive/model_4/assets\n"
     ]
    },
    {
     "name": "stderr",
     "output_type": "stream",
     "text": [
      "INFO:tensorflow:Assets written to: drive/MyDrive/model_4/assets\n"
     ]
    },
    {
     "name": "stdout",
     "output_type": "stream",
     "text": [
      "Epoch 2/30\n",
      "2532/2532 [==============================] - 10s 4ms/step - loss: 0.6148 - accuracy: 0.6688 - val_loss: 0.6227 - val_accuracy: 0.6710\n",
      "INFO:tensorflow:Assets written to: drive/MyDrive/model_4/assets\n"
     ]
    },
    {
     "name": "stderr",
     "output_type": "stream",
     "text": [
      "INFO:tensorflow:Assets written to: drive/MyDrive/model_4/assets\n"
     ]
    },
    {
     "name": "stdout",
     "output_type": "stream",
     "text": [
      "Epoch 3/30\n",
      "2532/2532 [==============================] - 10s 4ms/step - loss: 0.5975 - accuracy: 0.6851 - val_loss: 0.6155 - val_accuracy: 0.6581\n",
      "INFO:tensorflow:Assets written to: drive/MyDrive/model_4/assets\n"
     ]
    },
    {
     "name": "stderr",
     "output_type": "stream",
     "text": [
      "INFO:tensorflow:Assets written to: drive/MyDrive/model_4/assets\n"
     ]
    },
    {
     "name": "stdout",
     "output_type": "stream",
     "text": [
      "Epoch 4/30\n",
      "2532/2532 [==============================] - 9s 4ms/step - loss: 0.5927 - accuracy: 0.6904 - val_loss: 0.6245 - val_accuracy: 0.6418\n",
      "Epoch 5/30\n",
      "2532/2532 [==============================] - 9s 4ms/step - loss: 0.5877 - accuracy: 0.6935 - val_loss: 0.6144 - val_accuracy: 0.6353\n",
      "INFO:tensorflow:Assets written to: drive/MyDrive/model_4/assets\n"
     ]
    },
    {
     "name": "stderr",
     "output_type": "stream",
     "text": [
      "INFO:tensorflow:Assets written to: drive/MyDrive/model_4/assets\n"
     ]
    },
    {
     "name": "stdout",
     "output_type": "stream",
     "text": [
      "Epoch 6/30\n",
      "2532/2532 [==============================] - 10s 4ms/step - loss: 0.5838 - accuracy: 0.6953 - val_loss: 0.6106 - val_accuracy: 0.6373\n",
      "INFO:tensorflow:Assets written to: drive/MyDrive/model_4/assets\n"
     ]
    },
    {
     "name": "stderr",
     "output_type": "stream",
     "text": [
      "INFO:tensorflow:Assets written to: drive/MyDrive/model_4/assets\n"
     ]
    },
    {
     "name": "stdout",
     "output_type": "stream",
     "text": [
      "Epoch 7/30\n",
      "2532/2532 [==============================] - 10s 4ms/step - loss: 0.5804 - accuracy: 0.6990 - val_loss: 0.6238 - val_accuracy: 0.6236\n",
      "Epoch 8/30\n",
      "2532/2532 [==============================] - 10s 4ms/step - loss: 0.5793 - accuracy: 0.6995 - val_loss: 0.6257 - val_accuracy: 0.6203\n",
      "Epoch 9/30\n",
      "2532/2532 [==============================] - 9s 4ms/step - loss: 0.5748 - accuracy: 0.7043 - val_loss: 0.6030 - val_accuracy: 0.6279\n",
      "INFO:tensorflow:Assets written to: drive/MyDrive/model_4/assets\n"
     ]
    },
    {
     "name": "stderr",
     "output_type": "stream",
     "text": [
      "INFO:tensorflow:Assets written to: drive/MyDrive/model_4/assets\n"
     ]
    },
    {
     "name": "stdout",
     "output_type": "stream",
     "text": [
      "Epoch 10/30\n",
      "2532/2532 [==============================] - 10s 4ms/step - loss: 0.5736 - accuracy: 0.7037 - val_loss: 0.6237 - val_accuracy: 0.6164\n",
      "Epoch 11/30\n",
      "2532/2532 [==============================] - 9s 4ms/step - loss: 0.5706 - accuracy: 0.7084 - val_loss: 0.6227 - val_accuracy: 0.6114\n",
      "Epoch 12/30\n",
      "2532/2532 [==============================] - 10s 4ms/step - loss: 0.5712 - accuracy: 0.7068 - val_loss: 0.6068 - val_accuracy: 0.6196\n"
     ]
    },
    {
     "data": {
      "text/plain": [
       "<tensorflow.python.keras.callbacks.History at 0x7f6bbe2fbf28>"
      ]
     },
     "execution_count": 80,
     "metadata": {
      "tags": []
     },
     "output_type": "execute_result"
    }
   ],
   "source": [
    "\n",
    "#adding the callback function of Metrics and finally compiling the model:\n",
    "mc_callback = ModelCheckpoint(filepath='drive/MyDrive/model_4', save_best_only=True)\n",
    "es_callback = tf.keras.callbacks.EarlyStopping(monitor='val_loss', patience=3)\n",
    "callbacks = [Metrics((X_train_res, y_train_res), (X_te_mlp, y_test)), mc_callback, es_callback]\n",
    "\n",
    "model_4.compile(optimizer=tf.keras.optimizers.Adam(lr=0.0001), loss='binary_crossentropy',metrics=['accuracy'])\n",
    "model_4.fit(X_train_res, y_train_res, batch_size=50,epochs= 30, validation_data=(X_te_mlp, y_test), callbacks=callbacks ) "
   ]
  },
  {
   "cell_type": "code",
   "execution_count": 82,
   "metadata": {
    "colab": {
     "base_uri": "https://localhost:8080/",
     "height": 311
    },
    "id": "vM-71fA3v_3f",
    "outputId": "d58d0b6f-2ef2-4a52-dd97-1c7cf728f22e"
   },
   "outputs": [
    {
     "data": {
      "image/png": "[encoded data removed]",
      "text/plain": [
       "<Figure size 432x288 with 2 Axes>"
      ]
     },
     "metadata": {
      "needs_background": "light",
      "tags": []
     },
     "output_type": "display_data"
    }
   ],
   "source": [
    "from sklearn.metrics import confusion_matrix\n",
    "y_test_pred = np.round(np.asarray(model_4.predict(X_te_mlp)))\n",
    "cm4=confusion_matrix(y_test,y_test_pred)\n",
    "class_names = [0,1]\n",
    "plt.figure()\n",
    "plot_confusion_matrix(cm4 , classes=class_names, title='Confusion matrix')\n",
    "plt.show()"
   ]
  },
  {
   "cell_type": "code",
   "execution_count": 84,
   "metadata": {
    "colab": {
     "base_uri": "https://localhost:8080/",
     "height": 295
    },
    "id": "_C3sqMAasCio",
    "outputId": "ff566dbd-1579-44f4-a00b-ccdfdfba8033"
   },
   "outputs": [
    {
     "data": {
      "image/png": "[encoded data removed]",
      "text/plain": [
       "<Figure size 432x288 with 1 Axes>"
      ]
     },
     "metadata": {
      "needs_background": "light",
      "tags": []
     },
     "output_type": "display_data"
    }
   ],
   "source": [
    "import matplotlib.pyplot as plt\n",
    "\n",
    "auc_train = callbacks[0].auc_train\n",
    "auc_val = callbacks[0].auc_val\n",
    "plt.plot(list(range(12)), auc_train)\n",
    "plt.plot(list(range(12)), auc_val)\n",
    "plt.title('model_4 AUC')\n",
    "plt.legend(['train', 'val'], loc='upper left')\n",
    "plt.ylabel('AUC')\n",
    "plt.xlabel('epoch')\n",
    "plt.show()"
   ]
  },
  {
   "cell_type": "code",
   "execution_count": 85,
   "metadata": {
    "colab": {
     "base_uri": "https://localhost:8080/"
    },
    "id": "zsUrxrOnu2Ib",
    "outputId": "9c007ee4-7c69-478b-be7d-ebbaf2632344"
   },
   "outputs": [
    {
     "data": {
      "text/plain": [
       "[0.7177887381491533,\n",
       " 0.7299277494849719,\n",
       " 0.7341462396878992,\n",
       " 0.7362040038909594,\n",
       " 0.7390379828443755,\n",
       " 0.7407406481562252,\n",
       " 0.7404058342918807,\n",
       " 0.7399243773765583,\n",
       " 0.7406670398592174,\n",
       " 0.7389857741956084,\n",
       " 0.7379265917071889,\n",
       " 0.738489718986745]"
      ]
     },
     "execution_count": 85,
     "metadata": {
      "tags": []
     },
     "output_type": "execute_result"
    }
   ],
   "source": [
    "callbacks[0].auc_val"
   ]
  },
  {
   "cell_type": "code",
   "execution_count": 86,
   "metadata": {
    "colab": {
     "base_uri": "https://localhost:8080/",
     "height": 295
    },
    "id": "LUvXs9u4sCmK",
    "outputId": "20610f61-6304-4d4c-a959-fc6607eb5c68"
   },
   "outputs": [
    {
     "data": {
      "image/png": "[encoded data removed]",
      "text/plain": [
       "<Figure size 432x288 with 1 Axes>"
      ]
     },
     "metadata": {
      "needs_background": "light",
      "tags": []
     },
     "output_type": "display_data"
    }
   ],
   "source": [
    "\n",
    "recall_tr = callbacks[0].recall_tr\n",
    "recall_val = callbacks[0].recall_val\n",
    "plt.plot(list(range(12)), recall_tr)\n",
    "plt.plot(list(range(12)), recall_val)\n",
    "plt.title('model_4 recall')\n",
    "plt.legend(['train', 'val'], loc='upper left')\n",
    "plt.ylabel('recall')\n",
    "plt.xlabel('epoch')\n",
    "plt.show()"
   ]
  },
  {
   "cell_type": "code",
   "execution_count": 87,
   "metadata": {
    "colab": {
     "base_uri": "https://localhost:8080/"
    },
    "id": "iICiyfjeu5AE",
    "outputId": "4c71fa36-49df-4d82-fc42-e18076137d5b"
   },
   "outputs": [
    {
     "data": {
      "text/plain": [
       "[0.6618726152039918,\n",
       " 0.691517464044614,\n",
       " 0.7182271793366598,\n",
       " 0.7417082477252716,\n",
       " 0.7563839154681538,\n",
       " 0.7552098620487232,\n",
       " 0.7795714705019078,\n",
       " 0.7789844437921926,\n",
       " 0.7698855297916055,\n",
       " 0.7869093043733489,\n",
       " 0.7898444379219255,\n",
       " 0.7825066040504843]"
      ]
     },
     "execution_count": 87,
     "metadata": {
      "tags": []
     },
     "output_type": "execute_result"
    }
   ],
   "source": [
    "callbacks[0].recall_val"
   ]
  },
  {
   "cell_type": "code",
   "execution_count": 88,
   "metadata": {
    "colab": {
     "base_uri": "https://localhost:8080/",
     "height": 295
    },
    "id": "dmHkEJfisC2N",
    "outputId": "ffd20db6-04e7-4e03-b05d-4925b7731a17"
   },
   "outputs": [
    {
     "data": {
      "image/png": "[encoded data removed]",
      "text/plain": [
       "<Figure size 432x288 with 1 Axes>"
      ]
     },
     "metadata": {
      "needs_background": "light",
      "tags": []
     },
     "output_type": "display_data"
    }
   ],
   "source": [
    "f1_tr = callbacks[0].f1_tr\n",
    "f1_val = callbacks[0].f1_val\n",
    "plt.plot(list(range(12)), f1_tr)\n",
    "plt.plot(list(range(12)), f1_val)\n",
    "plt.title('model_4 f1')\n",
    "plt.legend(['train', 'val'], loc='upper left')\n",
    "plt.ylabel('macro f1 score')\n",
    "plt.xlabel('epoch')\n",
    "plt.show()"
   ]
  },
  {
   "cell_type": "code",
   "execution_count": 89,
   "metadata": {
    "colab": {
     "base_uri": "https://localhost:8080/"
    },
    "id": "k5W0qIC2sC6G",
    "outputId": "67b47ba4-3dd3-46a5-f45e-d97cf06ec081"
   },
   "outputs": [
    {
     "data": {
      "text/plain": [
       "[0.5416865617288401,\n",
       " 0.5511827525105611,\n",
       " 0.545493289406503,\n",
       " 0.5367375547492167,\n",
       " 0.5338971892502395,\n",
       " 0.5351715073841294,\n",
       " 0.5282693789388276,\n",
       " 0.5257914201183431,\n",
       " 0.5302060611553265,\n",
       " 0.5239362854690114,\n",
       " 0.520622118378097,\n",
       " 0.525687046866294]"
      ]
     },
     "execution_count": 89,
     "metadata": {
      "tags": []
     },
     "output_type": "execute_result"
    }
   ],
   "source": [
    "callbacks[0].f1_val"
   ]
  },
  {
   "cell_type": "markdown",
   "metadata": {
    "id": "dNZ93Nul2h2G"
   },
   "source": [
    "# Summary"
   ]
  },
  {
   "cell_type": "code",
   "execution_count": null,
   "metadata": {
    "colab": {
     "base_uri": "https://localhost:8080/"
    },
    "id": "OVVPzqZ-2h2G",
    "outputId": "eaf98b17-680d-4ce5-a319-83a77661ce75"
   },
   "outputs": [
    {
     "name": "stdout",
     "output_type": "stream",
     "text": [
      "| Model                                     |   roc_auc_score |   accuracy |   recall |   macro-f1 |\n",
      "|-------------------------------------------+-----------------+------------+----------+------------|\n",
      "| Log. Reg. without Text (SMOTE)            |            0.7  |       0.73 |     0.55 |       0.57 |\n",
      "| Decision Tree without Text                |            0.48 |       0.25 |     0.79 |       0.25 |\n",
      "| Random Forest without Text (SMOTE)        |            0.66 |       0.79 |     0.28 |       0.56 |\n",
      "| XGBoost without Text (SMOTE)              |            0.61 |       0.43 |     0.77 |       0.39 |\n",
      "| Log Reg with text (BoW,No SMOTE)          |            0.71 |       0.89 |     0.04 |       0.51 |\n",
      "| Decision Tree with text (BoW, No SMOTE)   |            0.58 |       0.76 |     0.3  |       0.54 |\n",
      "| Random Forest with text (BoW, No SMOTE)   |            0.69 |       0.88 |     0.03 |       0.5  |\n",
      "| XGBoost with text (BoW, No SMOTE)         |            0.78 |       0.89 |     0.03 |       0.5  |\n",
      "| Log Reg with text (TfIDF, No SMOTE)       |            0.71 |       0.89 |     0.04 |       0.51 |\n",
      "| Decision Tree with text (TfIDF, No SMOTE) |            0.58 |       0.8  |     0.23 |       0.54 |\n",
      "| Random Forest with text (TfIDF, No SMOTE) |            0.68 |       0.89 |     0.03 |       0.49 |\n",
      "| XGBoost with text (TfIDF, No SMOTE)       |            0.78 |       0.89 |     0.03 |       0.5  |\n",
      "| LSTM Model_1 with text (No SMOTE)         |            0.74 |       0.89 |     0.14 |       0.56 |\n",
      "| LSTM-Conv1D Model_2 with text (No SMOTE)  |            0.76 |       0.89 |     0.06 |       0.52 |\n",
      "| Conv1D Model_3 without text (SMOTE)       |            0.75 |       0.88 |     0.36 |       0.57 |\n",
      "| Simple MLP Model_4 without text (SMOTE)   |            0.74 |       0.67 |     0.79 |       0.55 |\n"
     ]
    }
   ],
   "source": [
    "from tabulate import tabulate\n",
    "print(tabulate([['Log. Reg. without Text (SMOTE)',0.70,0.73, 0.55, 0.57],['Decision Tree without Text',0.48,0.25, 0.79, 0.25],\n",
    "                ['Random Forest without Text (SMOTE)',0.66,0.79,0.28, 0.56],\n",
    "               ['XGBoost without Text (SMOTE)', 0.61, 0.43,  0.77, 0.39],\n",
    "               ['Log Reg with text (BoW,No SMOTE)', 0.71,0.89,0.04, 0.51],\n",
    "               ['Decision Tree with text (BoW, No SMOTE)', 0.58, 0.76,0.30, 0.54],\n",
    "               ['Random Forest with text (BoW, No SMOTE)', 0.69, 0.88,0.03, 0.50],\n",
    "               ['XGBoost with text (BoW, No SMOTE)', 0.78,0.89,0.03, 0.50],\n",
    "               ['Log Reg with text (TfIDF, No SMOTE)', 0.71,0.89,0.04, 0.51],\n",
    "               ['Decision Tree with text (TfIDF, No SMOTE)', 0.58,0.80,0.23, 0.54],\n",
    "               ['Random Forest with text (TfIDF, No SMOTE)', 0.68, 0.89,0.03, 0.49],\n",
    "               ['XGBoost with text (TfIDF, No SMOTE)', 0.78,0.89,0.03, 0.50],\n",
    "               ['LSTM Model_1 with text (No SMOTE)', 0.74,0.89,0.14, 0.56],\n",
    "               ['LSTM-Conv1D Model_2 with text (No SMOTE)', 0.76,0.89,0.06, 0.52],\n",
    "               ['Conv1D Model_3 without text (SMOTE)', 0.75,0.88,0.36, 0.57],\n",
    "               ['Simple MLP Model_4 without text (SMOTE)', 0.74,0.67,0.79, 0.55]],\n",
    "headers=['Model','roc_auc_score','accuracy','recall', 'macro-f1'], tablefmt='orgtbl'))"
   ]
  },
  {
   "cell_type": "markdown",
   "metadata": {
    "id": "XURkZsMy2h2G"
   },
   "source": [
    "# Conclusion:\n",
    "* I should focus on recall score as our metric because it is a medical issue.\n",
    "* But since data is unbalanced I cannot ignore macro F1 score. \n",
    "* When it is about recall, it is a tie between Decision Tree without Text and Simple MLP Model_4 without text (SMOTE). \n",
    "* when it is about f1_score, it is a tie between Log. Reg. without Text (SMOTE)  and Conv1D Model_3 without text (SMOTE).\n",
    "* Overall, considering f1 as our main metric, Log. Reg. without Text (SMOTE) is the best model."
   ]
  },
  {
   "cell_type": "code",
   "execution_count": null,
   "metadata": {},
   "outputs": [],
   "source": []
  }
 ],
 "metadata": {
  "accelerator": "GPU",
  "colab": {
   "name": "CS1_Training.ipynb",
   "provenance": []
  },
  "kernelspec": {
   "display_name": "Python 3",
   "language": "python",
   "name": "python3"
  },
  "language_info": {
   "codemirror_mode": {
    "name": "ipython",
    "version": 3
   },
   "file_extension": ".py",
   "mimetype": "text/x-python",
   "name": "python",
   "nbconvert_exporter": "python",
   "pygments_lexer": "ipython3",
   "version": "3.6.5"
  }
 },
 "nbformat": 4,
 "nbformat_minor": 1
}
